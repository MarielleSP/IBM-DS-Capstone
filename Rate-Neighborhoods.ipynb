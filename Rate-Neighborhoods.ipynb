{
 "cells": [
  {
   "cell_type": "markdown",
   "metadata": {},
   "source": [
    "# Rate Neighborhoods"
   ]
  },
  {
   "cell_type": "markdown",
   "metadata": {},
   "source": [
    "## Introduction\n",
    "\n",
    "Completed as the Capstone Project for IBM Professional Certificate in Data Science.\n",
    "\n",
    "### Business Question\n",
    "\n",
    "For a real estate company, **how can we more efficiently sell houses** (or rent apartments)? A major factor in home buyers' decision is the neighborhood surrounding the home. i.e., What businesses and services are nearby? This tool will allow buyers to select their top venue types and will generate a score for each neighborhood based on the buyers' desired features. This will allow real estate agents to focus on neighborhoods that are more suited to the buyers' needs, reducing time wasted on unproductive leads. \n",
    "\n",
    "\n",
    "## Methodology\n",
    "\n",
    "\n",
    "### Data Collection\n",
    "\n",
    "Inputs: neighborhood or postal code location; buyer's prefered venues\n",
    "\n",
    "Outputs: neighborhood score from 0 (worst) to 100 (best) \n",
    "\n",
    "Data Needs: \n",
    "- What types of businesses and services are located within a given radius from a given location. (Foursquare API)\n",
    "\n",
    "\n",
    "### Data Visualization\n",
    "\n",
    "A map of the city will be generated with neighborhoods color-coded based on their neighborhood score (high score = green ; low score = purple). \n",
    "\n",
    "\n",
    "### Data Manipulation\n",
    "\n",
    "- A list of neighborhoods and their location is obtained from Wikipedia \n",
    "    - using pandas built-in read_html method\n",
    "- A list of venue categories is scraped from the Foursquare website\n",
    "    - using BeautifulSoup \n",
    "- A list of venues and their categories within each neighborhood is obtained from Foursquare\n",
    "    - using API requests\n",
    "- The venue categories are checked against the user preferences. \n",
    "- Neighborhoods with a greater number of venues within the user preferences are ranked more highly. \n",
    "    - At this time, all venue types within the user preference lists are equally weighted. \n",
    "    \n",
    "    - The users' prefence lists may be of variable length. For example (see below), User 1 is happy with any restuarant type, which means that User 1 will have a greater number of preferred venues in total; this imbalance inevitably skews the results towards User 1's preferences. In order that both users have their preferences more equally weighted, I normalize the number of preferred venues by the number of venue types preferred for each user. \n",
    "    \n",
    "    - Scores for each user are added to get the total score for the neighborhood.\n",
    "    \n",
    "    - All scores are divided by the maximum score and multiplied by 100 so that the maximum score is scaled to 100. \n",
    "\n",
    "\n",
    "\n",
    "##### For Development and Testing Purposes\n",
    "\n",
    "- two users with pre-defined preferences\n",
    "    \n",
    "\n",
    "|     User 1's preferences :    |    User 2's preferences :   |\n",
    "|-------------------------------|-----------------------------|\n",
    "|  Restaurant - any type        |   Football Stadium          |\n",
    "|  Parks                        |   Music Venues              |\n",
    "|  Church                       |   Nightlife Spot - any type |\n",
    "|  Library                      |   Music Festivals           |\n",
    "|  Elementary School            |   Mexican Restaurants       |\n",
    " \n",
    "  \n",
    "- the city is pre-defined as New Orleans, LA\n",
    "    - with latitude and longitude of neighborhoods available in a Wikipedia table\n",
    "\n",
    "- The number of venues is limited to 50 per neighborhood"
   ]
  },
  {
   "cell_type": "code",
   "execution_count": 2,
   "metadata": {},
   "outputs": [
    {
     "name": "stdout",
     "output_type": "stream",
     "text": [
      "Python 3.7.3\n"
     ]
    }
   ],
   "source": [
    "!python -V"
   ]
  },
  {
   "cell_type": "code",
   "execution_count": 3,
   "metadata": {},
   "outputs": [
    {
     "data": {
      "text/plain": [
       "'1.16.2'"
      ]
     },
     "execution_count": 3,
     "metadata": {},
     "output_type": "execute_result"
    }
   ],
   "source": [
    "import numpy as np\n",
    "np.__version__"
   ]
  },
  {
   "cell_type": "code",
   "execution_count": 4,
   "metadata": {},
   "outputs": [
    {
     "data": {
      "text/plain": [
       "'1.1.0'"
      ]
     },
     "execution_count": 4,
     "metadata": {},
     "output_type": "execute_result"
    }
   ],
   "source": [
    "import pandas as pd\n",
    "pd.__version__"
   ]
  },
  {
   "cell_type": "code",
   "execution_count": 5,
   "metadata": {},
   "outputs": [],
   "source": [
    "from pandas.io.json import json_normalize"
   ]
  },
  {
   "cell_type": "code",
   "execution_count": 6,
   "metadata": {},
   "outputs": [],
   "source": [
    "from geopy.geocoders import Nominatim # convert an address into latitude and longitude values"
   ]
  },
  {
   "cell_type": "code",
   "execution_count": 7,
   "metadata": {},
   "outputs": [
    {
     "data": {
      "text/plain": [
       "'2.0.9'"
      ]
     },
     "execution_count": 7,
     "metadata": {},
     "output_type": "execute_result"
    }
   ],
   "source": [
    "import json\n",
    "json.__version__"
   ]
  },
  {
   "cell_type": "code",
   "execution_count": 8,
   "metadata": {},
   "outputs": [
    {
     "data": {
      "text/plain": [
       "'2.18.3'"
      ]
     },
     "execution_count": 8,
     "metadata": {},
     "output_type": "execute_result"
    }
   ],
   "source": [
    "import requests\n",
    "requests.__version__"
   ]
  },
  {
   "cell_type": "code",
   "execution_count": 9,
   "metadata": {},
   "outputs": [
    {
     "data": {
      "text/plain": [
       "'0.5.0'"
      ]
     },
     "execution_count": 9,
     "metadata": {},
     "output_type": "execute_result"
    }
   ],
   "source": [
    "import folium\n",
    "folium.__version__"
   ]
  },
  {
   "cell_type": "code",
   "execution_count": 10,
   "metadata": {},
   "outputs": [],
   "source": [
    "from time import sleep"
   ]
  },
  {
   "cell_type": "code",
   "execution_count": 11,
   "metadata": {},
   "outputs": [],
   "source": [
    "from dotenv import load_dotenv"
   ]
  },
  {
   "cell_type": "code",
   "execution_count": 12,
   "metadata": {},
   "outputs": [],
   "source": [
    "import os"
   ]
  },
  {
   "cell_type": "code",
   "execution_count": 13,
   "metadata": {},
   "outputs": [
    {
     "data": {
      "text/plain": [
       "'2.2.1'"
      ]
     },
     "execution_count": 13,
     "metadata": {},
     "output_type": "execute_result"
    }
   ],
   "source": [
    "import re\n",
    "re.__version__"
   ]
  },
  {
   "cell_type": "code",
   "execution_count": 14,
   "metadata": {},
   "outputs": [],
   "source": [
    "import matplotlib.cm as cm\n",
    "import matplotlib.colors as colors\n",
    "import matplotlib.pyplot as plt \n",
    "%matplotlib inline"
   ]
  },
  {
   "cell_type": "code",
   "execution_count": 15,
   "metadata": {},
   "outputs": [],
   "source": [
    "from bs4 import BeautifulSoup"
   ]
  },
  {
   "cell_type": "code",
   "execution_count": 17,
   "metadata": {},
   "outputs": [],
   "source": [
    "# scrape venue categories from Foursquare\n",
    "\n",
    "url = 'https://developer.foursquare.com/docs/build-with-foursquare/categories/'\n",
    "r = requests.get(url)\n",
    "\n",
    "soup = BeautifulSoup(r.text, 'html.parser')\n",
    "\n",
    "# print(soup.prettify())"
   ]
  },
  {
   "cell_type": "code",
   "execution_count": 18,
   "metadata": {},
   "outputs": [],
   "source": [
    "# The soup contains a hierarchical list of venue categories and sub-categories.\n",
    "# convert the hierarchical list into a dictionary with key = sub-category and value = category\n",
    "\n",
    "regex = re.compile('VenueCategories__Wrapper\\S*')\n",
    "\n",
    "page = soup.find('ul', class_=regex)"
   ]
  },
  {
   "cell_type": "code",
   "execution_count": 27,
   "metadata": {},
   "outputs": [
    {
     "name": "stdout",
     "output_type": "stream",
     "text": [
      "['Arts & Entertainment', 'College & University', 'Event', 'Food', 'Nightlife Spot', 'Outdoors & Recreation', 'Professional & Other Places', 'Residence', 'Shop & Service', 'Travel & Transport']\n",
      "{'Arts & Entertainment': 'Arts & Entertainment', 'Amphitheater': 'Arts & Entertainment', 'Aquarium': 'Arts & Entertainment', 'Arcade': 'Arts & Entertainment', 'Art Gallery': 'Arts & Entertainment', 'Bowling Alley': 'Arts & Entertainment', 'Casino': 'Arts & Entertainment', 'Circus': 'Arts & Entertainment', 'Comedy Club': 'Arts & Entertainment', 'Concert Hall': 'Arts & Entertainment', 'Country Dance Club': 'Arts & Entertainment', 'Disc Golf': 'Arts & Entertainment', 'Exhibit': 'Arts & Entertainment', 'General Entertainment': 'Arts & Entertainment', 'Go Kart Track': 'Arts & Entertainment', 'Historic Site': 'Arts & Entertainment', 'Karaoke Box': 'Arts & Entertainment', 'Laser Tag': 'Arts & Entertainment', 'Memorial Site': 'Arts & Entertainment', 'Mini Golf': 'Arts & Entertainment', 'Movie Theater': 'Arts & Entertainment', 'Drive-in Theater': 'Arts & Entertainment', 'Indie Movie Theater': 'Arts & Entertainment', 'Multiplex': 'Arts & Entertainment', 'Museum': 'Arts & Entertainment', 'Art Museum': 'Arts & Entertainment', 'Erotic Museum': 'Arts & Entertainment', 'History Museum': 'Arts & Entertainment', 'Planetarium': 'Arts & Entertainment', 'Science Museum': 'Arts & Entertainment', 'Music Venue': 'Arts & Entertainment', 'Jazz Club': 'Arts & Entertainment', 'Piano Bar': 'Arts & Entertainment', 'Rock Club': 'Arts & Entertainment', 'Pachinko Parlor': 'Arts & Entertainment', 'Performing Arts Venue': 'Arts & Entertainment', 'Dance Studio': 'Arts & Entertainment', 'Indie Theater': 'Arts & Entertainment', 'Opera House': 'Arts & Entertainment', 'Theater': 'Arts & Entertainment', 'Pool Hall': 'Arts & Entertainment', 'Public Art': 'Arts & Entertainment', 'Outdoor Sculpture': 'Arts & Entertainment', 'Street Art': 'Arts & Entertainment', 'Racecourse': 'Arts & Entertainment', 'Racetrack': 'Arts & Entertainment', 'Roller Rink': 'Arts & Entertainment', 'Salsa Club': 'Arts & Entertainment', 'Samba School': 'Arts & Entertainment', 'Stadium': 'Arts & Entertainment', 'Baseball Stadium': 'Arts & Entertainment', 'Basketball Stadium': 'Arts & Entertainment', 'Cricket Ground': 'Arts & Entertainment', 'Football Stadium': 'Arts & Entertainment', 'Hockey Arena': 'Arts & Entertainment', 'Rugby Stadium': 'Arts & Entertainment', 'Soccer Stadium': 'Arts & Entertainment', 'Tennis Stadium': 'Arts & Entertainment', 'Track Stadium': 'Arts & Entertainment', 'Theme Park': 'Arts & Entertainment', 'Theme Park Ride / Attraction': 'Arts & Entertainment', 'Tour Provider': 'Arts & Entertainment', 'Water Park': 'Arts & Entertainment', 'Zoo': 'Arts & Entertainment', 'Zoo Exhibit': 'Arts & Entertainment', 'College & University': 'College & University', 'College Academic Building': 'College & University', 'College Arts Building': 'College & University', 'College Communications Building': 'College & University', 'College Engineering Building': 'College & University', 'College History Building': 'College & University', 'College Math Building': 'College & University', 'College Science Building': 'College & University', 'College Technology Building': 'College & University', 'College Administrative Building': 'College & University', 'College Auditorium': 'College & University', 'College Bookstore': 'College & University', 'College Cafeteria': 'College & University', 'College Classroom': 'College & University', 'College Gym': 'College & University', 'College Lab': 'College & University', 'College Library': 'College & University', 'College Quad': 'College & University', 'College Rec Center': 'College & University', 'College Residence Hall': 'College & University', 'College Stadium': 'College & University', 'College Baseball Diamond': 'College & University', 'College Basketball Court': 'College & University', 'College Cricket Pitch': 'College & University', 'College Football Field': 'College & University', 'College Hockey Rink': 'College & University', 'College Soccer Field': 'College & University', 'College Tennis Court': 'College & University', 'College Track': 'College & University', 'College Theater': 'College & University', 'Community College': 'College & University', 'Fraternity House': 'College & University', 'General College & University': 'College & University', 'Law School': 'College & University', 'Medical School': 'College & University', 'Sorority House': 'College & University', 'Student Center': 'College & University', 'Trade School': 'College & University', 'University': 'College & University', 'Event': 'Event', 'Christmas Market': 'Event', 'Conference': 'Event', 'Convention': 'Event', 'Festival': 'Event', 'Line / Queue': 'Event', 'Music Festival': 'Event', 'Other Event': 'Event', 'Parade': 'Event', 'Sporting Event': 'Event', 'Stoop Sale': 'Event', 'Street Fair': 'Event', 'Trade Fair': 'Event', 'Food': 'Food', 'Afghan Restaurant': 'Food', 'African Restaurant': 'Food', 'Ethiopian Restaurant': 'Food', 'American Restaurant': 'Food', 'New American Restaurant': 'Food', 'Asian Restaurant': 'Food', 'Burmese Restaurant': 'Food', 'Cambodian Restaurant': 'Food', 'Chinese Restaurant': 'Food', 'Anhui Restaurant': 'Food', 'Beijing Restaurant': 'Food', 'Cantonese Restaurant': 'Food', 'Cha Chaan Teng': 'Food', 'Chinese Aristocrat Restaurant': 'Food', 'Chinese Breakfast Place': 'Food', 'Dim Sum Restaurant': 'Food', 'Dongbei Restaurant': 'Food', 'Fujian Restaurant': 'Food', 'Guizhou Restaurant': 'Food', 'Hainan Restaurant': 'Food', 'Hakka Restaurant': 'Food', 'Henan Restaurant': 'Food', 'Hong Kong Restaurant': 'Food', 'Huaiyang Restaurant': 'Food', 'Hubei Restaurant': 'Food', 'Hunan Restaurant': 'Food', 'Imperial Restaurant': 'Food', 'Jiangsu Restaurant': 'Food', 'Jiangxi Restaurant': 'Food', 'Macanese Restaurant': 'Food', 'Manchu Restaurant': 'Food', 'Peking Duck Restaurant': 'Food', 'Shaanxi Restaurant': 'Food', 'Shandong Restaurant': 'Food', 'Shanghai Restaurant': 'Food', 'Shanxi Restaurant': 'Food', 'Szechuan Restaurant': 'Food', 'Taiwanese Restaurant': 'Food', 'Tianjin Restaurant': 'Food', 'Xinjiang Restaurant': 'Food', 'Yunnan Restaurant': 'Food', 'Zhejiang Restaurant': 'Food', 'Filipino Restaurant': 'Food', 'Himalayan Restaurant': 'Food', 'Hotpot Restaurant': 'Food', 'Indonesian Restaurant': 'Food', 'Acehnese Restaurant': 'Food', 'Balinese Restaurant': 'Food', 'Betawinese Restaurant': 'Food', 'Indonesian Meatball Place': 'Food', 'Javanese Restaurant': 'Food', 'Manadonese Restaurant': 'Food', 'Padangnese Restaurant': 'Food', 'Sundanese Restaurant': 'Food', 'Japanese Restaurant': 'Food', 'Donburi Restaurant': 'Food', 'Japanese Curry Restaurant': 'Food', 'Kaiseki Restaurant': 'Food', 'Kushikatsu Restaurant': 'Food', 'Monjayaki Restaurant': 'Food', 'Nabe Restaurant': 'Food', 'Okonomiyaki Restaurant': 'Food', 'Ramen Restaurant': 'Food', 'Shabu-Shabu Restaurant': 'Food', 'Soba Restaurant': 'Food', 'Sukiyaki Restaurant': 'Food', 'Sushi Restaurant': 'Food', 'Takoyaki Place': 'Food', 'Tempura Restaurant': 'Food', 'Tonkatsu Restaurant': 'Food', 'Udon Restaurant': 'Food', 'Unagi Restaurant': 'Food', 'Wagashi Place': 'Food', 'Yakitori Restaurant': 'Food', 'Yoshoku Restaurant': 'Food', 'Korean Restaurant': 'Food', 'Bossam/Jokbal Restaurant': 'Food', 'Bunsik Restaurant': 'Food', 'Gukbap Restaurant': 'Food', 'Janguh Restaurant': 'Food', 'Samgyetang Restaurant': 'Food', 'Malay Restaurant': 'Food', 'Mamak Restaurant': 'Food', 'Mongolian Restaurant': 'Food', 'Noodle House': 'Food', 'Satay Restaurant': 'Food', 'Thai Restaurant': 'Food', 'Som Tum Restaurant': 'Food', 'Tibetan Restaurant': 'Food', 'Vietnamese Restaurant': 'Food', 'Australian Restaurant': 'Food', 'Austrian Restaurant': 'Food', 'BBQ Joint': 'Food', 'Bagel Shop': 'Food', 'Bakery': 'Food', 'Bangladeshi Restaurant': 'Food', 'Belgian Restaurant': 'Food', 'Bistro': 'Food', 'Breakfast Spot': 'Food', 'Bubble Tea Shop': 'Food', 'Buffet': 'Food', 'Burger Joint': 'Food', 'Cafeteria': 'Food', 'Café': 'Food', 'Cajun / Creole Restaurant': 'Food', 'Caribbean Restaurant': 'Food', 'Cuban Restaurant': 'Food', 'Caucasian Restaurant': 'Food', 'Coffee Shop': 'Food', 'Comfort Food Restaurant': 'Food', 'Creperie': 'Food', 'Czech Restaurant': 'Food', 'Deli / Bodega': 'Food', 'Dessert Shop': 'Food', 'Cupcake Shop': 'Food', 'Frozen Yogurt Shop': 'Food', 'Ice Cream Shop': 'Food', 'Pastry Shop': 'Food', 'Pie Shop': 'Food', 'Diner': 'Food', 'Donut Shop': 'Food', 'Dumpling Restaurant': 'Food', 'Dutch Restaurant': 'Food', 'Eastern European Restaurant': 'Food', 'Belarusian Restaurant': 'Food', 'Bosnian Restaurant': 'Food', 'Bulgarian Restaurant': 'Food', 'Romanian Restaurant': 'Food', 'Tatar Restaurant': 'Food', 'English Restaurant': 'Food', 'Falafel Restaurant': 'Food', 'Fast Food Restaurant': 'Food', 'Fish & Chips Shop': 'Food', 'Fondue Restaurant': 'Food', 'Food Court': 'Food', 'Food Stand': 'Food', 'Food Truck': 'Food', 'French Restaurant': 'Food', 'Alsatian Restaurant': 'Food', 'Auvergne Restaurant': 'Food', 'Basque Restaurant': 'Food', 'Brasserie': 'Food', 'Breton Restaurant': 'Food', 'Burgundian Restaurant': 'Food', 'Catalan Restaurant': 'Food', \"Ch'ti Restaurant\": 'Food', 'Corsican Restaurant': 'Food', 'Estaminet': 'Food', 'Labour Canteen': 'Food', 'Lyonese Bouchon': 'Food', 'Norman Restaurant': 'Food', 'Provençal Restaurant': 'Food', 'Savoyard Restaurant': 'Food', 'Southwestern French Restaurant': 'Food', 'Fried Chicken Joint': 'Food', 'Friterie': 'Food', 'Gastropub': 'Food', 'German Restaurant': 'Food', 'Apple Wine Pub': 'Food', 'Bavarian Restaurant': 'Food', 'Bratwurst Joint': 'Food', 'Currywurst Joint': 'Food', 'Franconian Restaurant': 'Food', 'German Pop-Up Restaurant': 'Food', 'Palatine Restaurant': 'Food', 'Rhenisch Restaurant': 'Food', 'Schnitzel Restaurant': 'Food', 'Silesian Restaurant': 'Food', 'Swabian Restaurant': 'Food', 'Gluten-free Restaurant': 'Food', 'Greek Restaurant': 'Food', 'Bougatsa Shop': 'Food', 'Cretan Restaurant': 'Food', 'Fish Taverna': 'Food', 'Grilled Meat Restaurant': 'Food', 'Kafenio': 'Food', 'Magirio': 'Food', 'Meze Restaurant': 'Food', 'Modern Greek Restaurant': 'Food', 'Ouzeri': 'Food', 'Patsa Restaurant': 'Food', 'Souvlaki Shop': 'Food', 'Taverna': 'Food', 'Tsipouro Restaurant': 'Food', 'Halal Restaurant': 'Food', 'Hawaiian Restaurant': 'Food', 'Poke Place': 'Food', 'Hot Dog Joint': 'Food', 'Hungarian Restaurant': 'Food', 'Indian Restaurant': 'Food', 'Andhra Restaurant': 'Food', 'Awadhi Restaurant': 'Food', 'Bengali Restaurant': 'Food', 'Chaat Place': 'Food', 'Chettinad Restaurant': 'Food', 'Dhaba': 'Food', 'Dosa Place': 'Food', 'Goan Restaurant': 'Food', 'Gujarati Restaurant': 'Food', 'Hyderabadi Restaurant': 'Food', 'Indian Chinese Restaurant': 'Food', 'Indian Sweet Shop': 'Food', 'Irani Cafe': 'Food', 'Jain Restaurant': 'Food', 'Karnataka Restaurant': 'Food', 'Kerala Restaurant': 'Food', 'Maharashtrian Restaurant': 'Food', 'Mughlai Restaurant': 'Food', 'Multicuisine Indian Restaurant': 'Food', 'North Indian Restaurant': 'Food', 'Northeast Indian Restaurant': 'Food', 'Parsi Restaurant': 'Food', 'Punjabi Restaurant': 'Food', 'Rajasthani Restaurant': 'Food', 'South Indian Restaurant': 'Food', 'Udupi Restaurant': 'Food', 'Irish Pub': 'Food', 'Italian Restaurant': 'Food', 'Abruzzo Restaurant': 'Food', 'Agriturismo': 'Food', 'Aosta Restaurant': 'Food', 'Basilicata Restaurant': 'Food', 'Calabria Restaurant': 'Food', 'Campanian Restaurant': 'Food', 'Emilia Restaurant': 'Food', 'Friuli Restaurant': 'Food', 'Ligurian Restaurant': 'Food', 'Lombard Restaurant': 'Food', 'Malga': 'Food', 'Marche Restaurant': 'Food', 'Molise Restaurant': 'Food', 'Piadineria': 'Food', 'Piedmontese Restaurant': 'Food', 'Puglia Restaurant': 'Food', 'Romagna Restaurant': 'Food', 'Roman Restaurant': 'Food', 'Sardinian Restaurant': 'Food', 'Sicilian Restaurant': 'Food', 'South Tyrolean Restaurant': 'Food', 'Trattoria/Osteria': 'Food', 'Trentino Restaurant': 'Food', 'Tuscan Restaurant': 'Food', 'Umbrian Restaurant': 'Food', 'Veneto Restaurant': 'Food', 'Jewish Restaurant': 'Food', 'Kosher Restaurant': 'Food', 'Juice Bar': 'Food', 'Kebab Restaurant': 'Food', 'Latin American Restaurant': 'Food', 'Arepa Restaurant': 'Food', 'Empanada Restaurant': 'Food', 'Salvadoran Restaurant': 'Food', 'South American Restaurant': 'Food', 'Argentinian Restaurant': 'Food', 'Brazilian Restaurant': 'Food', 'Acai House': 'Food', 'Baiano Restaurant': 'Food', 'Central Brazilian Restaurant': 'Food', 'Churrascaria': 'Food', 'Empada House': 'Food', 'Goiano Restaurant': 'Food', 'Mineiro Restaurant': 'Food', 'Northeastern Brazilian Restaurant': 'Food', 'Northern Brazilian Restaurant': 'Food', 'Pastelaria': 'Food', 'Southeastern Brazilian Restaurant': 'Food', 'Southern Brazilian Restaurant': 'Food', 'Tapiocaria': 'Food', 'Colombian Restaurant': 'Food', 'Peruvian Restaurant': 'Food', 'Venezuelan Restaurant': 'Food', 'Mac & Cheese Joint': 'Food', 'Mediterranean Restaurant': 'Food', 'Moroccan Restaurant': 'Food', 'Mexican Restaurant': 'Food', 'Botanero': 'Food', 'Burrito Place': 'Food', 'Taco Place': 'Food', 'Tex-Mex Restaurant': 'Food', 'Yucatecan Restaurant': 'Food', 'Middle Eastern Restaurant': 'Food', 'Egyptian Restaurant': 'Food', 'Iraqi Restaurant': 'Food', 'Israeli Restaurant': 'Food', 'Kurdish Restaurant': 'Food', 'Lebanese Restaurant': 'Food', 'Persian Restaurant': 'Food', 'Ash and Haleem Place': 'Food', 'Dizi Place': 'Food', 'Gilaki Restaurant': 'Food', 'Jegaraki': 'Food', 'Tabbakhi': 'Food', 'Shawarma Place': 'Food', 'Syrian Restaurant': 'Food', 'Yemeni Restaurant': 'Food', 'Modern European Restaurant': 'Food', 'Molecular Gastronomy Restaurant': 'Food', 'Pakistani Restaurant': 'Food', 'Pet Café': 'Food', 'Pizza Place': 'Food', 'Polish Restaurant': 'Food', 'Portuguese Restaurant': 'Food', 'Poutine Place': 'Food', 'Restaurant': 'Food', 'Russian Restaurant': 'Food', 'Blini House': 'Food', 'Pelmeni House': 'Food', 'Salad Place': 'Food', 'Sandwich Place': 'Food', 'Scandinavian Restaurant': 'Food', 'Scottish Restaurant': 'Food', 'Seafood Restaurant': 'Food', 'Slovak Restaurant': 'Food', 'Snack Place': 'Food', 'Soup Place': 'Food', 'Southern / Soul Food Restaurant': 'Food', 'Spanish Restaurant': 'Food', 'Paella Restaurant': 'Food', 'Tapas Restaurant': 'Food', 'Sri Lankan Restaurant': 'Food', 'Steakhouse': 'Food', 'Swiss Restaurant': 'Food', 'Tea Room': 'Food', 'Theme Restaurant': 'Food', 'Truck Stop': 'Food', 'Turkish Restaurant': 'Food', 'Borek Place': 'Food', 'Cigkofte Place': 'Food', 'Doner Restaurant': 'Food', 'Gozleme Place': 'Food', 'Kofte Place': 'Food', 'Kokoreç Restaurant': 'Food', 'Kumpir Restaurant': 'Food', 'Kumru Restaurant': 'Food', 'Manti Place': 'Food', 'Meyhane': 'Food', 'Pide Place': 'Food', 'Pilavcı': 'Food', 'Söğüş Place': 'Food', 'Tantuni Restaurant': 'Food', 'Turkish Coffeehouse': 'Food', 'Turkish Home Cooking Restaurant': 'Food', 'Çöp Şiş Place': 'Food', 'Ukrainian Restaurant': 'Food', 'Varenyky restaurant': 'Food', 'West-Ukrainian Restaurant': 'Food', 'Vegetarian / Vegan Restaurant': 'Food', 'Wings Joint': 'Food', 'Nightlife Spot': 'Nightlife Spot', 'Bar': 'Nightlife Spot', 'Beach Bar': 'Nightlife Spot', 'Beer Bar': 'Nightlife Spot', 'Beer Garden': 'Nightlife Spot', 'Champagne Bar': 'Nightlife Spot', 'Cocktail Bar': 'Nightlife Spot', 'Dive Bar': 'Nightlife Spot', 'Gay Bar': 'Nightlife Spot', 'Hookah Bar': 'Nightlife Spot', 'Hotel Bar': 'Nightlife Spot', 'Karaoke Bar': 'Nightlife Spot', 'Pub': 'Nightlife Spot', 'Sake Bar': 'Nightlife Spot', 'Speakeasy': 'Nightlife Spot', 'Sports Bar': 'Nightlife Spot', 'Tiki Bar': 'Nightlife Spot', 'Whisky Bar': 'Nightlife Spot', 'Wine Bar': 'Nightlife Spot', 'Brewery': 'Nightlife Spot', 'Lounge': 'Nightlife Spot', 'Night Market': 'Nightlife Spot', 'Nightclub': 'Nightlife Spot', 'Other Nightlife': 'Nightlife Spot', 'Strip Club': 'Nightlife Spot', 'Outdoors & Recreation': 'Outdoors & Recreation', 'Athletics & Sports': 'Outdoors & Recreation', 'Badminton Court': 'Outdoors & Recreation', 'Baseball Field': 'Outdoors & Recreation', 'Basketball Court': 'Outdoors & Recreation', 'Bowling Green': 'Outdoors & Recreation', 'Curling Ice': 'Outdoors & Recreation', 'Golf Course': 'Outdoors & Recreation', 'Golf Driving Range': 'Outdoors & Recreation', 'Gym / Fitness Center': 'Outdoors & Recreation', 'Boxing Gym': 'Outdoors & Recreation', 'Climbing Gym': 'Outdoors & Recreation', 'Cycle Studio': 'Outdoors & Recreation', 'Gym Pool': 'Outdoors & Recreation', 'Gymnastics Gym': 'Outdoors & Recreation', 'Gym': 'Outdoors & Recreation', 'Martial Arts Dojo': 'Outdoors & Recreation', 'Outdoor Gym': 'Outdoors & Recreation', 'Pilates Studio': 'Outdoors & Recreation', 'Track': 'Outdoors & Recreation', 'Weight Loss Center': 'Outdoors & Recreation', 'Yoga Studio': 'Outdoors & Recreation', 'Hockey Field': 'Outdoors & Recreation', 'Hockey Rink': 'Outdoors & Recreation', 'Paintball Field': 'Outdoors & Recreation', 'Rugby Pitch': 'Outdoors & Recreation', 'Skate Park': 'Outdoors & Recreation', 'Skating Rink': 'Outdoors & Recreation', 'Soccer Field': 'Outdoors & Recreation', 'Sports Club': 'Outdoors & Recreation', 'Squash Court': 'Outdoors & Recreation', 'Tennis Court': 'Outdoors & Recreation', 'Volleyball Court': 'Outdoors & Recreation', 'Bathing Area': 'Outdoors & Recreation', 'Bay': 'Outdoors & Recreation', 'Beach': 'Outdoors & Recreation', 'Nudist Beach': 'Outdoors & Recreation', 'Surf Spot': 'Outdoors & Recreation', 'Bike Trail': 'Outdoors & Recreation', 'Botanical Garden': 'Outdoors & Recreation', 'Bridge': 'Outdoors & Recreation', 'Campground': 'Outdoors & Recreation', 'Canal Lock': 'Outdoors & Recreation', 'Canal': 'Outdoors & Recreation', 'Castle': 'Outdoors & Recreation', 'Cave': 'Outdoors & Recreation', 'Cemetery': 'Outdoors & Recreation', 'Dive Spot': 'Outdoors & Recreation', 'Dog Run': 'Outdoors & Recreation', 'Farm': 'Outdoors & Recreation', 'Field': 'Outdoors & Recreation', 'Fishing Spot': 'Outdoors & Recreation', 'Forest': 'Outdoors & Recreation', 'Fountain': 'Outdoors & Recreation', 'Garden': 'Outdoors & Recreation', 'Gun Range': 'Outdoors & Recreation', 'Harbor / Marina': 'Outdoors & Recreation', 'Hill': 'Outdoors & Recreation', 'Hot Spring': 'Outdoors & Recreation', 'Indoor Play Area': 'Outdoors & Recreation', 'Island': 'Outdoors & Recreation', 'Lake': 'Outdoors & Recreation', 'Lighthouse': 'Outdoors & Recreation', 'Mountain Hut': 'Outdoors & Recreation', 'Mountain': 'Outdoors & Recreation', 'National Park': 'Outdoors & Recreation', 'Nature Preserve': 'Outdoors & Recreation', 'Other Great Outdoors': 'Outdoors & Recreation', 'Palace': 'Outdoors & Recreation', 'Park': 'Outdoors & Recreation', 'Pedestrian Plaza': 'Outdoors & Recreation', 'Playground': 'Outdoors & Recreation', 'Plaza': 'Outdoors & Recreation', 'Pool': 'Outdoors & Recreation', 'Rafting': 'Outdoors & Recreation', 'Recreation Center': 'Outdoors & Recreation', 'Reservoir': 'Outdoors & Recreation', 'River': 'Outdoors & Recreation', 'Rock Climbing Spot': 'Outdoors & Recreation', 'Roof Deck': 'Outdoors & Recreation', 'Scenic Lookout': 'Outdoors & Recreation', 'Sculpture Garden': 'Outdoors & Recreation', 'Ski Area': 'Outdoors & Recreation', 'Apres Ski Bar': 'Outdoors & Recreation', 'Ski Chairlift': 'Outdoors & Recreation', 'Ski Chalet': 'Outdoors & Recreation', 'Ski Lodge': 'Outdoors & Recreation', 'Ski Trail': 'Outdoors & Recreation', 'Skydiving Drop Zone': 'Outdoors & Recreation', 'Stables': 'Outdoors & Recreation', 'State / Provincial Park': 'Outdoors & Recreation', 'States & Municipalities': 'Outdoors & Recreation', 'City': 'Outdoors & Recreation', 'County': 'Outdoors & Recreation', 'Country': 'Outdoors & Recreation', 'Neighborhood': 'Outdoors & Recreation', 'State': 'Outdoors & Recreation', 'Town': 'Outdoors & Recreation', 'Village': 'Outdoors & Recreation', 'Summer Camp': 'Outdoors & Recreation', 'Trail': 'Outdoors & Recreation', 'Tree': 'Outdoors & Recreation', 'Vineyard': 'Outdoors & Recreation', 'Volcano': 'Outdoors & Recreation', 'Waterfall': 'Outdoors & Recreation', 'Waterfront': 'Outdoors & Recreation', 'Well': 'Outdoors & Recreation', 'Windmill': 'Outdoors & Recreation', 'Professional & Other Places': 'Professional & Other Places', 'Animal Shelter': 'Professional & Other Places', 'Art Studio': 'Professional & Other Places', 'Auditorium': 'Professional & Other Places', 'Ballroom': 'Professional & Other Places', 'Building': 'Professional & Other Places', 'Business Center': 'Professional & Other Places', 'Cidery': 'Professional & Other Places', 'Club House': 'Professional & Other Places', 'Community Center': 'Professional & Other Places', 'Convention Center': 'Professional & Other Places', 'Meeting Room': 'Professional & Other Places', 'Cultural Center': 'Professional & Other Places', 'Distillery': 'Professional & Other Places', 'Distribution Center': 'Professional & Other Places', 'Event Space': 'Professional & Other Places', 'Outdoor Event Space': 'Professional & Other Places', 'Factory': 'Professional & Other Places', 'Fair': 'Professional & Other Places', 'Funeral Home': 'Professional & Other Places', 'Government Building': 'Professional & Other Places', 'Capitol Building': 'Professional & Other Places', 'City Hall': 'Professional & Other Places', 'Courthouse': 'Professional & Other Places', 'Embassy / Consulate': 'Professional & Other Places', 'Fire Station': 'Professional & Other Places', 'Monument / Landmark': 'Professional & Other Places', 'Police Station': 'Professional & Other Places', 'Town Hall': 'Professional & Other Places', 'Industrial Estate': 'Professional & Other Places', 'Laboratory': 'Professional & Other Places', 'Library': 'Professional & Other Places', 'Meadery': 'Professional & Other Places', 'Medical Center': 'Professional & Other Places', 'Acupuncturist': 'Professional & Other Places', 'Alternative Healer': 'Professional & Other Places', 'Chiropractor': 'Professional & Other Places', \"Dentist's Office\": 'Professional & Other Places', \"Doctor's Office\": 'Professional & Other Places', 'Emergency Room': 'Professional & Other Places', 'Eye Doctor': 'Professional & Other Places', 'Hospital': 'Professional & Other Places', 'Hospital Ward': 'Professional & Other Places', 'Maternity Clinic': 'Professional & Other Places', 'Medical Lab': 'Professional & Other Places', 'Mental Health Office': 'Professional & Other Places', 'Nutritionist': 'Professional & Other Places', 'Physical Therapist': 'Professional & Other Places', 'Rehab Center': 'Professional & Other Places', 'Urgent Care Center': 'Professional & Other Places', 'Veterinarian': 'Professional & Other Places', 'Military Base': 'Professional & Other Places', 'Non-Profit': 'Professional & Other Places', 'Observatory': 'Professional & Other Places', 'Office': 'Professional & Other Places', 'Advertising Agency': 'Professional & Other Places', 'Campaign Office': 'Professional & Other Places', 'Conference Room': 'Professional & Other Places', 'Corporate Amenity': 'Professional & Other Places', 'Corporate Cafeteria': 'Professional & Other Places', 'Corporate Coffee Shop': 'Professional & Other Places', 'Coworking Space': 'Professional & Other Places', 'Tech Startup': 'Professional & Other Places', 'Parking': 'Professional & Other Places', 'Post Office': 'Professional & Other Places', 'Power Plant': 'Professional & Other Places', 'Prison': 'Professional & Other Places', 'Radio Station': 'Professional & Other Places', 'Recruiting Agency': 'Professional & Other Places', 'Research Station': 'Professional & Other Places', 'School': 'Professional & Other Places', 'Adult Education Center': 'Professional & Other Places', 'Circus School': 'Professional & Other Places', 'Cooking School': 'Professional & Other Places', 'Driving School': 'Professional & Other Places', 'Elementary School': 'Professional & Other Places', 'Flight School': 'Professional & Other Places', 'High School': 'Professional & Other Places', 'Language School': 'Professional & Other Places', 'Middle School': 'Professional & Other Places', 'Music School': 'Professional & Other Places', 'Nursery School': 'Professional & Other Places', 'Preschool': 'Professional & Other Places', 'Private School': 'Professional & Other Places', 'Religious School': 'Professional & Other Places', 'Swim School': 'Professional & Other Places', 'Social Club': 'Professional & Other Places', 'Spiritual Center': 'Professional & Other Places', 'Buddhist Temple': 'Professional & Other Places', 'Cemevi': 'Professional & Other Places', 'Church': 'Professional & Other Places', 'Confucian Temple': 'Professional & Other Places', 'Hindu Temple': 'Professional & Other Places', 'Kingdom Hall': 'Professional & Other Places', 'Monastery': 'Professional & Other Places', 'Mosque': 'Professional & Other Places', 'Prayer Room': 'Professional & Other Places', 'Shrine': 'Professional & Other Places', 'Sikh Temple': 'Professional & Other Places', 'Synagogue': 'Professional & Other Places', 'Temple': 'Professional & Other Places', 'Terreiro': 'Professional & Other Places', 'TV Station': 'Professional & Other Places', 'Voting Booth': 'Professional & Other Places', 'Warehouse': 'Professional & Other Places', 'Waste Facility': 'Professional & Other Places', 'Wedding Hall': 'Professional & Other Places', 'Winery': 'Professional & Other Places', 'Residence': 'Residence', 'Assisted Living': 'Residence', 'Home (private)': 'Residence', 'Housing Development': 'Residence', 'Residential Building (Apartment / Condo)': 'Residence', 'Trailer Park': 'Residence', 'Shop & Service': 'Shop & Service', 'ATM': 'Shop & Service', 'Adult Boutique': 'Shop & Service', 'Antique Shop': 'Shop & Service', 'Arts & Crafts Store': 'Shop & Service', 'Astrologer': 'Shop & Service', 'Auto Dealership': 'Shop & Service', 'Auto Garage': 'Shop & Service', 'Auto Workshop': 'Shop & Service', 'Automotive Shop': 'Shop & Service', 'Baby Store': 'Shop & Service', 'Bank': 'Shop & Service', 'Bath House': 'Shop & Service', 'Batik Shop': 'Shop & Service', 'Betting Shop': 'Shop & Service', 'Big Box Store': 'Shop & Service', 'Bike Shop': 'Shop & Service', 'Board Shop': 'Shop & Service', 'Bookstore': 'Shop & Service', 'Bridal Shop': 'Shop & Service', 'Business Service': 'Shop & Service', 'Camera Store': 'Shop & Service', 'Candy Store': 'Shop & Service', 'Car Wash': 'Shop & Service', 'Carpet Store': 'Shop & Service', 'Check Cashing Service': 'Shop & Service', 'Child Care Service': 'Shop & Service', 'Daycare': 'Shop & Service', 'Chocolate Shop': 'Shop & Service', 'Clothing Store': 'Shop & Service', 'Accessories Store': 'Shop & Service', 'Boutique': 'Shop & Service', 'Kids Store': 'Shop & Service', 'Lingerie Store': 'Shop & Service', \"Men's Store\": 'Shop & Service', 'Shoe Store': 'Shop & Service', \"Women's Store\": 'Shop & Service', 'Comic Shop': 'Shop & Service', 'Construction & Landscaping': 'Shop & Service', 'Convenience Store': 'Shop & Service', 'Cosmetics Shop': 'Shop & Service', 'Costume Shop': 'Shop & Service', 'Credit Union': 'Shop & Service', 'Currency Exchange': 'Shop & Service', 'Department Store': 'Shop & Service', 'Design Studio': 'Shop & Service', 'Discount Store': 'Shop & Service', 'Dive Shop': 'Shop & Service', 'Drugstore': 'Shop & Service', 'Dry Cleaner': 'Shop & Service', 'EV Charging Station': 'Shop & Service', 'Electronics Store': 'Shop & Service', 'Entertainment Service': 'Shop & Service', 'Event Service': 'Shop & Service', 'Fabric Shop': 'Shop & Service', 'Film Studio': 'Shop & Service', 'Financial or Legal Service': 'Shop & Service', 'Fireworks Store': 'Shop & Service', 'Fishing Store': 'Shop & Service', 'Flea Market': 'Shop & Service', 'Floating Market': 'Shop & Service', 'Flower Shop': 'Shop & Service', 'Food & Drink Shop': 'Shop & Service', 'Beer Store': 'Shop & Service', 'Butcher': 'Shop & Service', 'Cheese Shop': 'Shop & Service', 'Coffee Roaster': 'Shop & Service', 'Dairy Store': 'Shop & Service', 'Farmers Market': 'Shop & Service', 'Fish Market': 'Shop & Service', 'Food Service': 'Shop & Service', 'Gourmet Shop': 'Shop & Service', 'Grocery Store': 'Shop & Service', 'Health Food Store': 'Shop & Service', 'Kuruyemişçi': 'Shop & Service', 'Liquor Store': 'Shop & Service', 'Organic Grocery': 'Shop & Service', 'Sausage Shop': 'Shop & Service', 'Street Food Gathering': 'Shop & Service', 'Supermarket': 'Shop & Service', 'Turşucu': 'Shop & Service', 'Wine Shop': 'Shop & Service', 'Frame Store': 'Shop & Service', 'Fruit & Vegetable Store': 'Shop & Service', 'Furniture / Home Store': 'Shop & Service', 'Lighting Store': 'Shop & Service', 'Gaming Cafe': 'Shop & Service', 'Garden Center': 'Shop & Service', 'Gas Station': 'Shop & Service', 'Gift Shop': 'Shop & Service', 'Gun Shop': 'Shop & Service', 'Hardware Store': 'Shop & Service', 'Health & Beauty Service': 'Shop & Service', 'Herbs & Spices Store': 'Shop & Service', 'Hobby Shop': 'Shop & Service', 'Home Service': 'Shop & Service', 'Hunting Supply': 'Shop & Service', 'IT Services': 'Shop & Service', 'Insurance Office': 'Shop & Service', 'Internet Cafe': 'Shop & Service', 'Jewelry Store': 'Shop & Service', 'Kitchen Supply Store': 'Shop & Service', 'Knitting Store': 'Shop & Service', 'Laundromat': 'Shop & Service', 'Laundry Service': 'Shop & Service', 'Lawyer': 'Shop & Service', 'Leather Goods Store': 'Shop & Service', 'Locksmith': 'Shop & Service', 'Lottery Retailer': 'Shop & Service', 'Luggage Store': 'Shop & Service', 'Marijuana Dispensary': 'Shop & Service', 'Market': 'Shop & Service', 'Massage Studio': 'Shop & Service', 'Mattress Store': 'Shop & Service', 'Medical Supply Store': 'Shop & Service', 'Miscellaneous Shop': 'Shop & Service', 'Mobile Phone Shop': 'Shop & Service', 'Mobility Store': 'Shop & Service', 'Motorcycle Shop': 'Shop & Service', 'Motorsports Shop': 'Shop & Service', 'Music Store': 'Shop & Service', 'Nail Salon': 'Shop & Service', 'Newsstand': 'Shop & Service', 'Notary': 'Shop & Service', 'Optical Shop': 'Shop & Service', 'Other Repair Shop': 'Shop & Service', 'Outdoor Supply Store': 'Shop & Service', 'Outlet Mall': 'Shop & Service', 'Outlet Store': 'Shop & Service', 'Paper / Office Supplies Store': 'Shop & Service', 'Pawn Shop': 'Shop & Service', 'Perfume Shop': 'Shop & Service', 'Pet Service': 'Shop & Service', 'Pet Store': 'Shop & Service', 'Pharmacy': 'Shop & Service', 'Photography Lab': 'Shop & Service', 'Photography Studio': 'Shop & Service', 'Piercing Parlor': 'Shop & Service', 'Pop-Up Shop': 'Shop & Service', 'Print Shop': 'Shop & Service', 'Public Bathroom': 'Shop & Service', 'Real Estate Office': 'Shop & Service', 'Record Shop': 'Shop & Service', 'Recording Studio': 'Shop & Service', 'Recycling Facility': 'Shop & Service', 'Rental Service': 'Shop & Service', 'Salon / Barbershop': 'Shop & Service', 'Sauna / Steam Room': 'Shop & Service', 'Shipping Store': 'Shop & Service', 'Shoe Repair': 'Shop & Service', 'Shopping Mall': 'Shop & Service', 'Shopping Plaza': 'Shop & Service', 'Skate Shop': 'Shop & Service', 'Ski Shop': 'Shop & Service', 'Smoke Shop': 'Shop & Service', 'Smoothie Shop': 'Shop & Service', 'Souvenir Shop': 'Shop & Service', 'Spa': 'Shop & Service', 'Sporting Goods Shop': 'Shop & Service', 'Stationery Store': 'Shop & Service', 'Storage Facility': 'Shop & Service', 'Supplement Shop': 'Shop & Service', 'Tailor Shop': 'Shop & Service', 'Tanning Salon': 'Shop & Service', 'Tattoo Parlor': 'Shop & Service', 'Thrift / Vintage Store': 'Shop & Service', 'Toy / Game Store': 'Shop & Service', 'Travel Agency': 'Shop & Service', 'Used Bookstore': 'Shop & Service', 'Vape Store': 'Shop & Service', 'Video Game Store': 'Shop & Service', 'Video Store': 'Shop & Service', 'Warehouse Store': 'Shop & Service', 'Watch Shop': 'Shop & Service', 'Travel & Transport': 'Travel & Transport', 'Airport': 'Travel & Transport', 'Airport Food Court': 'Travel & Transport', 'Airport Gate': 'Travel & Transport', 'Airport Lounge': 'Travel & Transport', 'Airport Service': 'Travel & Transport', 'Airport Terminal': 'Travel & Transport', 'Airport Tram': 'Travel & Transport', 'Baggage Claim': 'Travel & Transport', 'Plane': 'Travel & Transport', 'Baggage Locker': 'Travel & Transport', 'Bike Rental / Bike Share': 'Travel & Transport', 'Boat Rental': 'Travel & Transport', 'Boat or Ferry': 'Travel & Transport', 'Border Crossing': 'Travel & Transport', 'Bus Station': 'Travel & Transport', 'Bus Line': 'Travel & Transport', 'Bus Stop': 'Travel & Transport', 'Cable Car': 'Travel & Transport', 'Cruise': 'Travel & Transport', 'Duty-free Shop': 'Travel & Transport', 'General Travel': 'Travel & Transport', 'Heliport': 'Travel & Transport', 'Hotel': 'Travel & Transport', 'Bed & Breakfast': 'Travel & Transport', 'Boarding House': 'Travel & Transport', 'Hostel': 'Travel & Transport', 'Hotel Pool': 'Travel & Transport', 'Inn': 'Travel & Transport', 'Motel': 'Travel & Transport', 'Resort': 'Travel & Transport', 'Vacation Rental': 'Travel & Transport', 'Intersection': 'Travel & Transport', 'Light Rail Station': 'Travel & Transport', 'Metro Station': 'Travel & Transport', 'Moving Target': 'Travel & Transport', 'Pier': 'Travel & Transport', 'Port': 'Travel & Transport', 'RV Park': 'Travel & Transport', 'Rental Car Location': 'Travel & Transport', 'Rest Area': 'Travel & Transport', 'Road': 'Travel & Transport', 'Taxi Stand': 'Travel & Transport', 'Taxi': 'Travel & Transport', 'Toll Booth': 'Travel & Transport', 'Toll Plaza': 'Travel & Transport', 'Tourist Information Center': 'Travel & Transport', 'Train Station': 'Travel & Transport', 'Platform': 'Travel & Transport', 'Train': 'Travel & Transport', 'Tram Station': 'Travel & Transport', 'Transportation Service': 'Travel & Transport', 'Travel Lounge': 'Travel & Transport', 'Tunnel': 'Travel & Transport'}\n"
     ]
    }
   ],
   "source": [
    "cat_dict = {}\n",
    "cat_list = []\n",
    "\n",
    "for entry in page :\n",
    "    category = entry.find_all('h3')\n",
    "    value = category[0].contents[0]\n",
    "    if value not in cat_list :\n",
    "        cat_list.append(value)\n",
    "    #print(value)\n",
    "    for item in category :\n",
    "        #print(\"\\t\", item.contents[0])\n",
    "        key = item.contents[0]\n",
    "        cat_dict.update({key : value})\n",
    "\n",
    "print(cat_list)\n",
    "print(cat_dict)"
   ]
  },
  {
   "cell_type": "code",
   "execution_count": 19,
   "metadata": {},
   "outputs": [],
   "source": [
    "# This code block will eventually be turned into a user input menu\n",
    "\n",
    "user1_prefs = ['Food - any', 'Park', 'Church', 'Library', 'Elementary School']\n",
    "user2_prefs = ['Football Stadium', 'Music Venue', 'Nightlife Spot - any', 'Music Festival', 'Mexican Restaurant']\n",
    "\n",
    "location = 'New Orleans, LA, USA'\n",
    "\n",
    "radius = 1000    # units of meters"
   ]
  },
  {
   "cell_type": "code",
   "execution_count": 20,
   "metadata": {},
   "outputs": [
    {
     "data": {
      "text/html": [
       "<div>\n",
       "<style scoped>\n",
       "    .dataframe tbody tr th:only-of-type {\n",
       "        vertical-align: middle;\n",
       "    }\n",
       "\n",
       "    .dataframe tbody tr th {\n",
       "        vertical-align: top;\n",
       "    }\n",
       "\n",
       "    .dataframe thead th {\n",
       "        text-align: right;\n",
       "    }\n",
       "</style>\n",
       "<table border=\"1\" class=\"dataframe\">\n",
       "  <thead>\n",
       "    <tr style=\"text-align: right;\">\n",
       "      <th></th>\n",
       "      <th>Neighborhood</th>\n",
       "      <th>Longitude</th>\n",
       "      <th>Latitude</th>\n",
       "    </tr>\n",
       "  </thead>\n",
       "  <tbody>\n",
       "    <tr>\n",
       "      <th>0</th>\n",
       "      <td>U.S. NAVAL BASE</td>\n",
       "      <td>-90.026093</td>\n",
       "      <td>29.946085</td>\n",
       "    </tr>\n",
       "    <tr>\n",
       "      <th>1</th>\n",
       "      <td>ALGIERS POINT</td>\n",
       "      <td>-90.051606</td>\n",
       "      <td>29.952462</td>\n",
       "    </tr>\n",
       "    <tr>\n",
       "      <th>2</th>\n",
       "      <td>WHITNEY</td>\n",
       "      <td>-90.042357</td>\n",
       "      <td>29.947200</td>\n",
       "    </tr>\n",
       "    <tr>\n",
       "      <th>3</th>\n",
       "      <td>AUDUBON</td>\n",
       "      <td>-90.121450</td>\n",
       "      <td>29.932994</td>\n",
       "    </tr>\n",
       "    <tr>\n",
       "      <th>4</th>\n",
       "      <td>OLD AURORA</td>\n",
       "      <td>-90.000000</td>\n",
       "      <td>29.924440</td>\n",
       "    </tr>\n",
       "  </tbody>\n",
       "</table>\n",
       "</div>"
      ],
      "text/plain": [
       "      Neighborhood  Longitude   Latitude\n",
       "0  U.S. NAVAL BASE -90.026093  29.946085\n",
       "1    ALGIERS POINT -90.051606  29.952462\n",
       "2          WHITNEY -90.042357  29.947200\n",
       "3          AUDUBON -90.121450  29.932994\n",
       "4       OLD AURORA -90.000000  29.924440"
      ]
     },
     "execution_count": 20,
     "metadata": {},
     "output_type": "execute_result"
    }
   ],
   "source": [
    "# get neighborhood longitude and latitudes \n",
    "\n",
    "url = 'https://en.wikipedia.org/wiki/Neighborhoods_in_New_Orleans'\n",
    "\n",
    "df_neighborhoods = pd.read_html(url)\n",
    "df_neighborhoods = df_neighborhoods[0]\n",
    "df_neighborhoods.head()"
   ]
  },
  {
   "cell_type": "code",
   "execution_count": 119,
   "metadata": {},
   "outputs": [],
   "source": [
    "# I have my credientials in a .env file to keep them private. This code loads the credientials from .env (in same directory as Jupyter Notebook).\n",
    "\n",
    "load_dotenv()\n",
    "\n",
    "CLIENT_ID = os.getenv('CLIENT_ID')\n",
    "CLIENT_SECRET = os.getenv('CLIENT_SECRET')\n",
    "VERSION = os.getenv('VERSION')\n",
    "\n",
    "LIMIT = 50\n",
    "test_limit = 10\n"
   ]
  },
  {
   "cell_type": "code",
   "execution_count": 120,
   "metadata": {},
   "outputs": [],
   "source": [
    "def url_builder(lat, lng, rad, action, item, lim) :\n",
    "    # Making a function to build the url from uri and user input\n",
    "    # for query to Foursqure API\n",
    "    \n",
    "    text_uri = 'https://api.foursquare.com/v2/'\n",
    "    text_etc = 'client_id={}&client_secret={}&ll={},{}&v={}&radius={}&limit={}'\n",
    "    \n",
    "    latitude = lat\n",
    "    longitude = lng\n",
    "    radius = rad\n",
    "    \n",
    "    item = item\n",
    "    action = action\n",
    "    limit = lim\n",
    "    \n",
    "    url = text_uri+item+'/'+action+'?'+text_etc\n",
    "    url = url.format(CLIENT_ID, CLIENT_SECRET, latitude, longitude, VERSION, radius, limit)\n",
    "    # print(url)\n",
    "    return url"
   ]
  },
  {
   "cell_type": "code",
   "execution_count": 121,
   "metadata": {},
   "outputs": [],
   "source": [
    "venues_list=[]\n",
    "\n",
    "for lat, lng, neighborhood in zip(df_neighborhoods['Latitude'], \n",
    "                                              df_neighborhoods['Longitude'], \n",
    "                                              df_neighborhoods['Neighborhood']):\n",
    "    dict1 = { 'lat' : lat , \n",
    "              'lng' : lng , \n",
    "              'rad' : radius , \n",
    "              'action' : 'explore' ,\n",
    "              'item' : 'venues' ,\n",
    "              'lim' : LIMIT }\n",
    "    \n",
    "    url = url_builder(**dict1)\n",
    "    \n",
    "    results = requests.get(url).json()[\"response\"]['groups'][0]['items']\n",
    "        \n",
    "        \n",
    "    venues_list.append([(\n",
    "            neighborhood, \n",
    "            lat, lng, \n",
    "            v['venue']['name'], \n",
    "            v['venue']['location']['lat'], \n",
    "            v['venue']['location']['lng'],  \n",
    "            v['venue']['categories'][0]['name']) for v in results])\n",
    "\n",
    "    nearby_venues = pd.DataFrame([item for venue_list in venues_list for item in venue_list])\n",
    "    nearby_venues.columns = ['Neighborhood', \n",
    "                  'Neighborhood Latitude', \n",
    "                  'Neighborhood Longitude', \n",
    "                  'Venue', \n",
    "                  'Venue Latitude', \n",
    "                  'Venue Longitude', \n",
    "                  'Venue Category']\n",
    "    "
   ]
  },
  {
   "cell_type": "code",
   "execution_count": 122,
   "metadata": {},
   "outputs": [
    {
     "data": {
      "text/html": [
       "<div>\n",
       "<style scoped>\n",
       "    .dataframe tbody tr th:only-of-type {\n",
       "        vertical-align: middle;\n",
       "    }\n",
       "\n",
       "    .dataframe tbody tr th {\n",
       "        vertical-align: top;\n",
       "    }\n",
       "\n",
       "    .dataframe thead th {\n",
       "        text-align: right;\n",
       "    }\n",
       "</style>\n",
       "<table border=\"1\" class=\"dataframe\">\n",
       "  <thead>\n",
       "    <tr style=\"text-align: right;\">\n",
       "      <th></th>\n",
       "      <th>Neighborhood</th>\n",
       "      <th>Neighborhood Latitude</th>\n",
       "      <th>Neighborhood Longitude</th>\n",
       "      <th>Venue</th>\n",
       "      <th>Venue Latitude</th>\n",
       "      <th>Venue Longitude</th>\n",
       "      <th>Venue Category</th>\n",
       "    </tr>\n",
       "  </thead>\n",
       "  <tbody>\n",
       "    <tr>\n",
       "      <th>0</th>\n",
       "      <td>U.S. NAVAL BASE</td>\n",
       "      <td>29.946085</td>\n",
       "      <td>-90.026093</td>\n",
       "      <td>Behrman Stadium</td>\n",
       "      <td>29.939423</td>\n",
       "      <td>-90.030863</td>\n",
       "      <td>Stadium</td>\n",
       "    </tr>\n",
       "    <tr>\n",
       "      <th>1</th>\n",
       "      <td>U.S. NAVAL BASE</td>\n",
       "      <td>29.946085</td>\n",
       "      <td>-90.026093</td>\n",
       "      <td>Federal City Inn &amp; Suites</td>\n",
       "      <td>29.947682</td>\n",
       "      <td>-90.032891</td>\n",
       "      <td>Hotel</td>\n",
       "    </tr>\n",
       "    <tr>\n",
       "      <th>2</th>\n",
       "      <td>U.S. NAVAL BASE</td>\n",
       "      <td>29.946085</td>\n",
       "      <td>-90.026093</td>\n",
       "      <td>Subway</td>\n",
       "      <td>29.950125</td>\n",
       "      <td>-90.034375</td>\n",
       "      <td>Sandwich Place</td>\n",
       "    </tr>\n",
       "    <tr>\n",
       "      <th>3</th>\n",
       "      <td>U.S. NAVAL BASE</td>\n",
       "      <td>29.946085</td>\n",
       "      <td>-90.026093</td>\n",
       "      <td>The Mighty Missisippi</td>\n",
       "      <td>29.949695</td>\n",
       "      <td>-90.023710</td>\n",
       "      <td>Boat or Ferry</td>\n",
       "    </tr>\n",
       "    <tr>\n",
       "      <th>4</th>\n",
       "      <td>U.S. NAVAL BASE</td>\n",
       "      <td>29.946085</td>\n",
       "      <td>-90.026093</td>\n",
       "      <td>Navy Federal Credit Union</td>\n",
       "      <td>29.949349</td>\n",
       "      <td>-90.032268</td>\n",
       "      <td>Credit Union</td>\n",
       "    </tr>\n",
       "  </tbody>\n",
       "</table>\n",
       "</div>"
      ],
      "text/plain": [
       "      Neighborhood  Neighborhood Latitude  Neighborhood Longitude  \\\n",
       "0  U.S. NAVAL BASE              29.946085              -90.026093   \n",
       "1  U.S. NAVAL BASE              29.946085              -90.026093   \n",
       "2  U.S. NAVAL BASE              29.946085              -90.026093   \n",
       "3  U.S. NAVAL BASE              29.946085              -90.026093   \n",
       "4  U.S. NAVAL BASE              29.946085              -90.026093   \n",
       "\n",
       "                       Venue  Venue Latitude  Venue Longitude  Venue Category  \n",
       "0            Behrman Stadium       29.939423       -90.030863         Stadium  \n",
       "1  Federal City Inn & Suites       29.947682       -90.032891           Hotel  \n",
       "2                     Subway       29.950125       -90.034375  Sandwich Place  \n",
       "3      The Mighty Missisippi       29.949695       -90.023710   Boat or Ferry  \n",
       "4  Navy Federal Credit Union       29.949349       -90.032268    Credit Union  "
      ]
     },
     "execution_count": 122,
     "metadata": {},
     "output_type": "execute_result"
    }
   ],
   "source": [
    "nearby_venues.head()"
   ]
  },
  {
   "cell_type": "code",
   "execution_count": 123,
   "metadata": {},
   "outputs": [
    {
     "name": "stdout",
     "output_type": "stream",
     "text": [
      "['Football Stadium', 'Music Venue', 'Nightlife Spot - any', 'Music Festival', 'Mexican Restaurant', 'Nightlife Spot', 'Bar', 'Beach Bar', 'Beer Bar', 'Beer Garden', 'Champagne Bar', 'Cocktail Bar', 'Dive Bar', 'Gay Bar', 'Hookah Bar', 'Hotel Bar', 'Karaoke Bar', 'Pub', 'Sake Bar', 'Speakeasy', 'Sports Bar', 'Tiki Bar', 'Whisky Bar', 'Wine Bar', 'Brewery', 'Lounge', 'Night Market', 'Nightclub', 'Other Nightlife', 'Strip Club', 'Nightlife Spot', 'Bar', 'Beach Bar', 'Beer Bar', 'Beer Garden', 'Champagne Bar', 'Cocktail Bar', 'Dive Bar', 'Gay Bar', 'Hookah Bar', 'Hotel Bar', 'Karaoke Bar', 'Pub', 'Sake Bar', 'Speakeasy', 'Sports Bar', 'Tiki Bar', 'Whisky Bar', 'Wine Bar', 'Brewery', 'Lounge', 'Night Market', 'Nightclub', 'Other Nightlife', 'Strip Club']\n"
     ]
    }
   ],
   "source": [
    "# This could be modified to make a function that can be called for each user. \n",
    "\n",
    "for item1 in user1_prefs : \n",
    "    if \" - any\" in item1 : \n",
    "        super_category = item1.replace(\" - any\", \"\")\n",
    "        # print(super_category)\n",
    "        for item2 in cat_dict : \n",
    "            if cat_dict[item2] == super_category :\n",
    "                user1_prefs.append(item2)\n",
    "\n",
    "for item1 in user2_prefs : \n",
    "    if \" - any\" in item1 : \n",
    "        super_category = item1.replace(\" - any\", \"\")\n",
    "        # print(super_category)\n",
    "        for item2 in cat_dict : \n",
    "            if cat_dict[item2] == super_category :\n",
    "                user2_prefs.append(item2)\n",
    "                \n",
    "print(user2_prefs)"
   ]
  },
  {
   "cell_type": "code",
   "execution_count": 124,
   "metadata": {},
   "outputs": [],
   "source": [
    "# use one-hot encoding to show whether a venue has a venue category within the user preferences lists\n",
    "# if a preference contains \" - any\" that means that the key should be checked instead of the value\n",
    "\n",
    "nearby_venues[\"User1 Prefs\"] = nearby_venues['Venue Category'].isin(user1_prefs)"
   ]
  },
  {
   "cell_type": "code",
   "execution_count": 125,
   "metadata": {},
   "outputs": [],
   "source": [
    "nearby_venues[\"User2 Prefs\"] = nearby_venues['Venue Category'].isin(user2_prefs)"
   ]
  },
  {
   "cell_type": "code",
   "execution_count": 126,
   "metadata": {},
   "outputs": [
    {
     "data": {
      "text/html": [
       "<div>\n",
       "<style scoped>\n",
       "    .dataframe tbody tr th:only-of-type {\n",
       "        vertical-align: middle;\n",
       "    }\n",
       "\n",
       "    .dataframe tbody tr th {\n",
       "        vertical-align: top;\n",
       "    }\n",
       "\n",
       "    .dataframe thead th {\n",
       "        text-align: right;\n",
       "    }\n",
       "</style>\n",
       "<table border=\"1\" class=\"dataframe\">\n",
       "  <thead>\n",
       "    <tr style=\"text-align: right;\">\n",
       "      <th></th>\n",
       "      <th>Neighborhood</th>\n",
       "      <th>Neighborhood Latitude</th>\n",
       "      <th>Neighborhood Longitude</th>\n",
       "      <th>Venue</th>\n",
       "      <th>Venue Latitude</th>\n",
       "      <th>Venue Longitude</th>\n",
       "      <th>Venue Category</th>\n",
       "      <th>User1 Prefs</th>\n",
       "      <th>User2 Prefs</th>\n",
       "    </tr>\n",
       "  </thead>\n",
       "  <tbody>\n",
       "    <tr>\n",
       "      <th>0</th>\n",
       "      <td>U.S. NAVAL BASE</td>\n",
       "      <td>29.946085</td>\n",
       "      <td>-90.026093</td>\n",
       "      <td>Behrman Stadium</td>\n",
       "      <td>29.939423</td>\n",
       "      <td>-90.030863</td>\n",
       "      <td>Stadium</td>\n",
       "      <td>False</td>\n",
       "      <td>False</td>\n",
       "    </tr>\n",
       "    <tr>\n",
       "      <th>1</th>\n",
       "      <td>U.S. NAVAL BASE</td>\n",
       "      <td>29.946085</td>\n",
       "      <td>-90.026093</td>\n",
       "      <td>Federal City Inn &amp; Suites</td>\n",
       "      <td>29.947682</td>\n",
       "      <td>-90.032891</td>\n",
       "      <td>Hotel</td>\n",
       "      <td>False</td>\n",
       "      <td>False</td>\n",
       "    </tr>\n",
       "    <tr>\n",
       "      <th>2</th>\n",
       "      <td>U.S. NAVAL BASE</td>\n",
       "      <td>29.946085</td>\n",
       "      <td>-90.026093</td>\n",
       "      <td>Subway</td>\n",
       "      <td>29.950125</td>\n",
       "      <td>-90.034375</td>\n",
       "      <td>Sandwich Place</td>\n",
       "      <td>True</td>\n",
       "      <td>False</td>\n",
       "    </tr>\n",
       "    <tr>\n",
       "      <th>3</th>\n",
       "      <td>U.S. NAVAL BASE</td>\n",
       "      <td>29.946085</td>\n",
       "      <td>-90.026093</td>\n",
       "      <td>The Mighty Missisippi</td>\n",
       "      <td>29.949695</td>\n",
       "      <td>-90.023710</td>\n",
       "      <td>Boat or Ferry</td>\n",
       "      <td>False</td>\n",
       "      <td>False</td>\n",
       "    </tr>\n",
       "    <tr>\n",
       "      <th>4</th>\n",
       "      <td>U.S. NAVAL BASE</td>\n",
       "      <td>29.946085</td>\n",
       "      <td>-90.026093</td>\n",
       "      <td>Navy Federal Credit Union</td>\n",
       "      <td>29.949349</td>\n",
       "      <td>-90.032268</td>\n",
       "      <td>Credit Union</td>\n",
       "      <td>False</td>\n",
       "      <td>False</td>\n",
       "    </tr>\n",
       "  </tbody>\n",
       "</table>\n",
       "</div>"
      ],
      "text/plain": [
       "      Neighborhood  Neighborhood Latitude  Neighborhood Longitude  \\\n",
       "0  U.S. NAVAL BASE              29.946085              -90.026093   \n",
       "1  U.S. NAVAL BASE              29.946085              -90.026093   \n",
       "2  U.S. NAVAL BASE              29.946085              -90.026093   \n",
       "3  U.S. NAVAL BASE              29.946085              -90.026093   \n",
       "4  U.S. NAVAL BASE              29.946085              -90.026093   \n",
       "\n",
       "                       Venue  Venue Latitude  Venue Longitude  Venue Category  \\\n",
       "0            Behrman Stadium       29.939423       -90.030863         Stadium   \n",
       "1  Federal City Inn & Suites       29.947682       -90.032891           Hotel   \n",
       "2                     Subway       29.950125       -90.034375  Sandwich Place   \n",
       "3      The Mighty Missisippi       29.949695       -90.023710   Boat or Ferry   \n",
       "4  Navy Federal Credit Union       29.949349       -90.032268    Credit Union   \n",
       "\n",
       "   User1 Prefs  User2 Prefs  \n",
       "0        False        False  \n",
       "1        False        False  \n",
       "2         True        False  \n",
       "3        False        False  \n",
       "4        False        False  "
      ]
     },
     "execution_count": 126,
     "metadata": {},
     "output_type": "execute_result"
    }
   ],
   "source": [
    "nearby_venues.head()"
   ]
  },
  {
   "cell_type": "code",
   "execution_count": 55,
   "metadata": {},
   "outputs": [
    {
     "name": "stdout",
     "output_type": "stream",
     "text": [
      "703 30\n"
     ]
    }
   ],
   "source": [
    "# We need to normalize the preference lists so that one user with a greater number of preferences does not \n",
    "# dominate the neighborhood score. \n",
    "\n",
    "user1_ncat = len(user1_prefs)\n",
    "user2_ncat = len(user2_prefs)\n",
    "\n",
    "print(user1_ncat, user2_ncat)\n",
    "\n",
    "# It might be more efficient to combine both lists into a single list\n",
    "# or a dictionary with key=category and value=wieght from ranked choice preferences"
   ]
  },
  {
   "cell_type": "code",
   "execution_count": 127,
   "metadata": {},
   "outputs": [],
   "source": [
    "nearby_venues_groupby_neighborhood = nearby_venues.groupby(['Neighborhood'])\n"
   ]
  },
  {
   "cell_type": "code",
   "execution_count": 128,
   "metadata": {},
   "outputs": [],
   "source": [
    "user1_scores = nearby_venues_groupby_neighborhood['User1 Prefs'].sum() / user1_ncat\n",
    "user2_scores = nearby_venues_groupby_neighborhood['User2 Prefs'].sum() / user1_ncat"
   ]
  },
  {
   "cell_type": "code",
   "execution_count": 98,
   "metadata": {},
   "outputs": [
    {
     "data": {
      "text/plain": [
       "pandas.core.series.Series"
      ]
     },
     "execution_count": 98,
     "metadata": {},
     "output_type": "execute_result"
    }
   ],
   "source": [
    "type(user2_scores)"
   ]
  },
  {
   "cell_type": "code",
   "execution_count": 129,
   "metadata": {},
   "outputs": [],
   "source": [
    "user1_scores_df = user1_scores.to_frame()\n",
    "user2_scores_df = user2_scores.to_frame()"
   ]
  },
  {
   "cell_type": "code",
   "execution_count": 130,
   "metadata": {},
   "outputs": [],
   "source": [
    "scores_df = pd.merge(user1_scores_df, user2_scores_df, on='Neighborhood')"
   ]
  },
  {
   "cell_type": "code",
   "execution_count": 131,
   "metadata": {},
   "outputs": [
    {
     "name": "stdout",
     "output_type": "stream",
     "text": [
      "0.0 0.059743954480796585\n"
     ]
    }
   ],
   "source": [
    "scores_df['Total'] = scores_df['User1 Prefs'] + scores_df['User2 Prefs']\n",
    "print(scores_df['Total'].min(), scores_df['Total'].max())\n",
    "scores_df['Scaled Score'] = 100.0 * scores_df['Total'] / scores_df['Total'].max()"
   ]
  },
  {
   "cell_type": "code",
   "execution_count": 132,
   "metadata": {},
   "outputs": [],
   "source": [
    "scores_df.sort_values('Total', ascending=False, inplace=True)"
   ]
  },
  {
   "cell_type": "code",
   "execution_count": 136,
   "metadata": {},
   "outputs": [
    {
     "name": "stdout",
     "output_type": "stream",
     "text": [
      "All neighborhoods in order :  ['MID-CITY', 'FRERET', 'UPTOWN', 'LOWER GARDEN DISTRICT', 'EAST CARROLLTON', 'EAST RIVERSIDE', 'BLACK PEARL', 'TOURO', 'MARIGNY', 'MILAN', 'BAYOU ST. JOHN', 'TULANE - GRAVIER', 'CENTRAL BUSINESS DISTRICT', 'ST. THOMAS DEV', 'GARDEN DISTRICT', 'LEONIDAS', 'IBERVILLE', 'FAIRGROUNDS', 'SEVENTH WARD', 'TREME - LAFITTE', 'BROADMOOR', 'WEST RIVERSIDE', 'FRENCH QUARTER', 'WEST END', 'LAKEVIEW', 'ST. CLAUDE', 'MARLYVILLE - FONTAINEBLEAU', 'IRISH CHANNEL', 'GERT TOWN', 'MILNEBURG', 'NAVARRE', 'CENTRAL CITY', 'BYWATER', 'DIXON', 'ALGIERS POINT', 'GENTILLY WOODS', 'ST. ROCH', 'LAKE TERRACE & OAKS', 'ST. ANTHONY', 'B. W. COOPER', 'AUDUBON', 'READ BLVD EAST', 'GENTILLY TERRACE', 'McDONOGH', 'LAKEWOOD', 'WHITNEY', 'LITTLE WOODS', 'HOLLYGROVE', 'WEST LAKE FOREST', 'CITY PARK', 'TALL TIMBERS - BRECHTEL', 'OLD AURORA', 'PINES VILLAGE', 'FISCHER DEV', 'DILLARD', 'FILMORE', 'FLORIDA AREA', 'PONTCHARTRAIN PARK', 'FLORIDA DEV', 'HOLY CROSS', 'LAKESHORE - LAKE VISTA', 'PLUM ORCHARD', 'BEHRMAN', 'ST. BERNARD AREA', 'READ BLVD WEST', 'U.S. NAVAL BASE', 'DESIRE AREA', 'LOWER NINTH WARD', 'NEW AURORA - ENGLISH TURN', 'LAKE CATHERINE']\n",
      "Top 5 :  ['MID-CITY', 'FRERET', 'UPTOWN', 'LOWER GARDEN DISTRICT', 'EAST CARROLLTON']\n"
     ]
    }
   ],
   "source": [
    "sorted_neighborhoods = scores_df.index.tolist()\n",
    "print(\"All neighborhoods in order : \", sorted_neighborhoods)\n",
    "top5_neighborhoods = sorted_neighborhoods[0:5]\n",
    "print(\"Top 5 : \", top5_neighborhoods)"
   ]
  },
  {
   "cell_type": "code",
   "execution_count": 134,
   "metadata": {},
   "outputs": [
    {
     "name": "stdout",
     "output_type": "stream",
     "text": [
      "Your top 5 neighborhoods are :  ['MID-CITY', 'FRERET', 'UPTOWN', 'LOWER GARDEN DISTRICT', 'EAST CARROLLTON']\n"
     ]
    }
   ],
   "source": [
    "print(\"Your top 5 neighborhoods are : \", top5_neighborhoods)"
   ]
  },
  {
   "cell_type": "markdown",
   "metadata": {},
   "source": [
    "## Results\n",
    "\n",
    "New Orleans's City Planning Commission divides the city into 72 neighborhoods.\n",
    "\n",
    "The top 5 neighborhoods for this couple are :\n",
    " - Mid-City\n",
    " - Freret\n",
    " - Uptown\n",
    " - Lower Garden District\n",
    " - East Carrollton\n",
    " \n",
    "Based on my knowledge of the city, this prediction is good. These neighborhoods all have a high concentration of bars and restuarants. The French Quarter is ranked number 23, which is surprisingly low; this might be due to the lack of parks and churches, which are a preference for User 1. \n",
    "\n"
   ]
  },
  {
   "cell_type": "code",
   "execution_count": 138,
   "metadata": {},
   "outputs": [],
   "source": [
    "# need to have a dataframe with neighborhood name, latitude, longitude, and score for visualization\n",
    "\n",
    "visual_df = pd.merge(df_neighborhoods, scores_df, on='Neighborhood')"
   ]
  },
  {
   "cell_type": "code",
   "execution_count": 139,
   "metadata": {},
   "outputs": [
    {
     "data": {
      "text/html": [
       "<div>\n",
       "<style scoped>\n",
       "    .dataframe tbody tr th:only-of-type {\n",
       "        vertical-align: middle;\n",
       "    }\n",
       "\n",
       "    .dataframe tbody tr th {\n",
       "        vertical-align: top;\n",
       "    }\n",
       "\n",
       "    .dataframe thead th {\n",
       "        text-align: right;\n",
       "    }\n",
       "</style>\n",
       "<table border=\"1\" class=\"dataframe\">\n",
       "  <thead>\n",
       "    <tr style=\"text-align: right;\">\n",
       "      <th></th>\n",
       "      <th>Neighborhood</th>\n",
       "      <th>Longitude</th>\n",
       "      <th>Latitude</th>\n",
       "      <th>User1 Prefs</th>\n",
       "      <th>User2 Prefs</th>\n",
       "      <th>Total</th>\n",
       "      <th>Scaled Score</th>\n",
       "    </tr>\n",
       "  </thead>\n",
       "  <tbody>\n",
       "    <tr>\n",
       "      <th>0</th>\n",
       "      <td>U.S. NAVAL BASE</td>\n",
       "      <td>-90.026093</td>\n",
       "      <td>29.946085</td>\n",
       "      <td>0.002845</td>\n",
       "      <td>0.000000</td>\n",
       "      <td>0.002845</td>\n",
       "      <td>4.761905</td>\n",
       "    </tr>\n",
       "    <tr>\n",
       "      <th>1</th>\n",
       "      <td>ALGIERS POINT</td>\n",
       "      <td>-90.051606</td>\n",
       "      <td>29.952462</td>\n",
       "      <td>0.012802</td>\n",
       "      <td>0.005690</td>\n",
       "      <td>0.018492</td>\n",
       "      <td>30.952381</td>\n",
       "    </tr>\n",
       "    <tr>\n",
       "      <th>2</th>\n",
       "      <td>WHITNEY</td>\n",
       "      <td>-90.042357</td>\n",
       "      <td>29.947200</td>\n",
       "      <td>0.011380</td>\n",
       "      <td>0.000000</td>\n",
       "      <td>0.011380</td>\n",
       "      <td>19.047619</td>\n",
       "    </tr>\n",
       "    <tr>\n",
       "      <th>3</th>\n",
       "      <td>AUDUBON</td>\n",
       "      <td>-90.121450</td>\n",
       "      <td>29.932994</td>\n",
       "      <td>0.011380</td>\n",
       "      <td>0.002845</td>\n",
       "      <td>0.014225</td>\n",
       "      <td>23.809524</td>\n",
       "    </tr>\n",
       "    <tr>\n",
       "      <th>4</th>\n",
       "      <td>OLD AURORA</td>\n",
       "      <td>-90.000000</td>\n",
       "      <td>29.924440</td>\n",
       "      <td>0.007112</td>\n",
       "      <td>0.000000</td>\n",
       "      <td>0.007112</td>\n",
       "      <td>11.904762</td>\n",
       "    </tr>\n",
       "  </tbody>\n",
       "</table>\n",
       "</div>"
      ],
      "text/plain": [
       "      Neighborhood  Longitude   Latitude  User1 Prefs  User2 Prefs     Total  \\\n",
       "0  U.S. NAVAL BASE -90.026093  29.946085     0.002845     0.000000  0.002845   \n",
       "1    ALGIERS POINT -90.051606  29.952462     0.012802     0.005690  0.018492   \n",
       "2          WHITNEY -90.042357  29.947200     0.011380     0.000000  0.011380   \n",
       "3          AUDUBON -90.121450  29.932994     0.011380     0.002845  0.014225   \n",
       "4       OLD AURORA -90.000000  29.924440     0.007112     0.000000  0.007112   \n",
       "\n",
       "   Scaled Score  \n",
       "0      4.761905  \n",
       "1     30.952381  \n",
       "2     19.047619  \n",
       "3     23.809524  \n",
       "4     11.904762  "
      ]
     },
     "execution_count": 139,
     "metadata": {},
     "output_type": "execute_result"
    }
   ],
   "source": [
    "visual_df.head()"
   ]
  },
  {
   "cell_type": "code",
   "execution_count": 155,
   "metadata": {},
   "outputs": [
    {
     "data": {
      "text/html": [
       "<div style=\"width:100%;\"><div style=\"position:relative;width:100%;height:0;padding-bottom:60%;\"><span style=\"color:#565656\">Make this Notebook Trusted to load map: File -> Trust Notebook</span><iframe src=\"about:blank\" style=\"position:absolute;width:100%;height:100%;left:0;top:0;border:none !important;\" data-html=%3C%21DOCTYPE%20html%3E%0A%3Chead%3E%20%20%20%20%0A%20%20%20%20%3Cmeta%20http-equiv%3D%22content-type%22%20content%3D%22text/html%3B%20charset%3DUTF-8%22%20/%3E%0A%20%20%20%20%3Cscript%3EL_PREFER_CANVAS%20%3D%20false%3B%20L_NO_TOUCH%20%3D%20false%3B%20L_DISABLE_3D%20%3D%20false%3B%3C/script%3E%0A%20%20%20%20%3Cscript%20src%3D%22https%3A//cdn.jsdelivr.net/npm/leaflet%401.2.0/dist/leaflet.js%22%3E%3C/script%3E%0A%20%20%20%20%3Cscript%20src%3D%22https%3A//ajax.googleapis.com/ajax/libs/jquery/1.11.1/jquery.min.js%22%3E%3C/script%3E%0A%20%20%20%20%3Cscript%20src%3D%22https%3A//maxcdn.bootstrapcdn.com/bootstrap/3.2.0/js/bootstrap.min.js%22%3E%3C/script%3E%0A%20%20%20%20%3Cscript%20src%3D%22https%3A//cdnjs.cloudflare.com/ajax/libs/Leaflet.awesome-markers/2.0.2/leaflet.awesome-markers.js%22%3E%3C/script%3E%0A%20%20%20%20%3Clink%20rel%3D%22stylesheet%22%20href%3D%22https%3A//cdn.jsdelivr.net/npm/leaflet%401.2.0/dist/leaflet.css%22/%3E%0A%20%20%20%20%3Clink%20rel%3D%22stylesheet%22%20href%3D%22https%3A//maxcdn.bootstrapcdn.com/bootstrap/3.2.0/css/bootstrap.min.css%22/%3E%0A%20%20%20%20%3Clink%20rel%3D%22stylesheet%22%20href%3D%22https%3A//maxcdn.bootstrapcdn.com/bootstrap/3.2.0/css/bootstrap-theme.min.css%22/%3E%0A%20%20%20%20%3Clink%20rel%3D%22stylesheet%22%20href%3D%22https%3A//maxcdn.bootstrapcdn.com/font-awesome/4.6.3/css/font-awesome.min.css%22/%3E%0A%20%20%20%20%3Clink%20rel%3D%22stylesheet%22%20href%3D%22https%3A//cdnjs.cloudflare.com/ajax/libs/Leaflet.awesome-markers/2.0.2/leaflet.awesome-markers.css%22/%3E%0A%20%20%20%20%3Clink%20rel%3D%22stylesheet%22%20href%3D%22https%3A//rawgit.com/python-visualization/folium/master/folium/templates/leaflet.awesome.rotate.css%22/%3E%0A%20%20%20%20%3Cstyle%3Ehtml%2C%20body%20%7Bwidth%3A%20100%25%3Bheight%3A%20100%25%3Bmargin%3A%200%3Bpadding%3A%200%3B%7D%3C/style%3E%0A%20%20%20%20%3Cstyle%3E%23map%20%7Bposition%3Aabsolute%3Btop%3A0%3Bbottom%3A0%3Bright%3A0%3Bleft%3A0%3B%7D%3C/style%3E%0A%20%20%20%20%0A%20%20%20%20%20%20%20%20%20%20%20%20%3Cstyle%3E%20%23map_4cf9781c24e441e98d89939983b39e1d%20%7B%0A%20%20%20%20%20%20%20%20%20%20%20%20%20%20%20%20position%20%3A%20relative%3B%0A%20%20%20%20%20%20%20%20%20%20%20%20%20%20%20%20width%20%3A%20100.0%25%3B%0A%20%20%20%20%20%20%20%20%20%20%20%20%20%20%20%20height%3A%20100.0%25%3B%0A%20%20%20%20%20%20%20%20%20%20%20%20%20%20%20%20left%3A%200.0%25%3B%0A%20%20%20%20%20%20%20%20%20%20%20%20%20%20%20%20top%3A%200.0%25%3B%0A%20%20%20%20%20%20%20%20%20%20%20%20%20%20%20%20%7D%0A%20%20%20%20%20%20%20%20%20%20%20%20%3C/style%3E%0A%20%20%20%20%20%20%20%20%0A%3C/head%3E%0A%3Cbody%3E%20%20%20%20%0A%20%20%20%20%0A%20%20%20%20%20%20%20%20%20%20%20%20%3Cdiv%20class%3D%22folium-map%22%20id%3D%22map_4cf9781c24e441e98d89939983b39e1d%22%20%3E%3C/div%3E%0A%20%20%20%20%20%20%20%20%0A%3C/body%3E%0A%3Cscript%3E%20%20%20%20%0A%20%20%20%20%0A%0A%20%20%20%20%20%20%20%20%20%20%20%20%0A%20%20%20%20%20%20%20%20%20%20%20%20%20%20%20%20var%20bounds%20%3D%20null%3B%0A%20%20%20%20%20%20%20%20%20%20%20%20%0A%0A%20%20%20%20%20%20%20%20%20%20%20%20var%20map_4cf9781c24e441e98d89939983b39e1d%20%3D%20L.map%28%0A%20%20%20%20%20%20%20%20%20%20%20%20%20%20%20%20%20%20%20%20%20%20%20%20%20%20%20%20%20%20%20%20%20%20%27map_4cf9781c24e441e98d89939983b39e1d%27%2C%0A%20%20%20%20%20%20%20%20%20%20%20%20%20%20%20%20%20%20%20%20%20%20%20%20%20%20%20%20%20%20%20%20%20%20%7Bcenter%3A%20%5B29.94608469%2C-90.02609253%5D%2C%0A%20%20%20%20%20%20%20%20%20%20%20%20%20%20%20%20%20%20%20%20%20%20%20%20%20%20%20%20%20%20%20%20%20%20zoom%3A%2012%2C%0A%20%20%20%20%20%20%20%20%20%20%20%20%20%20%20%20%20%20%20%20%20%20%20%20%20%20%20%20%20%20%20%20%20%20maxBounds%3A%20bounds%2C%0A%20%20%20%20%20%20%20%20%20%20%20%20%20%20%20%20%20%20%20%20%20%20%20%20%20%20%20%20%20%20%20%20%20%20layers%3A%20%5B%5D%2C%0A%20%20%20%20%20%20%20%20%20%20%20%20%20%20%20%20%20%20%20%20%20%20%20%20%20%20%20%20%20%20%20%20%20%20worldCopyJump%3A%20false%2C%0A%20%20%20%20%20%20%20%20%20%20%20%20%20%20%20%20%20%20%20%20%20%20%20%20%20%20%20%20%20%20%20%20%20%20crs%3A%20L.CRS.EPSG3857%0A%20%20%20%20%20%20%20%20%20%20%20%20%20%20%20%20%20%20%20%20%20%20%20%20%20%20%20%20%20%20%20%20%20%7D%29%3B%0A%20%20%20%20%20%20%20%20%20%20%20%20%0A%20%20%20%20%20%20%20%20%0A%20%20%20%20%0A%20%20%20%20%20%20%20%20%20%20%20%20var%20tile_layer_635a2ab93af94ac78384d6160be0e0e6%20%3D%20L.tileLayer%28%0A%20%20%20%20%20%20%20%20%20%20%20%20%20%20%20%20%27https%3A//%7Bs%7D.tile.openstreetmap.org/%7Bz%7D/%7Bx%7D/%7By%7D.png%27%2C%0A%20%20%20%20%20%20%20%20%20%20%20%20%20%20%20%20%7B%0A%20%20%22attribution%22%3A%20null%2C%0A%20%20%22detectRetina%22%3A%20false%2C%0A%20%20%22maxZoom%22%3A%2018%2C%0A%20%20%22minZoom%22%3A%201%2C%0A%20%20%22noWrap%22%3A%20false%2C%0A%20%20%22subdomains%22%3A%20%22abc%22%0A%7D%0A%20%20%20%20%20%20%20%20%20%20%20%20%20%20%20%20%29.addTo%28map_4cf9781c24e441e98d89939983b39e1d%29%3B%0A%20%20%20%20%20%20%20%20%0A%20%20%20%20%0A%20%20%20%20%20%20%20%20%20%20%20%20var%20circle_marker_44b6488656564f75bb0e3972502a09f2%20%3D%20L.circleMarker%28%0A%20%20%20%20%20%20%20%20%20%20%20%20%20%20%20%20%5B29.94608469%2C-90.02609253%5D%2C%0A%20%20%20%20%20%20%20%20%20%20%20%20%20%20%20%20%7B%0A%20%20%22bubblingMouseEvents%22%3A%20true%2C%0A%20%20%22color%22%3A%20%22%23a50026%22%2C%0A%20%20%22dashArray%22%3A%20null%2C%0A%20%20%22dashOffset%22%3A%20null%2C%0A%20%20%22fill%22%3A%20true%2C%0A%20%20%22fillColor%22%3A%20%22%23a50026%22%2C%0A%20%20%22fillOpacity%22%3A%200.7%2C%0A%20%20%22fillRule%22%3A%20%22evenodd%22%2C%0A%20%20%22lineCap%22%3A%20%22round%22%2C%0A%20%20%22lineJoin%22%3A%20%22round%22%2C%0A%20%20%22opacity%22%3A%201.0%2C%0A%20%20%22radius%22%3A%208%2C%0A%20%20%22stroke%22%3A%20true%2C%0A%20%20%22weight%22%3A%203%0A%7D%0A%20%20%20%20%20%20%20%20%20%20%20%20%20%20%20%20%29.addTo%28map_4cf9781c24e441e98d89939983b39e1d%29%3B%0A%20%20%20%20%20%20%20%20%20%20%20%20%0A%20%20%20%20%0A%20%20%20%20%20%20%20%20%20%20%20%20var%20popup_c9192fa1329e426591005e603233dec4%20%3D%20L.popup%28%7BmaxWidth%3A%20%27300%27%7D%29%3B%0A%0A%20%20%20%20%20%20%20%20%20%20%20%20%0A%20%20%20%20%20%20%20%20%20%20%20%20%20%20%20%20var%20html_36fe069feedd4d37a8c61395b4e94eee%20%3D%20%24%28%27%3Cdiv%20id%3D%22html_36fe069feedd4d37a8c61395b4e94eee%22%20style%3D%22width%3A%20100.0%25%3B%20height%3A%20100.0%25%3B%22%3EU.S.%20NAVAL%20BASE%20Score%204%3C/div%3E%27%29%5B0%5D%3B%0A%20%20%20%20%20%20%20%20%20%20%20%20%20%20%20%20popup_c9192fa1329e426591005e603233dec4.setContent%28html_36fe069feedd4d37a8c61395b4e94eee%29%3B%0A%20%20%20%20%20%20%20%20%20%20%20%20%0A%0A%20%20%20%20%20%20%20%20%20%20%20%20circle_marker_44b6488656564f75bb0e3972502a09f2.bindPopup%28popup_c9192fa1329e426591005e603233dec4%29%3B%0A%0A%20%20%20%20%20%20%20%20%20%20%20%20%0A%20%20%20%20%20%20%20%20%0A%20%20%20%20%0A%20%20%20%20%20%20%20%20%20%20%20%20var%20circle_marker_82aff14644b74789851ac0d1b4b89a32%20%3D%20L.circleMarker%28%0A%20%20%20%20%20%20%20%20%20%20%20%20%20%20%20%20%5B29.95246187%2C-90.0516057%5D%2C%0A%20%20%20%20%20%20%20%20%20%20%20%20%20%20%20%20%7B%0A%20%20%22bubblingMouseEvents%22%3A%20true%2C%0A%20%20%22color%22%3A%20%22%23f88d52%22%2C%0A%20%20%22dashArray%22%3A%20null%2C%0A%20%20%22dashOffset%22%3A%20null%2C%0A%20%20%22fill%22%3A%20true%2C%0A%20%20%22fillColor%22%3A%20%22%23f88d52%22%2C%0A%20%20%22fillOpacity%22%3A%200.7%2C%0A%20%20%22fillRule%22%3A%20%22evenodd%22%2C%0A%20%20%22lineCap%22%3A%20%22round%22%2C%0A%20%20%22lineJoin%22%3A%20%22round%22%2C%0A%20%20%22opacity%22%3A%201.0%2C%0A%20%20%22radius%22%3A%208%2C%0A%20%20%22stroke%22%3A%20true%2C%0A%20%20%22weight%22%3A%203%0A%7D%0A%20%20%20%20%20%20%20%20%20%20%20%20%20%20%20%20%29.addTo%28map_4cf9781c24e441e98d89939983b39e1d%29%3B%0A%20%20%20%20%20%20%20%20%20%20%20%20%0A%20%20%20%20%0A%20%20%20%20%20%20%20%20%20%20%20%20var%20popup_c79693f487654005b15b9ff4e6feb175%20%3D%20L.popup%28%7BmaxWidth%3A%20%27300%27%7D%29%3B%0A%0A%20%20%20%20%20%20%20%20%20%20%20%20%0A%20%20%20%20%20%20%20%20%20%20%20%20%20%20%20%20var%20html_c6dbabdeb39a467bba4504afdce4731c%20%3D%20%24%28%27%3Cdiv%20id%3D%22html_c6dbabdeb39a467bba4504afdce4731c%22%20style%3D%22width%3A%20100.0%25%3B%20height%3A%20100.0%25%3B%22%3EALGIERS%20POINT%20Score%2030%3C/div%3E%27%29%5B0%5D%3B%0A%20%20%20%20%20%20%20%20%20%20%20%20%20%20%20%20popup_c79693f487654005b15b9ff4e6feb175.setContent%28html_c6dbabdeb39a467bba4504afdce4731c%29%3B%0A%20%20%20%20%20%20%20%20%20%20%20%20%0A%0A%20%20%20%20%20%20%20%20%20%20%20%20circle_marker_82aff14644b74789851ac0d1b4b89a32.bindPopup%28popup_c79693f487654005b15b9ff4e6feb175%29%3B%0A%0A%20%20%20%20%20%20%20%20%20%20%20%20%0A%20%20%20%20%20%20%20%20%0A%20%20%20%20%0A%20%20%20%20%20%20%20%20%20%20%20%20var%20circle_marker_652abf735c4b42fb90c52bd09ddc179e%20%3D%20L.circleMarker%28%0A%20%20%20%20%20%20%20%20%20%20%20%20%20%20%20%20%5B29.94720026%2C-90.04235744%5D%2C%0A%20%20%20%20%20%20%20%20%20%20%20%20%20%20%20%20%7B%0A%20%20%22bubblingMouseEvents%22%3A%20true%2C%0A%20%20%22color%22%3A%20%22%23a50026%22%2C%0A%20%20%22dashArray%22%3A%20null%2C%0A%20%20%22dashOffset%22%3A%20null%2C%0A%20%20%22fill%22%3A%20true%2C%0A%20%20%22fillColor%22%3A%20%22%23a50026%22%2C%0A%20%20%22fillOpacity%22%3A%200.7%2C%0A%20%20%22fillRule%22%3A%20%22evenodd%22%2C%0A%20%20%22lineCap%22%3A%20%22round%22%2C%0A%20%20%22lineJoin%22%3A%20%22round%22%2C%0A%20%20%22opacity%22%3A%201.0%2C%0A%20%20%22radius%22%3A%208%2C%0A%20%20%22stroke%22%3A%20true%2C%0A%20%20%22weight%22%3A%203%0A%7D%0A%20%20%20%20%20%20%20%20%20%20%20%20%20%20%20%20%29.addTo%28map_4cf9781c24e441e98d89939983b39e1d%29%3B%0A%20%20%20%20%20%20%20%20%20%20%20%20%0A%20%20%20%20%0A%20%20%20%20%20%20%20%20%20%20%20%20var%20popup_721bd4d737284c8a814a161ca5b9ad5b%20%3D%20L.popup%28%7BmaxWidth%3A%20%27300%27%7D%29%3B%0A%0A%20%20%20%20%20%20%20%20%20%20%20%20%0A%20%20%20%20%20%20%20%20%20%20%20%20%20%20%20%20var%20html_c5e7e8e6afd94d9db78842bf312eb353%20%3D%20%24%28%27%3Cdiv%20id%3D%22html_c5e7e8e6afd94d9db78842bf312eb353%22%20style%3D%22width%3A%20100.0%25%3B%20height%3A%20100.0%25%3B%22%3EWHITNEY%20Score%2019%3C/div%3E%27%29%5B0%5D%3B%0A%20%20%20%20%20%20%20%20%20%20%20%20%20%20%20%20popup_721bd4d737284c8a814a161ca5b9ad5b.setContent%28html_c5e7e8e6afd94d9db78842bf312eb353%29%3B%0A%20%20%20%20%20%20%20%20%20%20%20%20%0A%0A%20%20%20%20%20%20%20%20%20%20%20%20circle_marker_652abf735c4b42fb90c52bd09ddc179e.bindPopup%28popup_721bd4d737284c8a814a161ca5b9ad5b%29%3B%0A%0A%20%20%20%20%20%20%20%20%20%20%20%20%0A%20%20%20%20%20%20%20%20%0A%20%20%20%20%0A%20%20%20%20%20%20%20%20%20%20%20%20var%20circle_marker_747c8f73c168431b8c8b12b51dcdeac9%20%3D%20L.circleMarker%28%0A%20%20%20%20%20%20%20%20%20%20%20%20%20%20%20%20%5B29.93299437%2C-90.12145042%5D%2C%0A%20%20%20%20%20%20%20%20%20%20%20%20%20%20%20%20%7B%0A%20%20%22bubblingMouseEvents%22%3A%20true%2C%0A%20%20%22color%22%3A%20%22%23f88d52%22%2C%0A%20%20%22dashArray%22%3A%20null%2C%0A%20%20%22dashOffset%22%3A%20null%2C%0A%20%20%22fill%22%3A%20true%2C%0A%20%20%22fillColor%22%3A%20%22%23f88d52%22%2C%0A%20%20%22fillOpacity%22%3A%200.7%2C%0A%20%20%22fillRule%22%3A%20%22evenodd%22%2C%0A%20%20%22lineCap%22%3A%20%22round%22%2C%0A%20%20%22lineJoin%22%3A%20%22round%22%2C%0A%20%20%22opacity%22%3A%201.0%2C%0A%20%20%22radius%22%3A%208%2C%0A%20%20%22stroke%22%3A%20true%2C%0A%20%20%22weight%22%3A%203%0A%7D%0A%20%20%20%20%20%20%20%20%20%20%20%20%20%20%20%20%29.addTo%28map_4cf9781c24e441e98d89939983b39e1d%29%3B%0A%20%20%20%20%20%20%20%20%20%20%20%20%0A%20%20%20%20%0A%20%20%20%20%20%20%20%20%20%20%20%20var%20popup_d0fddf3b006442068f8bc47efe820bbb%20%3D%20L.popup%28%7BmaxWidth%3A%20%27300%27%7D%29%3B%0A%0A%20%20%20%20%20%20%20%20%20%20%20%20%0A%20%20%20%20%20%20%20%20%20%20%20%20%20%20%20%20var%20html_b0e66fa9d7ac4700858d8119f5253944%20%3D%20%24%28%27%3Cdiv%20id%3D%22html_b0e66fa9d7ac4700858d8119f5253944%22%20style%3D%22width%3A%20100.0%25%3B%20height%3A%20100.0%25%3B%22%3EAUDUBON%20Score%2023%3C/div%3E%27%29%5B0%5D%3B%0A%20%20%20%20%20%20%20%20%20%20%20%20%20%20%20%20popup_d0fddf3b006442068f8bc47efe820bbb.setContent%28html_b0e66fa9d7ac4700858d8119f5253944%29%3B%0A%20%20%20%20%20%20%20%20%20%20%20%20%0A%0A%20%20%20%20%20%20%20%20%20%20%20%20circle_marker_747c8f73c168431b8c8b12b51dcdeac9.bindPopup%28popup_d0fddf3b006442068f8bc47efe820bbb%29%3B%0A%0A%20%20%20%20%20%20%20%20%20%20%20%20%0A%20%20%20%20%20%20%20%20%0A%20%20%20%20%0A%20%20%20%20%20%20%20%20%20%20%20%20var%20circle_marker_4f119c925ec144e09af8bea0039c0233%20%3D%20L.circleMarker%28%0A%20%20%20%20%20%20%20%20%20%20%20%20%20%20%20%20%5B29.92444011%2C-90.0%5D%2C%0A%20%20%20%20%20%20%20%20%20%20%20%20%20%20%20%20%7B%0A%20%20%22bubblingMouseEvents%22%3A%20true%2C%0A%20%20%22color%22%3A%20%22%23a50026%22%2C%0A%20%20%22dashArray%22%3A%20null%2C%0A%20%20%22dashOffset%22%3A%20null%2C%0A%20%20%22fill%22%3A%20true%2C%0A%20%20%22fillColor%22%3A%20%22%23a50026%22%2C%0A%20%20%22fillOpacity%22%3A%200.7%2C%0A%20%20%22fillRule%22%3A%20%22evenodd%22%2C%0A%20%20%22lineCap%22%3A%20%22round%22%2C%0A%20%20%22lineJoin%22%3A%20%22round%22%2C%0A%20%20%22opacity%22%3A%201.0%2C%0A%20%20%22radius%22%3A%208%2C%0A%20%20%22stroke%22%3A%20true%2C%0A%20%20%22weight%22%3A%203%0A%7D%0A%20%20%20%20%20%20%20%20%20%20%20%20%20%20%20%20%29.addTo%28map_4cf9781c24e441e98d89939983b39e1d%29%3B%0A%20%20%20%20%20%20%20%20%20%20%20%20%0A%20%20%20%20%0A%20%20%20%20%20%20%20%20%20%20%20%20var%20popup_0548ae301fc6411eab4c54c6f3b1d556%20%3D%20L.popup%28%7BmaxWidth%3A%20%27300%27%7D%29%3B%0A%0A%20%20%20%20%20%20%20%20%20%20%20%20%0A%20%20%20%20%20%20%20%20%20%20%20%20%20%20%20%20var%20html_0edbcd118b4d47b1a3403fe4a147fe77%20%3D%20%24%28%27%3Cdiv%20id%3D%22html_0edbcd118b4d47b1a3403fe4a147fe77%22%20style%3D%22width%3A%20100.0%25%3B%20height%3A%20100.0%25%3B%22%3EOLD%20AURORA%20Score%2011%3C/div%3E%27%29%5B0%5D%3B%0A%20%20%20%20%20%20%20%20%20%20%20%20%20%20%20%20popup_0548ae301fc6411eab4c54c6f3b1d556.setContent%28html_0edbcd118b4d47b1a3403fe4a147fe77%29%3B%0A%20%20%20%20%20%20%20%20%20%20%20%20%0A%0A%20%20%20%20%20%20%20%20%20%20%20%20circle_marker_4f119c925ec144e09af8bea0039c0233.bindPopup%28popup_0548ae301fc6411eab4c54c6f3b1d556%29%3B%0A%0A%20%20%20%20%20%20%20%20%20%20%20%20%0A%20%20%20%20%20%20%20%20%0A%20%20%20%20%0A%20%20%20%20%20%20%20%20%20%20%20%20var%20circle_marker_ee4eeebd69ab4936ac13d1f4c87617c6%20%3D%20L.circleMarker%28%0A%20%20%20%20%20%20%20%20%20%20%20%20%20%20%20%20%5B29.95177397%2C-90.09175301%5D%2C%0A%20%20%20%20%20%20%20%20%20%20%20%20%20%20%20%20%7B%0A%20%20%22bubblingMouseEvents%22%3A%20true%2C%0A%20%20%22color%22%3A%20%22%23f88d52%22%2C%0A%20%20%22dashArray%22%3A%20null%2C%0A%20%20%22dashOffset%22%3A%20null%2C%0A%20%20%22fill%22%3A%20true%2C%0A%20%20%22fillColor%22%3A%20%22%23f88d52%22%2C%0A%20%20%22fillOpacity%22%3A%200.7%2C%0A%20%20%22fillRule%22%3A%20%22evenodd%22%2C%0A%20%20%22lineCap%22%3A%20%22round%22%2C%0A%20%20%22lineJoin%22%3A%20%22round%22%2C%0A%20%20%22opacity%22%3A%201.0%2C%0A%20%20%22radius%22%3A%208%2C%0A%20%20%22stroke%22%3A%20true%2C%0A%20%20%22weight%22%3A%203%0A%7D%0A%20%20%20%20%20%20%20%20%20%20%20%20%20%20%20%20%29.addTo%28map_4cf9781c24e441e98d89939983b39e1d%29%3B%0A%20%20%20%20%20%20%20%20%20%20%20%20%0A%20%20%20%20%0A%20%20%20%20%20%20%20%20%20%20%20%20var%20popup_477e93ba194d4fc69703658f5fe73c21%20%3D%20L.popup%28%7BmaxWidth%3A%20%27300%27%7D%29%3B%0A%0A%20%20%20%20%20%20%20%20%20%20%20%20%0A%20%20%20%20%20%20%20%20%20%20%20%20%20%20%20%20var%20html_bb8dc2b6b7154962aed17c9204a0a335%20%3D%20%24%28%27%3Cdiv%20id%3D%22html_bb8dc2b6b7154962aed17c9204a0a335%22%20style%3D%22width%3A%20100.0%25%3B%20height%3A%20100.0%25%3B%22%3EB.%20W.%20COOPER%20Score%2023%3C/div%3E%27%29%5B0%5D%3B%0A%20%20%20%20%20%20%20%20%20%20%20%20%20%20%20%20popup_477e93ba194d4fc69703658f5fe73c21.setContent%28html_bb8dc2b6b7154962aed17c9204a0a335%29%3B%0A%20%20%20%20%20%20%20%20%20%20%20%20%0A%0A%20%20%20%20%20%20%20%20%20%20%20%20circle_marker_ee4eeebd69ab4936ac13d1f4c87617c6.bindPopup%28popup_477e93ba194d4fc69703658f5fe73c21%29%3B%0A%0A%20%20%20%20%20%20%20%20%20%20%20%20%0A%20%20%20%20%20%20%20%20%0A%20%20%20%20%0A%20%20%20%20%20%20%20%20%20%20%20%20var%20circle_marker_269a16fd79dd4b41b10f0aae070ab840%20%3D%20L.circleMarker%28%0A%20%20%20%20%20%20%20%20%20%20%20%20%20%20%20%20%5B29.97607064%2C-90.08651733%5D%2C%0A%20%20%20%20%20%20%20%20%20%20%20%20%20%20%20%20%7B%0A%20%20%22bubblingMouseEvents%22%3A%20true%2C%0A%20%20%22color%22%3A%20%22%23006837%22%2C%0A%20%20%22dashArray%22%3A%20null%2C%0A%20%20%22dashOffset%22%3A%20null%2C%0A%20%20%22fill%22%3A%20true%2C%0A%20%20%22fillColor%22%3A%20%22%23006837%22%2C%0A%20%20%22fillOpacity%22%3A%200.7%2C%0A%20%20%22fillRule%22%3A%20%22evenodd%22%2C%0A%20%20%22lineCap%22%3A%20%22round%22%2C%0A%20%20%22lineJoin%22%3A%20%22round%22%2C%0A%20%20%22opacity%22%3A%201.0%2C%0A%20%20%22radius%22%3A%208%2C%0A%20%20%22stroke%22%3A%20true%2C%0A%20%20%22weight%22%3A%203%0A%7D%0A%20%20%20%20%20%20%20%20%20%20%20%20%20%20%20%20%29.addTo%28map_4cf9781c24e441e98d89939983b39e1d%29%3B%0A%20%20%20%20%20%20%20%20%20%20%20%20%0A%20%20%20%20%0A%20%20%20%20%20%20%20%20%20%20%20%20var%20popup_1efff8f67d754b2f8ea7b49b415334c0%20%3D%20L.popup%28%7BmaxWidth%3A%20%27300%27%7D%29%3B%0A%0A%20%20%20%20%20%20%20%20%20%20%20%20%0A%20%20%20%20%20%20%20%20%20%20%20%20%20%20%20%20var%20html_d9cad30f96b84de7bffb988cc38ae7fa%20%3D%20%24%28%27%3Cdiv%20id%3D%22html_d9cad30f96b84de7bffb988cc38ae7fa%22%20style%3D%22width%3A%20100.0%25%3B%20height%3A%20100.0%25%3B%22%3EBAYOU%20ST.%20JOHN%20Score%2083%3C/div%3E%27%29%5B0%5D%3B%0A%20%20%20%20%20%20%20%20%20%20%20%20%20%20%20%20popup_1efff8f67d754b2f8ea7b49b415334c0.setContent%28html_d9cad30f96b84de7bffb988cc38ae7fa%29%3B%0A%20%20%20%20%20%20%20%20%20%20%20%20%0A%0A%20%20%20%20%20%20%20%20%20%20%20%20circle_marker_269a16fd79dd4b41b10f0aae070ab840.bindPopup%28popup_1efff8f67d754b2f8ea7b49b415334c0%29%3B%0A%0A%20%20%20%20%20%20%20%20%20%20%20%20%0A%20%20%20%20%20%20%20%20%0A%20%20%20%20%0A%20%20%20%20%20%20%20%20%20%20%20%20var%20circle_marker_8990d05170b44f7c9be9c05b97f7e804%20%3D%20L.circleMarker%28%0A%20%20%20%20%20%20%20%20%20%20%20%20%20%20%20%20%5B29.934816700000002%2C-90.02643585%5D%2C%0A%20%20%20%20%20%20%20%20%20%20%20%20%20%20%20%20%7B%0A%20%20%22bubblingMouseEvents%22%3A%20true%2C%0A%20%20%22color%22%3A%20%22%23a50026%22%2C%0A%20%20%22dashArray%22%3A%20null%2C%0A%20%20%22dashOffset%22%3A%20null%2C%0A%20%20%22fill%22%3A%20true%2C%0A%20%20%22fillColor%22%3A%20%22%23a50026%22%2C%0A%20%20%22fillOpacity%22%3A%200.7%2C%0A%20%20%22fillRule%22%3A%20%22evenodd%22%2C%0A%20%20%22lineCap%22%3A%20%22round%22%2C%0A%20%20%22lineJoin%22%3A%20%22round%22%2C%0A%20%20%22opacity%22%3A%201.0%2C%0A%20%20%22radius%22%3A%208%2C%0A%20%20%22stroke%22%3A%20true%2C%0A%20%20%22weight%22%3A%203%0A%7D%0A%20%20%20%20%20%20%20%20%20%20%20%20%20%20%20%20%29.addTo%28map_4cf9781c24e441e98d89939983b39e1d%29%3B%0A%20%20%20%20%20%20%20%20%20%20%20%20%0A%20%20%20%20%0A%20%20%20%20%20%20%20%20%20%20%20%20var%20popup_7aec03f917d24dfeb890c2b47c039531%20%3D%20L.popup%28%7BmaxWidth%3A%20%27300%27%7D%29%3B%0A%0A%20%20%20%20%20%20%20%20%20%20%20%20%0A%20%20%20%20%20%20%20%20%20%20%20%20%20%20%20%20var%20html_56bb59605ffd45cdb760d60010b81faf%20%3D%20%24%28%27%3Cdiv%20id%3D%22html_56bb59605ffd45cdb760d60010b81faf%22%20style%3D%22width%3A%20100.0%25%3B%20height%3A%20100.0%25%3B%22%3EBEHRMAN%20Score%207%3C/div%3E%27%29%5B0%5D%3B%0A%20%20%20%20%20%20%20%20%20%20%20%20%20%20%20%20popup_7aec03f917d24dfeb890c2b47c039531.setContent%28html_56bb59605ffd45cdb760d60010b81faf%29%3B%0A%20%20%20%20%20%20%20%20%20%20%20%20%0A%0A%20%20%20%20%20%20%20%20%20%20%20%20circle_marker_8990d05170b44f7c9be9c05b97f7e804.bindPopup%28popup_7aec03f917d24dfeb890c2b47c039531%29%3B%0A%0A%20%20%20%20%20%20%20%20%20%20%20%20%0A%20%20%20%20%20%20%20%20%0A%20%20%20%20%0A%20%20%20%20%20%20%20%20%20%20%20%20var%20circle_marker_8c98178df018481c9d700a93aa263e86%20%3D%20L.circleMarker%28%0A%20%20%20%20%20%20%20%20%20%20%20%20%20%20%20%20%5B29.93589521%2C-90.13488293%5D%2C%0A%20%20%20%20%20%20%20%20%20%20%20%20%20%20%20%20%7B%0A%20%20%22bubblingMouseEvents%22%3A%20true%2C%0A%20%20%22color%22%3A%20%22%23006837%22%2C%0A%20%20%22dashArray%22%3A%20null%2C%0A%20%20%22dashOffset%22%3A%20null%2C%0A%20%20%22fill%22%3A%20true%2C%0A%20%20%22fillColor%22%3A%20%22%23006837%22%2C%0A%20%20%22fillOpacity%22%3A%200.7%2C%0A%20%20%22fillRule%22%3A%20%22evenodd%22%2C%0A%20%20%22lineCap%22%3A%20%22round%22%2C%0A%20%20%22lineJoin%22%3A%20%22round%22%2C%0A%20%20%22opacity%22%3A%201.0%2C%0A%20%20%22radius%22%3A%208%2C%0A%20%20%22stroke%22%3A%20true%2C%0A%20%20%22weight%22%3A%203%0A%7D%0A%20%20%20%20%20%20%20%20%20%20%20%20%20%20%20%20%29.addTo%28map_4cf9781c24e441e98d89939983b39e1d%29%3B%0A%20%20%20%20%20%20%20%20%20%20%20%20%0A%20%20%20%20%0A%20%20%20%20%20%20%20%20%20%20%20%20var%20popup_bc604fc89380488fa1225a19646c70ad%20%3D%20L.popup%28%7BmaxWidth%3A%20%27300%27%7D%29%3B%0A%0A%20%20%20%20%20%20%20%20%20%20%20%20%0A%20%20%20%20%20%20%20%20%20%20%20%20%20%20%20%20var%20html_ee90cee79b4f4fb6a73113e998293e11%20%3D%20%24%28%27%3Cdiv%20id%3D%22html_ee90cee79b4f4fb6a73113e998293e11%22%20style%3D%22width%3A%20100.0%25%3B%20height%3A%20100.0%25%3B%22%3EBLACK%20PEARL%20Score%2085%3C/div%3E%27%29%5B0%5D%3B%0A%20%20%20%20%20%20%20%20%20%20%20%20%20%20%20%20popup_bc604fc89380488fa1225a19646c70ad.setContent%28html_ee90cee79b4f4fb6a73113e998293e11%29%3B%0A%20%20%20%20%20%20%20%20%20%20%20%20%0A%0A%20%20%20%20%20%20%20%20%20%20%20%20circle_marker_8c98178df018481c9d700a93aa263e86.bindPopup%28popup_bc604fc89380488fa1225a19646c70ad%29%3B%0A%0A%20%20%20%20%20%20%20%20%20%20%20%20%0A%20%20%20%20%20%20%20%20%0A%20%20%20%20%0A%20%20%20%20%20%20%20%20%20%20%20%20var%20circle_marker_afdba1dd1e7242abb08ec8187478dc21%20%3D%20L.circleMarker%28%0A%20%20%20%20%20%20%20%20%20%20%20%20%20%20%20%20%5B29.946568100000004%2C-90.10381222%5D%2C%0A%20%20%20%20%20%20%20%20%20%20%20%20%20%20%20%20%7B%0A%20%20%22bubblingMouseEvents%22%3A%20true%2C%0A%20%20%22color%22%3A%20%22%2386cb66%22%2C%0A%20%20%22dashArray%22%3A%20null%2C%0A%20%20%22dashOffset%22%3A%20null%2C%0A%20%20%22fill%22%3A%20true%2C%0A%20%20%22fillColor%22%3A%20%22%2386cb66%22%2C%0A%20%20%22fillOpacity%22%3A%200.7%2C%0A%20%20%22fillRule%22%3A%20%22evenodd%22%2C%0A%20%20%22lineCap%22%3A%20%22round%22%2C%0A%20%20%22lineJoin%22%3A%20%22round%22%2C%0A%20%20%22opacity%22%3A%201.0%2C%0A%20%20%22radius%22%3A%208%2C%0A%20%20%22stroke%22%3A%20true%2C%0A%20%20%22weight%22%3A%203%0A%7D%0A%20%20%20%20%20%20%20%20%20%20%20%20%20%20%20%20%29.addTo%28map_4cf9781c24e441e98d89939983b39e1d%29%3B%0A%20%20%20%20%20%20%20%20%20%20%20%20%0A%20%20%20%20%0A%20%20%20%20%20%20%20%20%20%20%20%20var%20popup_5bbc34c8ef7740b0baa088cb8bb0a417%20%3D%20L.popup%28%7BmaxWidth%3A%20%27300%27%7D%29%3B%0A%0A%20%20%20%20%20%20%20%20%20%20%20%20%0A%20%20%20%20%20%20%20%20%20%20%20%20%20%20%20%20var%20html_a90d49cf329c410194b1e15c2a9eb9a3%20%3D%20%24%28%27%3Cdiv%20id%3D%22html_a90d49cf329c410194b1e15c2a9eb9a3%22%20style%3D%22width%3A%20100.0%25%3B%20height%3A%20100.0%25%3B%22%3EBROADMOOR%20Score%2069%3C/div%3E%27%29%5B0%5D%3B%0A%20%20%20%20%20%20%20%20%20%20%20%20%20%20%20%20popup_5bbc34c8ef7740b0baa088cb8bb0a417.setContent%28html_a90d49cf329c410194b1e15c2a9eb9a3%29%3B%0A%20%20%20%20%20%20%20%20%20%20%20%20%0A%0A%20%20%20%20%20%20%20%20%20%20%20%20circle_marker_afdba1dd1e7242abb08ec8187478dc21.bindPopup%28popup_5bbc34c8ef7740b0baa088cb8bb0a417%29%3B%0A%0A%20%20%20%20%20%20%20%20%20%20%20%20%0A%20%20%20%20%20%20%20%20%0A%20%20%20%20%0A%20%20%20%20%20%20%20%20%20%20%20%20var%20circle_marker_994db9db62064a629237b3166e91bcf4%20%3D%20L.circleMarker%28%0A%20%20%20%20%20%20%20%20%20%20%20%20%20%20%20%20%5B29.95300103%2C-90.11346817%5D%2C%0A%20%20%20%20%20%20%20%20%20%20%20%20%20%20%20%20%7B%0A%20%20%22bubblingMouseEvents%22%3A%20true%2C%0A%20%20%22color%22%3A%20%22%23ffffbf%22%2C%0A%20%20%22dashArray%22%3A%20null%2C%0A%20%20%22dashOffset%22%3A%20null%2C%0A%20%20%22fill%22%3A%20true%2C%0A%20%20%22fillColor%22%3A%20%22%23ffffbf%22%2C%0A%20%20%22fillOpacity%22%3A%200.7%2C%0A%20%20%22fillRule%22%3A%20%22evenodd%22%2C%0A%20%20%22lineCap%22%3A%20%22round%22%2C%0A%20%20%22lineJoin%22%3A%20%22round%22%2C%0A%20%20%22opacity%22%3A%201.0%2C%0A%20%20%22radius%22%3A%208%2C%0A%20%20%22stroke%22%3A%20true%2C%0A%20%20%22weight%22%3A%203%0A%7D%0A%20%20%20%20%20%20%20%20%20%20%20%20%20%20%20%20%29.addTo%28map_4cf9781c24e441e98d89939983b39e1d%29%3B%0A%20%20%20%20%20%20%20%20%20%20%20%20%0A%20%20%20%20%0A%20%20%20%20%20%20%20%20%20%20%20%20var%20popup_df6f0c9fc52b4d608d79afa6d08f31aa%20%3D%20L.popup%28%7BmaxWidth%3A%20%27300%27%7D%29%3B%0A%0A%20%20%20%20%20%20%20%20%20%20%20%20%0A%20%20%20%20%20%20%20%20%20%20%20%20%20%20%20%20var%20html_ba764976af044f968be9c2a998d2556e%20%3D%20%24%28%27%3Cdiv%20id%3D%22html_ba764976af044f968be9c2a998d2556e%22%20style%3D%22width%3A%20100.0%25%3B%20height%3A%20100.0%25%3B%22%3EMARLYVILLE%20-%20FONTAINEBLEAU%20Score%2059%3C/div%3E%27%29%5B0%5D%3B%0A%20%20%20%20%20%20%20%20%20%20%20%20%20%20%20%20popup_df6f0c9fc52b4d608d79afa6d08f31aa.setContent%28html_ba764976af044f968be9c2a998d2556e%29%3B%0A%20%20%20%20%20%20%20%20%20%20%20%20%0A%0A%20%20%20%20%20%20%20%20%20%20%20%20circle_marker_994db9db62064a629237b3166e91bcf4.bindPopup%28popup_df6f0c9fc52b4d608d79afa6d08f31aa%29%3B%0A%0A%20%20%20%20%20%20%20%20%20%20%20%20%0A%20%20%20%20%20%20%20%20%0A%20%20%20%20%0A%20%20%20%20%20%20%20%20%20%20%20%20var%20circle_marker_0ae2b1fb3143426a88c9bc9a337f07f6%20%3D%20L.circleMarker%28%0A%20%20%20%20%20%20%20%20%20%20%20%20%20%20%20%20%5B29.96028871%2C-90.10582924%5D%2C%0A%20%20%20%20%20%20%20%20%20%20%20%20%20%20%20%20%7B%0A%20%20%22bubblingMouseEvents%22%3A%20true%2C%0A%20%20%22color%22%3A%20%22%23ffffbf%22%2C%0A%20%20%22dashArray%22%3A%20null%2C%0A%20%20%22dashOffset%22%3A%20null%2C%0A%20%20%22fill%22%3A%20true%2C%0A%20%20%22fillColor%22%3A%20%22%23ffffbf%22%2C%0A%20%20%22fillOpacity%22%3A%200.7%2C%0A%20%20%22fillRule%22%3A%20%22evenodd%22%2C%0A%20%20%22lineCap%22%3A%20%22round%22%2C%0A%20%20%22lineJoin%22%3A%20%22round%22%2C%0A%20%20%22opacity%22%3A%201.0%2C%0A%20%20%22radius%22%3A%208%2C%0A%20%20%22stroke%22%3A%20true%2C%0A%20%20%22weight%22%3A%203%0A%7D%0A%20%20%20%20%20%20%20%20%20%20%20%20%20%20%20%20%29.addTo%28map_4cf9781c24e441e98d89939983b39e1d%29%3B%0A%20%20%20%20%20%20%20%20%20%20%20%20%0A%20%20%20%20%0A%20%20%20%20%20%20%20%20%20%20%20%20var%20popup_9b17115ca5dc41be923af99871bb0abf%20%3D%20L.popup%28%7BmaxWidth%3A%20%27300%27%7D%29%3B%0A%0A%20%20%20%20%20%20%20%20%20%20%20%20%0A%20%20%20%20%20%20%20%20%20%20%20%20%20%20%20%20var%20html_8c996bf7123a403388bf295839fe00e3%20%3D%20%24%28%27%3Cdiv%20id%3D%22html_8c996bf7123a403388bf295839fe00e3%22%20style%3D%22width%3A%20100.0%25%3B%20height%3A%20100.0%25%3B%22%3EGERT%20TOWN%20Score%2057%3C/div%3E%27%29%5B0%5D%3B%0A%20%20%20%20%20%20%20%20%20%20%20%20%20%20%20%20popup_9b17115ca5dc41be923af99871bb0abf.setContent%28html_8c996bf7123a403388bf295839fe00e3%29%3B%0A%20%20%20%20%20%20%20%20%20%20%20%20%0A%0A%20%20%20%20%20%20%20%20%20%20%20%20circle_marker_0ae2b1fb3143426a88c9bc9a337f07f6.bindPopup%28popup_9b17115ca5dc41be923af99871bb0abf%29%3B%0A%0A%20%20%20%20%20%20%20%20%20%20%20%20%0A%20%20%20%20%20%20%20%20%0A%20%20%20%20%0A%20%20%20%20%20%20%20%20%20%20%20%20var%20circle_marker_d1885f57d78343b3bc8e683442078e38%20%3D%20L.circleMarker%28%0A%20%20%20%20%20%20%20%20%20%20%20%20%20%20%20%20%5B29.97040133%2C-90.09939194%5D%2C%0A%20%20%20%20%20%20%20%20%20%20%20%20%20%20%20%20%7B%0A%20%20%22bubblingMouseEvents%22%3A%20true%2C%0A%20%20%22color%22%3A%20%22%23006837%22%2C%0A%20%20%22dashArray%22%3A%20null%2C%0A%20%20%22dashOffset%22%3A%20null%2C%0A%20%20%22fill%22%3A%20true%2C%0A%20%20%22fillColor%22%3A%20%22%23006837%22%2C%0A%20%20%22fillOpacity%22%3A%200.7%2C%0A%20%20%22fillRule%22%3A%20%22evenodd%22%2C%0A%20%20%22lineCap%22%3A%20%22round%22%2C%0A%20%20%22lineJoin%22%3A%20%22round%22%2C%0A%20%20%22opacity%22%3A%201.0%2C%0A%20%20%22radius%22%3A%208%2C%0A%20%20%22stroke%22%3A%20true%2C%0A%20%20%22weight%22%3A%203%0A%7D%0A%20%20%20%20%20%20%20%20%20%20%20%20%20%20%20%20%29.addTo%28map_4cf9781c24e441e98d89939983b39e1d%29%3B%0A%20%20%20%20%20%20%20%20%20%20%20%20%0A%20%20%20%20%0A%20%20%20%20%20%20%20%20%20%20%20%20var%20popup_73515ddc164e4aa78cead2a63dbe7226%20%3D%20L.popup%28%7BmaxWidth%3A%20%27300%27%7D%29%3B%0A%0A%20%20%20%20%20%20%20%20%20%20%20%20%0A%20%20%20%20%20%20%20%20%20%20%20%20%20%20%20%20var%20html_cf25d995171643a7bb8dcb704d89acc1%20%3D%20%24%28%27%3Cdiv%20id%3D%22html_cf25d995171643a7bb8dcb704d89acc1%22%20style%3D%22width%3A%20100.0%25%3B%20height%3A%20100.0%25%3B%22%3EMID-CITY%20Score%20100%3C/div%3E%27%29%5B0%5D%3B%0A%20%20%20%20%20%20%20%20%20%20%20%20%20%20%20%20popup_73515ddc164e4aa78cead2a63dbe7226.setContent%28html_cf25d995171643a7bb8dcb704d89acc1%29%3B%0A%20%20%20%20%20%20%20%20%20%20%20%20%0A%0A%20%20%20%20%20%20%20%20%20%20%20%20circle_marker_d1885f57d78343b3bc8e683442078e38.bindPopup%28popup_73515ddc164e4aa78cead2a63dbe7226%29%3B%0A%0A%20%20%20%20%20%20%20%20%20%20%20%20%0A%20%20%20%20%20%20%20%20%0A%20%20%20%20%0A%20%20%20%20%20%20%20%20%20%20%20%20var%20circle_marker_d5054ee36fc849509306d4b3ffcec871%20%3D%20L.circleMarker%28%0A%20%20%20%20%20%20%20%20%20%20%20%20%20%20%20%20%5B29.97181404%2C-90.03926754%5D%2C%0A%20%20%20%20%20%20%20%20%20%20%20%20%20%20%20%20%7B%0A%20%20%22bubblingMouseEvents%22%3A%20true%2C%0A%20%20%22color%22%3A%20%22%23ffffbf%22%2C%0A%20%20%22dashArray%22%3A%20null%2C%0A%20%20%22dashOffset%22%3A%20null%2C%0A%20%20%22fill%22%3A%20true%2C%0A%20%20%22fillColor%22%3A%20%22%23ffffbf%22%2C%0A%20%20%22fillOpacity%22%3A%200.7%2C%0A%20%20%22fillRule%22%3A%20%22evenodd%22%2C%0A%20%20%22lineCap%22%3A%20%22round%22%2C%0A%20%20%22lineJoin%22%3A%20%22round%22%2C%0A%20%20%22opacity%22%3A%201.0%2C%0A%20%20%22radius%22%3A%208%2C%0A%20%20%22stroke%22%3A%20true%2C%0A%20%20%22weight%22%3A%203%0A%7D%0A%20%20%20%20%20%20%20%20%20%20%20%20%20%20%20%20%29.addTo%28map_4cf9781c24e441e98d89939983b39e1d%29%3B%0A%20%20%20%20%20%20%20%20%20%20%20%20%0A%20%20%20%20%0A%20%20%20%20%20%20%20%20%20%20%20%20var%20popup_15f85400608e4bf688c2dfb667778d65%20%3D%20L.popup%28%7BmaxWidth%3A%20%27300%27%7D%29%3B%0A%0A%20%20%20%20%20%20%20%20%20%20%20%20%0A%20%20%20%20%20%20%20%20%20%20%20%20%20%20%20%20var%20html_f507dd2ff06b477dbeb8c1b72586691f%20%3D%20%24%28%27%3Cdiv%20id%3D%22html_f507dd2ff06b477dbeb8c1b72586691f%22%20style%3D%22width%3A%20100.0%25%3B%20height%3A%20100.0%25%3B%22%3EST.%20CLAUDE%20Score%2059%3C/div%3E%27%29%5B0%5D%3B%0A%20%20%20%20%20%20%20%20%20%20%20%20%20%20%20%20popup_15f85400608e4bf688c2dfb667778d65.setContent%28html_f507dd2ff06b477dbeb8c1b72586691f%29%3B%0A%20%20%20%20%20%20%20%20%20%20%20%20%0A%0A%20%20%20%20%20%20%20%20%20%20%20%20circle_marker_d5054ee36fc849509306d4b3ffcec871.bindPopup%28popup_15f85400608e4bf688c2dfb667778d65%29%3B%0A%0A%20%20%20%20%20%20%20%20%20%20%20%20%0A%20%20%20%20%20%20%20%20%0A%20%20%20%20%0A%20%20%20%20%20%20%20%20%20%20%20%20var%20circle_marker_5d76fddf69534ebe9e31607479c9dd86%20%3D%20L.circleMarker%28%0A%20%20%20%20%20%20%20%20%20%20%20%20%20%20%20%20%5B29.95002632%2C-90.07445812%5D%2C%0A%20%20%20%20%20%20%20%20%20%20%20%20%20%20%20%20%7B%0A%20%20%22bubblingMouseEvents%22%3A%20true%2C%0A%20%20%22color%22%3A%20%22%23006837%22%2C%0A%20%20%22dashArray%22%3A%20null%2C%0A%20%20%22dashOffset%22%3A%20null%2C%0A%20%20%22fill%22%3A%20true%2C%0A%20%20%22fillColor%22%3A%20%22%23006837%22%2C%0A%20%20%22fillOpacity%22%3A%200.7%2C%0A%20%20%22fillRule%22%3A%20%22evenodd%22%2C%0A%20%20%22lineCap%22%3A%20%22round%22%2C%0A%20%20%22lineJoin%22%3A%20%22round%22%2C%0A%20%20%22opacity%22%3A%201.0%2C%0A%20%20%22radius%22%3A%208%2C%0A%20%20%22stroke%22%3A%20true%2C%0A%20%20%22weight%22%3A%203%0A%7D%0A%20%20%20%20%20%20%20%20%20%20%20%20%20%20%20%20%29.addTo%28map_4cf9781c24e441e98d89939983b39e1d%29%3B%0A%20%20%20%20%20%20%20%20%20%20%20%20%0A%20%20%20%20%0A%20%20%20%20%20%20%20%20%20%20%20%20var%20popup_a9b988bcb580476aadc55a53e1aa7e0c%20%3D%20L.popup%28%7BmaxWidth%3A%20%27300%27%7D%29%3B%0A%0A%20%20%20%20%20%20%20%20%20%20%20%20%0A%20%20%20%20%20%20%20%20%20%20%20%20%20%20%20%20var%20html_ddcc9c1713404573b960e3e72d51b6e7%20%3D%20%24%28%27%3Cdiv%20id%3D%22html_ddcc9c1713404573b960e3e72d51b6e7%22%20style%3D%22width%3A%20100.0%25%3B%20height%3A%20100.0%25%3B%22%3ECENTRAL%20BUSINESS%20DISTRICT%20Score%2080%3C/div%3E%27%29%5B0%5D%3B%0A%20%20%20%20%20%20%20%20%20%20%20%20%20%20%20%20popup_a9b988bcb580476aadc55a53e1aa7e0c.setContent%28html_ddcc9c1713404573b960e3e72d51b6e7%29%3B%0A%20%20%20%20%20%20%20%20%20%20%20%20%0A%0A%20%20%20%20%20%20%20%20%20%20%20%20circle_marker_5d76fddf69534ebe9e31607479c9dd86.bindPopup%28popup_a9b988bcb580476aadc55a53e1aa7e0c%29%3B%0A%0A%20%20%20%20%20%20%20%20%20%20%20%20%0A%20%20%20%20%20%20%20%20%0A%20%20%20%20%0A%20%20%20%20%20%20%20%20%20%20%20%20var%20circle_marker_f27c40b552c141a293904e0d769ad6b3%20%3D%20L.circleMarker%28%0A%20%20%20%20%20%20%20%20%20%20%20%20%20%20%20%20%5B29.95883865%2C-90.06437302%5D%2C%0A%20%20%20%20%20%20%20%20%20%20%20%20%20%20%20%20%7B%0A%20%20%22bubblingMouseEvents%22%3A%20true%2C%0A%20%20%22color%22%3A%20%22%2386cb66%22%2C%0A%20%20%22dashArray%22%3A%20null%2C%0A%20%20%22dashOffset%22%3A%20null%2C%0A%20%20%22fill%22%3A%20true%2C%0A%20%20%22fillColor%22%3A%20%22%2386cb66%22%2C%0A%20%20%22fillOpacity%22%3A%200.7%2C%0A%20%20%22fillRule%22%3A%20%22evenodd%22%2C%0A%20%20%22lineCap%22%3A%20%22round%22%2C%0A%20%20%22lineJoin%22%3A%20%22round%22%2C%0A%20%20%22opacity%22%3A%201.0%2C%0A%20%20%22radius%22%3A%208%2C%0A%20%20%22stroke%22%3A%20true%2C%0A%20%20%22weight%22%3A%203%0A%7D%0A%20%20%20%20%20%20%20%20%20%20%20%20%20%20%20%20%29.addTo%28map_4cf9781c24e441e98d89939983b39e1d%29%3B%0A%20%20%20%20%20%20%20%20%20%20%20%20%0A%20%20%20%20%0A%20%20%20%20%20%20%20%20%20%20%20%20var%20popup_ae5cbcc168fe434388fe21756183a8f0%20%3D%20L.popup%28%7BmaxWidth%3A%20%27300%27%7D%29%3B%0A%0A%20%20%20%20%20%20%20%20%20%20%20%20%0A%20%20%20%20%20%20%20%20%20%20%20%20%20%20%20%20var%20html_f285cca6b30c4c1fab1c3f28f4593056%20%3D%20%24%28%27%3Cdiv%20id%3D%22html_f285cca6b30c4c1fab1c3f28f4593056%22%20style%3D%22width%3A%20100.0%25%3B%20height%3A%20100.0%25%3B%22%3EFRENCH%20QUARTER%20Score%2066%3C/div%3E%27%29%5B0%5D%3B%0A%20%20%20%20%20%20%20%20%20%20%20%20%20%20%20%20popup_ae5cbcc168fe434388fe21756183a8f0.setContent%28html_f285cca6b30c4c1fab1c3f28f4593056%29%3B%0A%20%20%20%20%20%20%20%20%20%20%20%20%0A%0A%20%20%20%20%20%20%20%20%20%20%20%20circle_marker_f27c40b552c141a293904e0d769ad6b3.bindPopup%28popup_ae5cbcc168fe434388fe21756183a8f0%29%3B%0A%0A%20%20%20%20%20%20%20%20%20%20%20%20%0A%20%20%20%20%20%20%20%20%0A%20%20%20%20%0A%20%20%20%20%20%20%20%20%20%20%20%20var%20circle_marker_59a4292ed1ba4e0a8798a9880447c7a6%20%3D%20L.circleMarker%28%0A%20%20%20%20%20%20%20%20%20%20%20%20%20%20%20%20%5B29.93946537%2C-90.086689%5D%2C%0A%20%20%20%20%20%20%20%20%20%20%20%20%20%20%20%20%7B%0A%20%20%22bubblingMouseEvents%22%3A%20true%2C%0A%20%20%22color%22%3A%20%22%23ffffbf%22%2C%0A%20%20%22dashArray%22%3A%20null%2C%0A%20%20%22dashOffset%22%3A%20null%2C%0A%20%20%22fill%22%3A%20true%2C%0A%20%20%22fillColor%22%3A%20%22%23ffffbf%22%2C%0A%20%20%22fillOpacity%22%3A%200.7%2C%0A%20%20%22fillRule%22%3A%20%22evenodd%22%2C%0A%20%20%22lineCap%22%3A%20%22round%22%2C%0A%20%20%22lineJoin%22%3A%20%22round%22%2C%0A%20%20%22opacity%22%3A%201.0%2C%0A%20%20%22radius%22%3A%208%2C%0A%20%20%22stroke%22%3A%20true%2C%0A%20%20%22weight%22%3A%203%0A%7D%0A%20%20%20%20%20%20%20%20%20%20%20%20%20%20%20%20%29.addTo%28map_4cf9781c24e441e98d89939983b39e1d%29%3B%0A%20%20%20%20%20%20%20%20%20%20%20%20%0A%20%20%20%20%0A%20%20%20%20%20%20%20%20%20%20%20%20var%20popup_b8841483be934b569c4ccf02e9028fee%20%3D%20L.popup%28%7BmaxWidth%3A%20%27300%27%7D%29%3B%0A%0A%20%20%20%20%20%20%20%20%20%20%20%20%0A%20%20%20%20%20%20%20%20%20%20%20%20%20%20%20%20var%20html_360ac81316774fbb8c62922687d4c283%20%3D%20%24%28%27%3Cdiv%20id%3D%22html_360ac81316774fbb8c62922687d4c283%22%20style%3D%22width%3A%20100.0%25%3B%20height%3A%20100.0%25%3B%22%3ECENTRAL%20CITY%20Score%2047%3C/div%3E%27%29%5B0%5D%3B%0A%20%20%20%20%20%20%20%20%20%20%20%20%20%20%20%20popup_b8841483be934b569c4ccf02e9028fee.setContent%28html_360ac81316774fbb8c62922687d4c283%29%3B%0A%20%20%20%20%20%20%20%20%20%20%20%20%0A%0A%20%20%20%20%20%20%20%20%20%20%20%20circle_marker_59a4292ed1ba4e0a8798a9880447c7a6.bindPopup%28popup_b8841483be934b569c4ccf02e9028fee%29%3B%0A%0A%20%20%20%20%20%20%20%20%20%20%20%20%0A%20%20%20%20%20%20%20%20%0A%20%20%20%20%0A%20%20%20%20%20%20%20%20%20%20%20%20var%20circle_marker_2b726c48c287433e81d2045d15583db3%20%3D%20L.circleMarker%28%0A%20%20%20%20%20%20%20%20%20%20%20%20%20%20%20%20%5B30.08810775%2C-89.76104736%5D%2C%0A%20%20%20%20%20%20%20%20%20%20%20%20%20%20%20%20%7B%0A%20%20%22bubblingMouseEvents%22%3A%20true%2C%0A%20%20%22color%22%3A%20%22%23a50026%22%2C%0A%20%20%22dashArray%22%3A%20null%2C%0A%20%20%22dashOffset%22%3A%20null%2C%0A%20%20%22fill%22%3A%20true%2C%0A%20%20%22fillColor%22%3A%20%22%23a50026%22%2C%0A%20%20%22fillOpacity%22%3A%200.7%2C%0A%20%20%22fillRule%22%3A%20%22evenodd%22%2C%0A%20%20%22lineCap%22%3A%20%22round%22%2C%0A%20%20%22lineJoin%22%3A%20%22round%22%2C%0A%20%20%22opacity%22%3A%201.0%2C%0A%20%20%22radius%22%3A%208%2C%0A%20%20%22stroke%22%3A%20true%2C%0A%20%20%22weight%22%3A%203%0A%7D%0A%20%20%20%20%20%20%20%20%20%20%20%20%20%20%20%20%29.addTo%28map_4cf9781c24e441e98d89939983b39e1d%29%3B%0A%20%20%20%20%20%20%20%20%20%20%20%20%0A%20%20%20%20%0A%20%20%20%20%20%20%20%20%20%20%20%20var%20popup_905d5b167d6b4e68a9252ef2a8fb7477%20%3D%20L.popup%28%7BmaxWidth%3A%20%27300%27%7D%29%3B%0A%0A%20%20%20%20%20%20%20%20%20%20%20%20%0A%20%20%20%20%20%20%20%20%20%20%20%20%20%20%20%20var%20html_238efddd673648b8bc2ccb46a8e15c8f%20%3D%20%24%28%27%3Cdiv%20id%3D%22html_238efddd673648b8bc2ccb46a8e15c8f%22%20style%3D%22width%3A%20100.0%25%3B%20height%3A%20100.0%25%3B%22%3ELAKE%20CATHERINE%20Score%200%3C/div%3E%27%29%5B0%5D%3B%0A%20%20%20%20%20%20%20%20%20%20%20%20%20%20%20%20popup_905d5b167d6b4e68a9252ef2a8fb7477.setContent%28html_238efddd673648b8bc2ccb46a8e15c8f%29%3B%0A%20%20%20%20%20%20%20%20%20%20%20%20%0A%0A%20%20%20%20%20%20%20%20%20%20%20%20circle_marker_2b726c48c287433e81d2045d15583db3.bindPopup%28popup_905d5b167d6b4e68a9252ef2a8fb7477%29%3B%0A%0A%20%20%20%20%20%20%20%20%20%20%20%20%0A%20%20%20%20%20%20%20%20%0A%20%20%20%20%0A%20%20%20%20%20%20%20%20%20%20%20%20var%20circle_marker_470ca7472d3f40578de348dd314a17c1%20%3D%20L.circleMarker%28%0A%20%20%20%20%20%20%20%20%20%20%20%20%20%20%20%20%5B29.90732938%2C-89.94197845%5D%2C%0A%20%20%20%20%20%20%20%20%20%20%20%20%20%20%20%20%7B%0A%20%20%22bubblingMouseEvents%22%3A%20true%2C%0A%20%20%22color%22%3A%20%22%23a50026%22%2C%0A%20%20%22dashArray%22%3A%20null%2C%0A%20%20%22dashOffset%22%3A%20null%2C%0A%20%20%22fill%22%3A%20true%2C%0A%20%20%22fillColor%22%3A%20%22%23a50026%22%2C%0A%20%20%22fillOpacity%22%3A%200.7%2C%0A%20%20%22fillRule%22%3A%20%22evenodd%22%2C%0A%20%20%22lineCap%22%3A%20%22round%22%2C%0A%20%20%22lineJoin%22%3A%20%22round%22%2C%0A%20%20%22opacity%22%3A%201.0%2C%0A%20%20%22radius%22%3A%208%2C%0A%20%20%22stroke%22%3A%20true%2C%0A%20%20%22weight%22%3A%203%0A%7D%0A%20%20%20%20%20%20%20%20%20%20%20%20%20%20%20%20%29.addTo%28map_4cf9781c24e441e98d89939983b39e1d%29%3B%0A%20%20%20%20%20%20%20%20%20%20%20%20%0A%20%20%20%20%0A%20%20%20%20%20%20%20%20%20%20%20%20var%20popup_5cf4bc929ae44645ac5c0b16de6c4219%20%3D%20L.popup%28%7BmaxWidth%3A%20%27300%27%7D%29%3B%0A%0A%20%20%20%20%20%20%20%20%20%20%20%20%0A%20%20%20%20%20%20%20%20%20%20%20%20%20%20%20%20var%20html_6519f3be8c104818be05c5a3425c86fe%20%3D%20%24%28%27%3Cdiv%20id%3D%22html_6519f3be8c104818be05c5a3425c86fe%22%20style%3D%22width%3A%20100.0%25%3B%20height%3A%20100.0%25%3B%22%3ENEW%20AURORA%20-%20ENGLISH%20TURN%20Score%202%3C/div%3E%27%29%5B0%5D%3B%0A%20%20%20%20%20%20%20%20%20%20%20%20%20%20%20%20popup_5cf4bc929ae44645ac5c0b16de6c4219.setContent%28html_6519f3be8c104818be05c5a3425c86fe%29%3B%0A%20%20%20%20%20%20%20%20%20%20%20%20%0A%0A%20%20%20%20%20%20%20%20%20%20%20%20circle_marker_470ca7472d3f40578de348dd314a17c1.bindPopup%28popup_5cf4bc929ae44645ac5c0b16de6c4219%29%3B%0A%0A%20%20%20%20%20%20%20%20%20%20%20%20%0A%20%20%20%20%20%20%20%20%0A%20%20%20%20%0A%20%20%20%20%20%20%20%20%20%20%20%20var%20circle_marker_45e47baf282c4313ab261fc3945aa3e9%20%3D%20L.circleMarker%28%0A%20%20%20%20%20%20%20%20%20%20%20%20%20%20%20%20%5B29.91030537%2C-90.01338959%5D%2C%0A%20%20%20%20%20%20%20%20%20%20%20%20%20%20%20%20%7B%0A%20%20%22bubblingMouseEvents%22%3A%20true%2C%0A%20%20%22color%22%3A%20%22%23a50026%22%2C%0A%20%20%22dashArray%22%3A%20null%2C%0A%20%20%22dashOffset%22%3A%20null%2C%0A%20%20%22fill%22%3A%20true%2C%0A%20%20%22fillColor%22%3A%20%22%23a50026%22%2C%0A%20%20%22fillOpacity%22%3A%200.7%2C%0A%20%20%22fillRule%22%3A%20%22evenodd%22%2C%0A%20%20%22lineCap%22%3A%20%22round%22%2C%0A%20%20%22lineJoin%22%3A%20%22round%22%2C%0A%20%20%22opacity%22%3A%201.0%2C%0A%20%20%22radius%22%3A%208%2C%0A%20%20%22stroke%22%3A%20true%2C%0A%20%20%22weight%22%3A%203%0A%7D%0A%20%20%20%20%20%20%20%20%20%20%20%20%20%20%20%20%29.addTo%28map_4cf9781c24e441e98d89939983b39e1d%29%3B%0A%20%20%20%20%20%20%20%20%20%20%20%20%0A%20%20%20%20%0A%20%20%20%20%20%20%20%20%20%20%20%20var%20popup_ca915b39493541fe9b5353cb022887c0%20%3D%20L.popup%28%7BmaxWidth%3A%20%27300%27%7D%29%3B%0A%0A%20%20%20%20%20%20%20%20%20%20%20%20%0A%20%20%20%20%20%20%20%20%20%20%20%20%20%20%20%20var%20html_c269b452cb5b46c3a0825dfcbe33bf63%20%3D%20%24%28%27%3Cdiv%20id%3D%22html_c269b452cb5b46c3a0825dfcbe33bf63%22%20style%3D%22width%3A%20100.0%25%3B%20height%3A%20100.0%25%3B%22%3ETALL%20TIMBERS%20-%20BRECHTEL%20Score%2014%3C/div%3E%27%29%5B0%5D%3B%0A%20%20%20%20%20%20%20%20%20%20%20%20%20%20%20%20popup_ca915b39493541fe9b5353cb022887c0.setContent%28html_c269b452cb5b46c3a0825dfcbe33bf63%29%3B%0A%20%20%20%20%20%20%20%20%20%20%20%20%0A%0A%20%20%20%20%20%20%20%20%20%20%20%20circle_marker_45e47baf282c4313ab261fc3945aa3e9.bindPopup%28popup_ca915b39493541fe9b5353cb022887c0%29%3B%0A%0A%20%20%20%20%20%20%20%20%20%20%20%20%0A%20%20%20%20%20%20%20%20%0A%20%20%20%20%0A%20%20%20%20%20%20%20%20%20%20%20%20var%20circle_marker_3789842b729d424f89fb85388f3213a3%20%3D%20L.circleMarker%28%0A%20%20%20%20%20%20%20%20%20%20%20%20%20%20%20%20%5B29.93239931%2C-90.04154205%5D%2C%0A%20%20%20%20%20%20%20%20%20%20%20%20%20%20%20%20%7B%0A%20%20%22bubblingMouseEvents%22%3A%20true%2C%0A%20%20%22color%22%3A%20%22%23a50026%22%2C%0A%20%20%22dashArray%22%3A%20null%2C%0A%20%20%22dashOffset%22%3A%20null%2C%0A%20%20%22fill%22%3A%20true%2C%0A%20%20%22fillColor%22%3A%20%22%23a50026%22%2C%0A%20%20%22fillOpacity%22%3A%200.7%2C%0A%20%20%22fillRule%22%3A%20%22evenodd%22%2C%0A%20%20%22lineCap%22%3A%20%22round%22%2C%0A%20%20%22lineJoin%22%3A%20%22round%22%2C%0A%20%20%22opacity%22%3A%201.0%2C%0A%20%20%22radius%22%3A%208%2C%0A%20%20%22stroke%22%3A%20true%2C%0A%20%20%22weight%22%3A%203%0A%7D%0A%20%20%20%20%20%20%20%20%20%20%20%20%20%20%20%20%29.addTo%28map_4cf9781c24e441e98d89939983b39e1d%29%3B%0A%20%20%20%20%20%20%20%20%20%20%20%20%0A%20%20%20%20%0A%20%20%20%20%20%20%20%20%20%20%20%20var%20popup_97fff524a47a4b25900a09cfc2939998%20%3D%20L.popup%28%7BmaxWidth%3A%20%27300%27%7D%29%3B%0A%0A%20%20%20%20%20%20%20%20%20%20%20%20%0A%20%20%20%20%20%20%20%20%20%20%20%20%20%20%20%20var%20html_e4186cd7505840028c7ad79e24e417d8%20%3D%20%24%28%27%3Cdiv%20id%3D%22html_e4186cd7505840028c7ad79e24e417d8%22%20style%3D%22width%3A%20100.0%25%3B%20height%3A%20100.0%25%3B%22%3EFISCHER%20DEV%20Score%2011%3C/div%3E%27%29%5B0%5D%3B%0A%20%20%20%20%20%20%20%20%20%20%20%20%20%20%20%20popup_97fff524a47a4b25900a09cfc2939998.setContent%28html_e4186cd7505840028c7ad79e24e417d8%29%3B%0A%20%20%20%20%20%20%20%20%20%20%20%20%0A%0A%20%20%20%20%20%20%20%20%20%20%20%20circle_marker_3789842b729d424f89fb85388f3213a3.bindPopup%28popup_97fff524a47a4b25900a09cfc2939998%29%3B%0A%0A%20%20%20%20%20%20%20%20%20%20%20%20%0A%20%20%20%20%20%20%20%20%0A%20%20%20%20%0A%20%20%20%20%20%20%20%20%20%20%20%20var%20circle_marker_f0d7ef3360fa4150b3fba91c6b39e4ed%20%3D%20L.circleMarker%28%0A%20%20%20%20%20%20%20%20%20%20%20%20%20%20%20%20%5B29.94340726%2C-90.05141258%5D%2C%0A%20%20%20%20%20%20%20%20%20%20%20%20%20%20%20%20%7B%0A%20%20%22bubblingMouseEvents%22%3A%20true%2C%0A%20%20%22color%22%3A%20%22%23f88d52%22%2C%0A%20%20%22dashArray%22%3A%20null%2C%0A%20%20%22dashOffset%22%3A%20null%2C%0A%20%20%22fill%22%3A%20true%2C%0A%20%20%22fillColor%22%3A%20%22%23f88d52%22%2C%0A%20%20%22fillOpacity%22%3A%200.7%2C%0A%20%20%22fillRule%22%3A%20%22evenodd%22%2C%0A%20%20%22lineCap%22%3A%20%22round%22%2C%0A%20%20%22lineJoin%22%3A%20%22round%22%2C%0A%20%20%22opacity%22%3A%201.0%2C%0A%20%20%22radius%22%3A%208%2C%0A%20%20%22stroke%22%3A%20true%2C%0A%20%20%22weight%22%3A%203%0A%7D%0A%20%20%20%20%20%20%20%20%20%20%20%20%20%20%20%20%29.addTo%28map_4cf9781c24e441e98d89939983b39e1d%29%3B%0A%20%20%20%20%20%20%20%20%20%20%20%20%0A%20%20%20%20%0A%20%20%20%20%20%20%20%20%20%20%20%20var%20popup_219f453f0c514352ba65677725c3c542%20%3D%20L.popup%28%7BmaxWidth%3A%20%27300%27%7D%29%3B%0A%0A%20%20%20%20%20%20%20%20%20%20%20%20%0A%20%20%20%20%20%20%20%20%20%20%20%20%20%20%20%20var%20html_77f4247fed2d4b3aa3f63446943c3aef%20%3D%20%24%28%27%3Cdiv%20id%3D%22html_77f4247fed2d4b3aa3f63446943c3aef%22%20style%3D%22width%3A%20100.0%25%3B%20height%3A%20100.0%25%3B%22%3EMcDONOGH%20Score%2021%3C/div%3E%27%29%5B0%5D%3B%0A%20%20%20%20%20%20%20%20%20%20%20%20%20%20%20%20popup_219f453f0c514352ba65677725c3c542.setContent%28html_77f4247fed2d4b3aa3f63446943c3aef%29%3B%0A%20%20%20%20%20%20%20%20%20%20%20%20%0A%0A%20%20%20%20%20%20%20%20%20%20%20%20circle_marker_f0d7ef3360fa4150b3fba91c6b39e4ed.bindPopup%28popup_219f453f0c514352ba65677725c3c542%29%3B%0A%0A%20%20%20%20%20%20%20%20%20%20%20%20%0A%20%20%20%20%20%20%20%20%0A%20%20%20%20%0A%20%20%20%20%20%20%20%20%20%20%20%20var%20circle_marker_a33a25b052e74eaf933076ae2ff9dcd4%20%3D%20L.circleMarker%28%0A%20%20%20%20%20%20%20%20%20%20%20%20%20%20%20%20%5B29.93485389%2C-90.06814957%5D%2C%0A%20%20%20%20%20%20%20%20%20%20%20%20%20%20%20%20%7B%0A%20%20%22bubblingMouseEvents%22%3A%20true%2C%0A%20%20%22color%22%3A%20%22%23006837%22%2C%0A%20%20%22dashArray%22%3A%20null%2C%0A%20%20%22dashOffset%22%3A%20null%2C%0A%20%20%22fill%22%3A%20true%2C%0A%20%20%22fillColor%22%3A%20%22%23006837%22%2C%0A%20%20%22fillOpacity%22%3A%200.7%2C%0A%20%20%22fillRule%22%3A%20%22evenodd%22%2C%0A%20%20%22lineCap%22%3A%20%22round%22%2C%0A%20%20%22lineJoin%22%3A%20%22round%22%2C%0A%20%20%22opacity%22%3A%201.0%2C%0A%20%20%22radius%22%3A%208%2C%0A%20%20%22stroke%22%3A%20true%2C%0A%20%20%22weight%22%3A%203%0A%7D%0A%20%20%20%20%20%20%20%20%20%20%20%20%20%20%20%20%29.addTo%28map_4cf9781c24e441e98d89939983b39e1d%29%3B%0A%20%20%20%20%20%20%20%20%20%20%20%20%0A%20%20%20%20%0A%20%20%20%20%20%20%20%20%20%20%20%20var%20popup_ff076fc5128640b98eb2571e1fdf03aa%20%3D%20L.popup%28%7BmaxWidth%3A%20%27300%27%7D%29%3B%0A%0A%20%20%20%20%20%20%20%20%20%20%20%20%0A%20%20%20%20%20%20%20%20%20%20%20%20%20%20%20%20var%20html_b73046d0e3104ed3a15ba7470e53ae0c%20%3D%20%24%28%27%3Cdiv%20id%3D%22html_b73046d0e3104ed3a15ba7470e53ae0c%22%20style%3D%22width%3A%20100.0%25%3B%20height%3A%20100.0%25%3B%22%3ELOWER%20GARDEN%20DISTRICT%20Score%2090%3C/div%3E%27%29%5B0%5D%3B%0A%20%20%20%20%20%20%20%20%20%20%20%20%20%20%20%20popup_ff076fc5128640b98eb2571e1fdf03aa.setContent%28html_b73046d0e3104ed3a15ba7470e53ae0c%29%3B%0A%20%20%20%20%20%20%20%20%20%20%20%20%0A%0A%20%20%20%20%20%20%20%20%20%20%20%20circle_marker_a33a25b052e74eaf933076ae2ff9dcd4.bindPopup%28popup_ff076fc5128640b98eb2571e1fdf03aa%29%3B%0A%0A%20%20%20%20%20%20%20%20%20%20%20%20%0A%20%20%20%20%20%20%20%20%0A%20%20%20%20%0A%20%20%20%20%20%20%20%20%20%20%20%20var%20circle_marker_efec51b3f1ee494ba3804f58f52bf2d4%20%3D%20L.circleMarker%28%0A%20%20%20%20%20%20%20%20%20%20%20%20%20%20%20%20%5B29.92436572%2C-90.07098198%5D%2C%0A%20%20%20%20%20%20%20%20%20%20%20%20%20%20%20%20%7B%0A%20%20%22bubblingMouseEvents%22%3A%20true%2C%0A%20%20%22color%22%3A%20%22%2386cb66%22%2C%0A%20%20%22dashArray%22%3A%20null%2C%0A%20%20%22dashOffset%22%3A%20null%2C%0A%20%20%22fill%22%3A%20true%2C%0A%20%20%22fillColor%22%3A%20%22%2386cb66%22%2C%0A%20%20%22fillOpacity%22%3A%200.7%2C%0A%20%20%22fillRule%22%3A%20%22evenodd%22%2C%0A%20%20%22lineCap%22%3A%20%22round%22%2C%0A%20%20%22lineJoin%22%3A%20%22round%22%2C%0A%20%20%22opacity%22%3A%201.0%2C%0A%20%20%22radius%22%3A%208%2C%0A%20%20%22stroke%22%3A%20true%2C%0A%20%20%22weight%22%3A%203%0A%7D%0A%20%20%20%20%20%20%20%20%20%20%20%20%20%20%20%20%29.addTo%28map_4cf9781c24e441e98d89939983b39e1d%29%3B%0A%20%20%20%20%20%20%20%20%20%20%20%20%0A%20%20%20%20%0A%20%20%20%20%20%20%20%20%20%20%20%20var%20popup_f44d215ab16f4b3d8f5abe238290863d%20%3D%20L.popup%28%7BmaxWidth%3A%20%27300%27%7D%29%3B%0A%0A%20%20%20%20%20%20%20%20%20%20%20%20%0A%20%20%20%20%20%20%20%20%20%20%20%20%20%20%20%20var%20html_0e63df37aa0f493c903f5a340b4f1cf9%20%3D%20%24%28%27%3Cdiv%20id%3D%22html_0e63df37aa0f493c903f5a340b4f1cf9%22%20style%3D%22width%3A%20100.0%25%3B%20height%3A%20100.0%25%3B%22%3EST.%20THOMAS%20DEV%20Score%2078%3C/div%3E%27%29%5B0%5D%3B%0A%20%20%20%20%20%20%20%20%20%20%20%20%20%20%20%20popup_f44d215ab16f4b3d8f5abe238290863d.setContent%28html_0e63df37aa0f493c903f5a340b4f1cf9%29%3B%0A%20%20%20%20%20%20%20%20%20%20%20%20%0A%0A%20%20%20%20%20%20%20%20%20%20%20%20circle_marker_efec51b3f1ee494ba3804f58f52bf2d4.bindPopup%28popup_f44d215ab16f4b3d8f5abe238290863d%29%3B%0A%0A%20%20%20%20%20%20%20%20%20%20%20%20%0A%20%20%20%20%20%20%20%20%0A%20%20%20%20%0A%20%20%20%20%20%20%20%20%20%20%20%20var%20circle_marker_51de1760ecf3446684d4abff95d1480c%20%3D%20L.circleMarker%28%0A%20%20%20%20%20%20%20%20%20%20%20%20%20%20%20%20%5B29.91960476%2C-90.09432793%5D%2C%0A%20%20%20%20%20%20%20%20%20%20%20%20%20%20%20%20%7B%0A%20%20%22bubblingMouseEvents%22%3A%20true%2C%0A%20%20%22color%22%3A%20%22%23006837%22%2C%0A%20%20%22dashArray%22%3A%20null%2C%0A%20%20%22dashOffset%22%3A%20null%2C%0A%20%20%22fill%22%3A%20true%2C%0A%20%20%22fillColor%22%3A%20%22%23006837%22%2C%0A%20%20%22fillOpacity%22%3A%200.7%2C%0A%20%20%22fillRule%22%3A%20%22evenodd%22%2C%0A%20%20%22lineCap%22%3A%20%22round%22%2C%0A%20%20%22lineJoin%22%3A%20%22round%22%2C%0A%20%20%22opacity%22%3A%201.0%2C%0A%20%20%22radius%22%3A%208%2C%0A%20%20%22stroke%22%3A%20true%2C%0A%20%20%22weight%22%3A%203%0A%7D%0A%20%20%20%20%20%20%20%20%20%20%20%20%20%20%20%20%29.addTo%28map_4cf9781c24e441e98d89939983b39e1d%29%3B%0A%20%20%20%20%20%20%20%20%20%20%20%20%0A%20%20%20%20%0A%20%20%20%20%20%20%20%20%20%20%20%20var%20popup_95551956ca6a418f9474bcd2ab019eaf%20%3D%20L.popup%28%7BmaxWidth%3A%20%27300%27%7D%29%3B%0A%0A%20%20%20%20%20%20%20%20%20%20%20%20%0A%20%20%20%20%20%20%20%20%20%20%20%20%20%20%20%20var%20html_2094b8a42b8046109b58ae4309c6c1c4%20%3D%20%24%28%27%3Cdiv%20id%3D%22html_2094b8a42b8046109b58ae4309c6c1c4%22%20style%3D%22width%3A%20100.0%25%3B%20height%3A%20100.0%25%3B%22%3EEAST%20RIVERSIDE%20Score%2088%3C/div%3E%27%29%5B0%5D%3B%0A%20%20%20%20%20%20%20%20%20%20%20%20%20%20%20%20popup_95551956ca6a418f9474bcd2ab019eaf.setContent%28html_2094b8a42b8046109b58ae4309c6c1c4%29%3B%0A%20%20%20%20%20%20%20%20%20%20%20%20%0A%0A%20%20%20%20%20%20%20%20%20%20%20%20circle_marker_51de1760ecf3446684d4abff95d1480c.bindPopup%28popup_95551956ca6a418f9474bcd2ab019eaf%29%3B%0A%0A%20%20%20%20%20%20%20%20%20%20%20%20%0A%20%20%20%20%20%20%20%20%0A%20%20%20%20%0A%20%20%20%20%20%20%20%20%20%20%20%20var%20circle_marker_195b8c67acd54ae28b93a40bc201b46e%20%3D%20L.circleMarker%28%0A%20%20%20%20%20%20%20%20%20%20%20%20%20%20%20%20%5B29.91633148%2C-90.08565903%5D%2C%0A%20%20%20%20%20%20%20%20%20%20%20%20%20%20%20%20%7B%0A%20%20%22bubblingMouseEvents%22%3A%20true%2C%0A%20%20%22color%22%3A%20%22%23ffffbf%22%2C%0A%20%20%22dashArray%22%3A%20null%2C%0A%20%20%22dashOffset%22%3A%20null%2C%0A%20%20%22fill%22%3A%20true%2C%0A%20%20%22fillColor%22%3A%20%22%23ffffbf%22%2C%0A%20%20%22fillOpacity%22%3A%200.7%2C%0A%20%20%22fillRule%22%3A%20%22evenodd%22%2C%0A%20%20%22lineCap%22%3A%20%22round%22%2C%0A%20%20%22lineJoin%22%3A%20%22round%22%2C%0A%20%20%22opacity%22%3A%201.0%2C%0A%20%20%22radius%22%3A%208%2C%0A%20%20%22stroke%22%3A%20true%2C%0A%20%20%22weight%22%3A%203%0A%7D%0A%20%20%20%20%20%20%20%20%20%20%20%20%20%20%20%20%29.addTo%28map_4cf9781c24e441e98d89939983b39e1d%29%3B%0A%20%20%20%20%20%20%20%20%20%20%20%20%0A%20%20%20%20%0A%20%20%20%20%20%20%20%20%20%20%20%20var%20popup_b979d63f4b8c450898ca276ccb553fb6%20%3D%20L.popup%28%7BmaxWidth%3A%20%27300%27%7D%29%3B%0A%0A%20%20%20%20%20%20%20%20%20%20%20%20%0A%20%20%20%20%20%20%20%20%20%20%20%20%20%20%20%20var%20html_e37295cf2f034da5836c273b2b3d02e7%20%3D%20%24%28%27%3Cdiv%20id%3D%22html_e37295cf2f034da5836c273b2b3d02e7%22%20style%3D%22width%3A%20100.0%25%3B%20height%3A%20100.0%25%3B%22%3EIRISH%20CHANNEL%20Score%2057%3C/div%3E%27%29%5B0%5D%3B%0A%20%20%20%20%20%20%20%20%20%20%20%20%20%20%20%20popup_b979d63f4b8c450898ca276ccb553fb6.setContent%28html_e37295cf2f034da5836c273b2b3d02e7%29%3B%0A%20%20%20%20%20%20%20%20%20%20%20%20%0A%0A%20%20%20%20%20%20%20%20%20%20%20%20circle_marker_195b8c67acd54ae28b93a40bc201b46e.bindPopup%28popup_b979d63f4b8c450898ca276ccb553fb6%29%3B%0A%0A%20%20%20%20%20%20%20%20%20%20%20%20%0A%20%20%20%20%20%20%20%20%0A%20%20%20%20%0A%20%20%20%20%20%20%20%20%20%20%20%20var%20circle_marker_98f27a8b16af4c45ba51fa308630bb33%20%3D%20L.circleMarker%28%0A%20%20%20%20%20%20%20%20%20%20%20%20%20%20%20%20%5B29.923845%2C-90.09544373%5D%2C%0A%20%20%20%20%20%20%20%20%20%20%20%20%20%20%20%20%7B%0A%20%20%22bubblingMouseEvents%22%3A%20true%2C%0A%20%20%22color%22%3A%20%22%23006837%22%2C%0A%20%20%22dashArray%22%3A%20null%2C%0A%20%20%22dashOffset%22%3A%20null%2C%0A%20%20%22fill%22%3A%20true%2C%0A%20%20%22fillColor%22%3A%20%22%23006837%22%2C%0A%20%20%22fillOpacity%22%3A%200.7%2C%0A%20%20%22fillRule%22%3A%20%22evenodd%22%2C%0A%20%20%22lineCap%22%3A%20%22round%22%2C%0A%20%20%22lineJoin%22%3A%20%22round%22%2C%0A%20%20%22opacity%22%3A%201.0%2C%0A%20%20%22radius%22%3A%208%2C%0A%20%20%22stroke%22%3A%20true%2C%0A%20%20%22weight%22%3A%203%0A%7D%0A%20%20%20%20%20%20%20%20%20%20%20%20%20%20%20%20%29.addTo%28map_4cf9781c24e441e98d89939983b39e1d%29%3B%0A%20%20%20%20%20%20%20%20%20%20%20%20%0A%20%20%20%20%0A%20%20%20%20%20%20%20%20%20%20%20%20var%20popup_267a8de0ea5d4fe788ab52b14f68c04b%20%3D%20L.popup%28%7BmaxWidth%3A%20%27300%27%7D%29%3B%0A%0A%20%20%20%20%20%20%20%20%20%20%20%20%0A%20%20%20%20%20%20%20%20%20%20%20%20%20%20%20%20var%20html_e46cf38f35fb4372b94d211756a2949a%20%3D%20%24%28%27%3Cdiv%20id%3D%22html_e46cf38f35fb4372b94d211756a2949a%22%20style%3D%22width%3A%20100.0%25%3B%20height%3A%20100.0%25%3B%22%3ETOURO%20Score%2085%3C/div%3E%27%29%5B0%5D%3B%0A%20%20%20%20%20%20%20%20%20%20%20%20%20%20%20%20popup_267a8de0ea5d4fe788ab52b14f68c04b.setContent%28html_e46cf38f35fb4372b94d211756a2949a%29%3B%0A%20%20%20%20%20%20%20%20%20%20%20%20%0A%0A%20%20%20%20%20%20%20%20%20%20%20%20circle_marker_98f27a8b16af4c45ba51fa308630bb33.bindPopup%28popup_267a8de0ea5d4fe788ab52b14f68c04b%29%3B%0A%0A%20%20%20%20%20%20%20%20%20%20%20%20%0A%20%20%20%20%20%20%20%20%0A%20%20%20%20%0A%20%20%20%20%20%20%20%20%20%20%20%20var%20circle_marker_b8c83de761dc44a0832b2cf5912f29c2%20%3D%20L.circleMarker%28%0A%20%20%20%20%20%20%20%20%20%20%20%20%20%20%20%20%5B29.93254808%2C-90.09836197%5D%2C%0A%20%20%20%20%20%20%20%20%20%20%20%20%20%20%20%20%7B%0A%20%20%22bubblingMouseEvents%22%3A%20true%2C%0A%20%20%22color%22%3A%20%22%23006837%22%2C%0A%20%20%22dashArray%22%3A%20null%2C%0A%20%20%22dashOffset%22%3A%20null%2C%0A%20%20%22fill%22%3A%20true%2C%0A%20%20%22fillColor%22%3A%20%22%23006837%22%2C%0A%20%20%22fillOpacity%22%3A%200.7%2C%0A%20%20%22fillRule%22%3A%20%22evenodd%22%2C%0A%20%20%22lineCap%22%3A%20%22round%22%2C%0A%20%20%22lineJoin%22%3A%20%22round%22%2C%0A%20%20%22opacity%22%3A%201.0%2C%0A%20%20%22radius%22%3A%208%2C%0A%20%20%22stroke%22%3A%20true%2C%0A%20%20%22weight%22%3A%203%0A%7D%0A%20%20%20%20%20%20%20%20%20%20%20%20%20%20%20%20%29.addTo%28map_4cf9781c24e441e98d89939983b39e1d%29%3B%0A%20%20%20%20%20%20%20%20%20%20%20%20%0A%20%20%20%20%0A%20%20%20%20%20%20%20%20%20%20%20%20var%20popup_feb9d549f5cc40fbb174dcfa0a4f31bc%20%3D%20L.popup%28%7BmaxWidth%3A%20%27300%27%7D%29%3B%0A%0A%20%20%20%20%20%20%20%20%20%20%20%20%0A%20%20%20%20%20%20%20%20%20%20%20%20%20%20%20%20var%20html_6ec5b1587d00421aabcc63de1190a96f%20%3D%20%24%28%27%3Cdiv%20id%3D%22html_6ec5b1587d00421aabcc63de1190a96f%22%20style%3D%22width%3A%20100.0%25%3B%20height%3A%20100.0%25%3B%22%3EMILAN%20Score%2083%3C/div%3E%27%29%5B0%5D%3B%0A%20%20%20%20%20%20%20%20%20%20%20%20%20%20%20%20popup_feb9d549f5cc40fbb174dcfa0a4f31bc.setContent%28html_6ec5b1587d00421aabcc63de1190a96f%29%3B%0A%20%20%20%20%20%20%20%20%20%20%20%20%0A%0A%20%20%20%20%20%20%20%20%20%20%20%20circle_marker_b8c83de761dc44a0832b2cf5912f29c2.bindPopup%28popup_feb9d549f5cc40fbb174dcfa0a4f31bc%29%3B%0A%0A%20%20%20%20%20%20%20%20%20%20%20%20%0A%20%20%20%20%20%20%20%20%0A%20%20%20%20%0A%20%20%20%20%20%20%20%20%20%20%20%20var%20circle_marker_208df5770c2e4734bde400bf1780673c%20%3D%20L.circleMarker%28%0A%20%20%20%20%20%20%20%20%20%20%20%20%20%20%20%20%5B29.92644857%2C-90.10788918%5D%2C%0A%20%20%20%20%20%20%20%20%20%20%20%20%20%20%20%20%7B%0A%20%20%22bubblingMouseEvents%22%3A%20true%2C%0A%20%20%22color%22%3A%20%22%23006837%22%2C%0A%20%20%22dashArray%22%3A%20null%2C%0A%20%20%22dashOffset%22%3A%20null%2C%0A%20%20%22fill%22%3A%20true%2C%0A%20%20%22fillColor%22%3A%20%22%23006837%22%2C%0A%20%20%22fillOpacity%22%3A%200.7%2C%0A%20%20%22fillRule%22%3A%20%22evenodd%22%2C%0A%20%20%22lineCap%22%3A%20%22round%22%2C%0A%20%20%22lineJoin%22%3A%20%22round%22%2C%0A%20%20%22opacity%22%3A%201.0%2C%0A%20%20%22radius%22%3A%208%2C%0A%20%20%22stroke%22%3A%20true%2C%0A%20%20%22weight%22%3A%203%0A%7D%0A%20%20%20%20%20%20%20%20%20%20%20%20%20%20%20%20%29.addTo%28map_4cf9781c24e441e98d89939983b39e1d%29%3B%0A%20%20%20%20%20%20%20%20%20%20%20%20%0A%20%20%20%20%0A%20%20%20%20%20%20%20%20%20%20%20%20var%20popup_ccbee2c3284a483aadfd74cb89b5dbca%20%3D%20L.popup%28%7BmaxWidth%3A%20%27300%27%7D%29%3B%0A%0A%20%20%20%20%20%20%20%20%20%20%20%20%0A%20%20%20%20%20%20%20%20%20%20%20%20%20%20%20%20var%20html_131ce7715dfb4064af15df4472d4ae65%20%3D%20%24%28%27%3Cdiv%20id%3D%22html_131ce7715dfb4064af15df4472d4ae65%22%20style%3D%22width%3A%20100.0%25%3B%20height%3A%20100.0%25%3B%22%3EUPTOWN%20Score%2092%3C/div%3E%27%29%5B0%5D%3B%0A%20%20%20%20%20%20%20%20%20%20%20%20%20%20%20%20popup_ccbee2c3284a483aadfd74cb89b5dbca.setContent%28html_131ce7715dfb4064af15df4472d4ae65%29%3B%0A%20%20%20%20%20%20%20%20%20%20%20%20%0A%0A%20%20%20%20%20%20%20%20%20%20%20%20circle_marker_208df5770c2e4734bde400bf1780673c.bindPopup%28popup_ccbee2c3284a483aadfd74cb89b5dbca%29%3B%0A%0A%20%20%20%20%20%20%20%20%20%20%20%20%0A%20%20%20%20%20%20%20%20%0A%20%20%20%20%0A%20%20%20%20%20%20%20%20%20%20%20%20var%20circle_marker_a46a4ce9ab6245a584ac74247f8c6832%20%3D%20L.circleMarker%28%0A%20%20%20%20%20%20%20%20%20%20%20%20%20%20%20%20%5B29.91618269%2C-90.11672974%5D%2C%0A%20%20%20%20%20%20%20%20%20%20%20%20%20%20%20%20%7B%0A%20%20%22bubblingMouseEvents%22%3A%20true%2C%0A%20%20%22color%22%3A%20%22%2386cb66%22%2C%0A%20%20%22dashArray%22%3A%20null%2C%0A%20%20%22dashOffset%22%3A%20null%2C%0A%20%20%22fill%22%3A%20true%2C%0A%20%20%22fillColor%22%3A%20%22%2386cb66%22%2C%0A%20%20%22fillOpacity%22%3A%200.7%2C%0A%20%20%22fillRule%22%3A%20%22evenodd%22%2C%0A%20%20%22lineCap%22%3A%20%22round%22%2C%0A%20%20%22lineJoin%22%3A%20%22round%22%2C%0A%20%20%22opacity%22%3A%201.0%2C%0A%20%20%22radius%22%3A%208%2C%0A%20%20%22stroke%22%3A%20true%2C%0A%20%20%22weight%22%3A%203%0A%7D%0A%20%20%20%20%20%20%20%20%20%20%20%20%20%20%20%20%29.addTo%28map_4cf9781c24e441e98d89939983b39e1d%29%3B%0A%20%20%20%20%20%20%20%20%20%20%20%20%0A%20%20%20%20%0A%20%20%20%20%20%20%20%20%20%20%20%20var%20popup_04e4709fff9443bc83814dbe907fd6c3%20%3D%20L.popup%28%7BmaxWidth%3A%20%27300%27%7D%29%3B%0A%0A%20%20%20%20%20%20%20%20%20%20%20%20%0A%20%20%20%20%20%20%20%20%20%20%20%20%20%20%20%20var%20html_f5f076cf63dc4abe8a49a986cdc7d07b%20%3D%20%24%28%27%3Cdiv%20id%3D%22html_f5f076cf63dc4abe8a49a986cdc7d07b%22%20style%3D%22width%3A%20100.0%25%3B%20height%3A%20100.0%25%3B%22%3EWEST%20RIVERSIDE%20Score%2066%3C/div%3E%27%29%5B0%5D%3B%0A%20%20%20%20%20%20%20%20%20%20%20%20%20%20%20%20popup_04e4709fff9443bc83814dbe907fd6c3.setContent%28html_f5f076cf63dc4abe8a49a986cdc7d07b%29%3B%0A%20%20%20%20%20%20%20%20%20%20%20%20%0A%0A%20%20%20%20%20%20%20%20%20%20%20%20circle_marker_a46a4ce9ab6245a584ac74247f8c6832.bindPopup%28popup_04e4709fff9443bc83814dbe907fd6c3%29%3B%0A%0A%20%20%20%20%20%20%20%20%20%20%20%20%0A%20%20%20%20%20%20%20%20%0A%20%20%20%20%0A%20%20%20%20%20%20%20%20%20%20%20%20var%20circle_marker_dec75d8f007e419fae4efdc4288c3663%20%3D%20L.circleMarker%28%0A%20%20%20%20%20%20%20%20%20%20%20%20%20%20%20%20%5B29.94474598%2C-90.12694359%5D%2C%0A%20%20%20%20%20%20%20%20%20%20%20%20%20%20%20%20%7B%0A%20%20%22bubblingMouseEvents%22%3A%20true%2C%0A%20%20%22color%22%3A%20%22%23006837%22%2C%0A%20%20%22dashArray%22%3A%20null%2C%0A%20%20%22dashOffset%22%3A%20null%2C%0A%20%20%22fill%22%3A%20true%2C%0A%20%20%22fillColor%22%3A%20%22%23006837%22%2C%0A%20%20%22fillOpacity%22%3A%200.7%2C%0A%20%20%22fillRule%22%3A%20%22evenodd%22%2C%0A%20%20%22lineCap%22%3A%20%22round%22%2C%0A%20%20%22lineJoin%22%3A%20%22round%22%2C%0A%20%20%22opacity%22%3A%201.0%2C%0A%20%20%22radius%22%3A%208%2C%0A%20%20%22stroke%22%3A%20true%2C%0A%20%20%22weight%22%3A%203%0A%7D%0A%20%20%20%20%20%20%20%20%20%20%20%20%20%20%20%20%29.addTo%28map_4cf9781c24e441e98d89939983b39e1d%29%3B%0A%20%20%20%20%20%20%20%20%20%20%20%20%0A%20%20%20%20%0A%20%20%20%20%20%20%20%20%20%20%20%20var%20popup_3f99aece5196414d95bb26814c1a8215%20%3D%20L.popup%28%7BmaxWidth%3A%20%27300%27%7D%29%3B%0A%0A%20%20%20%20%20%20%20%20%20%20%20%20%0A%20%20%20%20%20%20%20%20%20%20%20%20%20%20%20%20var%20html_f9e964c8359a46c0a7b19defd04b7e04%20%3D%20%24%28%27%3Cdiv%20id%3D%22html_f9e964c8359a46c0a7b19defd04b7e04%22%20style%3D%22width%3A%20100.0%25%3B%20height%3A%20100.0%25%3B%22%3EEAST%20CARROLLTON%20Score%2090%3C/div%3E%27%29%5B0%5D%3B%0A%20%20%20%20%20%20%20%20%20%20%20%20%20%20%20%20popup_3f99aece5196414d95bb26814c1a8215.setContent%28html_f9e964c8359a46c0a7b19defd04b7e04%29%3B%0A%20%20%20%20%20%20%20%20%20%20%20%20%0A%0A%20%20%20%20%20%20%20%20%20%20%20%20circle_marker_dec75d8f007e419fae4efdc4288c3663.bindPopup%28popup_3f99aece5196414d95bb26814c1a8215%29%3B%0A%0A%20%20%20%20%20%20%20%20%20%20%20%20%0A%20%20%20%20%20%20%20%20%0A%20%20%20%20%0A%20%20%20%20%20%20%20%20%20%20%20%20var%20circle_marker_c49deb300e3c4ab18509493c47cbea5b%20%3D%20L.circleMarker%28%0A%20%20%20%20%20%20%20%20%20%20%20%20%20%20%20%20%5B29.93715966%2C-90.1071167%5D%2C%0A%20%20%20%20%20%20%20%20%20%20%20%20%20%20%20%20%7B%0A%20%20%22bubblingMouseEvents%22%3A%20true%2C%0A%20%20%22color%22%3A%20%22%23006837%22%2C%0A%20%20%22dashArray%22%3A%20null%2C%0A%20%20%22dashOffset%22%3A%20null%2C%0A%20%20%22fill%22%3A%20true%2C%0A%20%20%22fillColor%22%3A%20%22%23006837%22%2C%0A%20%20%22fillOpacity%22%3A%200.7%2C%0A%20%20%22fillRule%22%3A%20%22evenodd%22%2C%0A%20%20%22lineCap%22%3A%20%22round%22%2C%0A%20%20%22lineJoin%22%3A%20%22round%22%2C%0A%20%20%22opacity%22%3A%201.0%2C%0A%20%20%22radius%22%3A%208%2C%0A%20%20%22stroke%22%3A%20true%2C%0A%20%20%22weight%22%3A%203%0A%7D%0A%20%20%20%20%20%20%20%20%20%20%20%20%20%20%20%20%29.addTo%28map_4cf9781c24e441e98d89939983b39e1d%29%3B%0A%20%20%20%20%20%20%20%20%20%20%20%20%0A%20%20%20%20%0A%20%20%20%20%20%20%20%20%20%20%20%20var%20popup_81a5cf897da94286b7230ce41eda40c2%20%3D%20L.popup%28%7BmaxWidth%3A%20%27300%27%7D%29%3B%0A%0A%20%20%20%20%20%20%20%20%20%20%20%20%0A%20%20%20%20%20%20%20%20%20%20%20%20%20%20%20%20var%20html_eb03fd7875154b9da0f1e5ea02f838e1%20%3D%20%24%28%27%3Cdiv%20id%3D%22html_eb03fd7875154b9da0f1e5ea02f838e1%22%20style%3D%22width%3A%20100.0%25%3B%20height%3A%20100.0%25%3B%22%3EFRERET%20Score%2092%3C/div%3E%27%29%5B0%5D%3B%0A%20%20%20%20%20%20%20%20%20%20%20%20%20%20%20%20popup_81a5cf897da94286b7230ce41eda40c2.setContent%28html_eb03fd7875154b9da0f1e5ea02f838e1%29%3B%0A%20%20%20%20%20%20%20%20%20%20%20%20%0A%0A%20%20%20%20%20%20%20%20%20%20%20%20circle_marker_c49deb300e3c4ab18509493c47cbea5b.bindPopup%28popup_81a5cf897da94286b7230ce41eda40c2%29%3B%0A%0A%20%20%20%20%20%20%20%20%20%20%20%20%0A%20%20%20%20%20%20%20%20%0A%20%20%20%20%0A%20%20%20%20%20%20%20%20%20%20%20%20var%20circle_marker_4c2a5f3c2532428db55b2539902ffa81%20%3D%20L.circleMarker%28%0A%20%20%20%20%20%20%20%20%20%20%20%20%20%20%20%20%5B29.92793629%2C-90.08505821%5D%2C%0A%20%20%20%20%20%20%20%20%20%20%20%20%20%20%20%20%7B%0A%20%20%22bubblingMouseEvents%22%3A%20true%2C%0A%20%20%22color%22%3A%20%22%2386cb66%22%2C%0A%20%20%22dashArray%22%3A%20null%2C%0A%20%20%22dashOffset%22%3A%20null%2C%0A%20%20%22fill%22%3A%20true%2C%0A%20%20%22fillColor%22%3A%20%22%2386cb66%22%2C%0A%20%20%22fillOpacity%22%3A%200.7%2C%0A%20%20%22fillRule%22%3A%20%22evenodd%22%2C%0A%20%20%22lineCap%22%3A%20%22round%22%2C%0A%20%20%22lineJoin%22%3A%20%22round%22%2C%0A%20%20%22opacity%22%3A%201.0%2C%0A%20%20%22radius%22%3A%208%2C%0A%20%20%22stroke%22%3A%20true%2C%0A%20%20%22weight%22%3A%203%0A%7D%0A%20%20%20%20%20%20%20%20%20%20%20%20%20%20%20%20%29.addTo%28map_4cf9781c24e441e98d89939983b39e1d%29%3B%0A%20%20%20%20%20%20%20%20%20%20%20%20%0A%20%20%20%20%0A%20%20%20%20%20%20%20%20%20%20%20%20var%20popup_2739fd07194e4a599baac075a7a3879c%20%3D%20L.popup%28%7BmaxWidth%3A%20%27300%27%7D%29%3B%0A%0A%20%20%20%20%20%20%20%20%20%20%20%20%0A%20%20%20%20%20%20%20%20%20%20%20%20%20%20%20%20var%20html_806ab584562c4c4eba871edec144118f%20%3D%20%24%28%27%3Cdiv%20id%3D%22html_806ab584562c4c4eba871edec144118f%22%20style%3D%22width%3A%20100.0%25%3B%20height%3A%20100.0%25%3B%22%3EGARDEN%20DISTRICT%20Score%2078%3C/div%3E%27%29%5B0%5D%3B%0A%20%20%20%20%20%20%20%20%20%20%20%20%20%20%20%20popup_2739fd07194e4a599baac075a7a3879c.setContent%28html_806ab584562c4c4eba871edec144118f%29%3B%0A%20%20%20%20%20%20%20%20%20%20%20%20%0A%0A%20%20%20%20%20%20%20%20%20%20%20%20circle_marker_4c2a5f3c2532428db55b2539902ffa81.bindPopup%28popup_2739fd07194e4a599baac075a7a3879c%29%3B%0A%0A%20%20%20%20%20%20%20%20%20%20%20%20%0A%20%20%20%20%20%20%20%20%0A%20%20%20%20%0A%20%20%20%20%20%20%20%20%20%20%20%20var%20circle_marker_9de4b60207284c2aa8553861c3662f1b%20%3D%20L.circleMarker%28%0A%20%20%20%20%20%20%20%20%20%20%20%20%20%20%20%20%5B29.95359597%2C-90.13097763%5D%2C%0A%20%20%20%20%20%20%20%20%20%20%20%20%20%20%20%20%7B%0A%20%20%22bubblingMouseEvents%22%3A%20true%2C%0A%20%20%22color%22%3A%20%22%2386cb66%22%2C%0A%20%20%22dashArray%22%3A%20null%2C%0A%20%20%22dashOffset%22%3A%20null%2C%0A%20%20%22fill%22%3A%20true%2C%0A%20%20%22fillColor%22%3A%20%22%2386cb66%22%2C%0A%20%20%22fillOpacity%22%3A%200.7%2C%0A%20%20%22fillRule%22%3A%20%22evenodd%22%2C%0A%20%20%22lineCap%22%3A%20%22round%22%2C%0A%20%20%22lineJoin%22%3A%20%22round%22%2C%0A%20%20%22opacity%22%3A%201.0%2C%0A%20%20%22radius%22%3A%208%2C%0A%20%20%22stroke%22%3A%20true%2C%0A%20%20%22weight%22%3A%203%0A%7D%0A%20%20%20%20%20%20%20%20%20%20%20%20%20%20%20%20%29.addTo%28map_4cf9781c24e441e98d89939983b39e1d%29%3B%0A%20%20%20%20%20%20%20%20%20%20%20%20%0A%20%20%20%20%0A%20%20%20%20%20%20%20%20%20%20%20%20var%20popup_3d6eeba2627d4422b01a996f557fbaf9%20%3D%20L.popup%28%7BmaxWidth%3A%20%27300%27%7D%29%3B%0A%0A%20%20%20%20%20%20%20%20%20%20%20%20%0A%20%20%20%20%20%20%20%20%20%20%20%20%20%20%20%20var%20html_7fdc9705da8245f28f1f01c461618b47%20%3D%20%24%28%27%3Cdiv%20id%3D%22html_7fdc9705da8245f28f1f01c461618b47%22%20style%3D%22width%3A%20100.0%25%3B%20height%3A%20100.0%25%3B%22%3ELEONIDAS%20Score%2076%3C/div%3E%27%29%5B0%5D%3B%0A%20%20%20%20%20%20%20%20%20%20%20%20%20%20%20%20popup_3d6eeba2627d4422b01a996f557fbaf9.setContent%28html_7fdc9705da8245f28f1f01c461618b47%29%3B%0A%20%20%20%20%20%20%20%20%20%20%20%20%0A%0A%20%20%20%20%20%20%20%20%20%20%20%20circle_marker_9de4b60207284c2aa8553861c3662f1b.bindPopup%28popup_3d6eeba2627d4422b01a996f557fbaf9%29%3B%0A%0A%20%20%20%20%20%20%20%20%20%20%20%20%0A%20%20%20%20%20%20%20%20%0A%20%20%20%20%0A%20%20%20%20%20%20%20%20%20%20%20%20var%20circle_marker_c841968fd1e549dc8c6be42bbe97388d%20%3D%20L.circleMarker%28%0A%20%20%20%20%20%20%20%20%20%20%20%20%20%20%20%20%5B29.96727842%2C-90.12299538%5D%2C%0A%20%20%20%20%20%20%20%20%20%20%20%20%20%20%20%20%7B%0A%20%20%22bubblingMouseEvents%22%3A%20true%2C%0A%20%20%22color%22%3A%20%22%23a50026%22%2C%0A%20%20%22dashArray%22%3A%20null%2C%0A%20%20%22dashOffset%22%3A%20null%2C%0A%20%20%22fill%22%3A%20true%2C%0A%20%20%22fillColor%22%3A%20%22%23a50026%22%2C%0A%20%20%22fillOpacity%22%3A%200.7%2C%0A%20%20%22fillRule%22%3A%20%22evenodd%22%2C%0A%20%20%22lineCap%22%3A%20%22round%22%2C%0A%20%20%22lineJoin%22%3A%20%22round%22%2C%0A%20%20%22opacity%22%3A%201.0%2C%0A%20%20%22radius%22%3A%208%2C%0A%20%20%22stroke%22%3A%20true%2C%0A%20%20%22weight%22%3A%203%0A%7D%0A%20%20%20%20%20%20%20%20%20%20%20%20%20%20%20%20%29.addTo%28map_4cf9781c24e441e98d89939983b39e1d%29%3B%0A%20%20%20%20%20%20%20%20%20%20%20%20%0A%20%20%20%20%0A%20%20%20%20%20%20%20%20%20%20%20%20var%20popup_7a23c0d20fdc46a4a7aa697e2d2598cf%20%3D%20L.popup%28%7BmaxWidth%3A%20%27300%27%7D%29%3B%0A%0A%20%20%20%20%20%20%20%20%20%20%20%20%0A%20%20%20%20%20%20%20%20%20%20%20%20%20%20%20%20var%20html_8b9fbb35386948b48f613e3c9e1f3c60%20%3D%20%24%28%27%3Cdiv%20id%3D%22html_8b9fbb35386948b48f613e3c9e1f3c60%22%20style%3D%22width%3A%20100.0%25%3B%20height%3A%20100.0%25%3B%22%3EHOLLYGROVE%20Score%2016%3C/div%3E%27%29%5B0%5D%3B%0A%20%20%20%20%20%20%20%20%20%20%20%20%20%20%20%20popup_7a23c0d20fdc46a4a7aa697e2d2598cf.setContent%28html_8b9fbb35386948b48f613e3c9e1f3c60%29%3B%0A%20%20%20%20%20%20%20%20%20%20%20%20%0A%0A%20%20%20%20%20%20%20%20%20%20%20%20circle_marker_c841968fd1e549dc8c6be42bbe97388d.bindPopup%28popup_7a23c0d20fdc46a4a7aa697e2d2598cf%29%3B%0A%0A%20%20%20%20%20%20%20%20%20%20%20%20%0A%20%20%20%20%20%20%20%20%0A%20%20%20%20%0A%20%20%20%20%20%20%20%20%20%20%20%20var%20circle_marker_c37c8789501649aab226097daf72bb71%20%3D%20L.circleMarker%28%0A%20%20%20%20%20%20%20%20%20%20%20%20%20%20%20%20%5B29.95961945%2C-90.08522987%5D%2C%0A%20%20%20%20%20%20%20%20%20%20%20%20%20%20%20%20%7B%0A%20%20%22bubblingMouseEvents%22%3A%20true%2C%0A%20%20%22color%22%3A%20%22%23006837%22%2C%0A%20%20%22dashArray%22%3A%20null%2C%0A%20%20%22dashOffset%22%3A%20null%2C%0A%20%20%22fill%22%3A%20true%2C%0A%20%20%22fillColor%22%3A%20%22%23006837%22%2C%0A%20%20%22fillOpacity%22%3A%200.7%2C%0A%20%20%22fillRule%22%3A%20%22evenodd%22%2C%0A%20%20%22lineCap%22%3A%20%22round%22%2C%0A%20%20%22lineJoin%22%3A%20%22round%22%2C%0A%20%20%22opacity%22%3A%201.0%2C%0A%20%20%22radius%22%3A%208%2C%0A%20%20%22stroke%22%3A%20true%2C%0A%20%20%22weight%22%3A%203%0A%7D%0A%20%20%20%20%20%20%20%20%20%20%20%20%20%20%20%20%29.addTo%28map_4cf9781c24e441e98d89939983b39e1d%29%3B%0A%20%20%20%20%20%20%20%20%20%20%20%20%0A%20%20%20%20%0A%20%20%20%20%20%20%20%20%20%20%20%20var%20popup_e702a5985537429a9add7b2e42ab0a30%20%3D%20L.popup%28%7BmaxWidth%3A%20%27300%27%7D%29%3B%0A%0A%20%20%20%20%20%20%20%20%20%20%20%20%0A%20%20%20%20%20%20%20%20%20%20%20%20%20%20%20%20var%20html_cfc287212d7b42039114308b6b09e56d%20%3D%20%24%28%27%3Cdiv%20id%3D%22html_cfc287212d7b42039114308b6b09e56d%22%20style%3D%22width%3A%20100.0%25%3B%20height%3A%20100.0%25%3B%22%3ETULANE%20-%20GRAVIER%20Score%2080%3C/div%3E%27%29%5B0%5D%3B%0A%20%20%20%20%20%20%20%20%20%20%20%20%20%20%20%20popup_e702a5985537429a9add7b2e42ab0a30.setContent%28html_cfc287212d7b42039114308b6b09e56d%29%3B%0A%20%20%20%20%20%20%20%20%20%20%20%20%0A%0A%20%20%20%20%20%20%20%20%20%20%20%20circle_marker_c37c8789501649aab226097daf72bb71.bindPopup%28popup_e702a5985537429a9add7b2e42ab0a30%29%3B%0A%0A%20%20%20%20%20%20%20%20%20%20%20%20%0A%20%20%20%20%20%20%20%20%0A%20%20%20%20%0A%20%20%20%20%20%20%20%20%20%20%20%20var%20circle_marker_228ae4d4b3e44017b9ab0e27aa446902%20%3D%20L.circleMarker%28%0A%20%20%20%20%20%20%20%20%20%20%20%20%20%20%20%20%5B29.96727842%2C-90.07441521%5D%2C%0A%20%20%20%20%20%20%20%20%20%20%20%20%20%20%20%20%7B%0A%20%20%22bubblingMouseEvents%22%3A%20true%2C%0A%20%20%22color%22%3A%20%22%2386cb66%22%2C%0A%20%20%22dashArray%22%3A%20null%2C%0A%20%20%22dashOffset%22%3A%20null%2C%0A%20%20%22fill%22%3A%20true%2C%0A%20%20%22fillColor%22%3A%20%22%2386cb66%22%2C%0A%20%20%22fillOpacity%22%3A%200.7%2C%0A%20%20%22fillRule%22%3A%20%22evenodd%22%2C%0A%20%20%22lineCap%22%3A%20%22round%22%2C%0A%20%20%22lineJoin%22%3A%20%22round%22%2C%0A%20%20%22opacity%22%3A%201.0%2C%0A%20%20%22radius%22%3A%208%2C%0A%20%20%22stroke%22%3A%20true%2C%0A%20%20%22weight%22%3A%203%0A%7D%0A%20%20%20%20%20%20%20%20%20%20%20%20%20%20%20%20%29.addTo%28map_4cf9781c24e441e98d89939983b39e1d%29%3B%0A%20%20%20%20%20%20%20%20%20%20%20%20%0A%20%20%20%20%0A%20%20%20%20%20%20%20%20%20%20%20%20var%20popup_089008d1fb424c4ab2dceb2555e448df%20%3D%20L.popup%28%7BmaxWidth%3A%20%27300%27%7D%29%3B%0A%0A%20%20%20%20%20%20%20%20%20%20%20%20%0A%20%20%20%20%20%20%20%20%20%20%20%20%20%20%20%20var%20html_44909e47c5b549ff9f7cac96259199b3%20%3D%20%24%28%27%3Cdiv%20id%3D%22html_44909e47c5b549ff9f7cac96259199b3%22%20style%3D%22width%3A%20100.0%25%3B%20height%3A%20100.0%25%3B%22%3ETREME%20-%20LAFITTE%20Score%2069%3C/div%3E%27%29%5B0%5D%3B%0A%20%20%20%20%20%20%20%20%20%20%20%20%20%20%20%20popup_089008d1fb424c4ab2dceb2555e448df.setContent%28html_44909e47c5b549ff9f7cac96259199b3%29%3B%0A%20%20%20%20%20%20%20%20%20%20%20%20%0A%0A%20%20%20%20%20%20%20%20%20%20%20%20circle_marker_228ae4d4b3e44017b9ab0e27aa446902.bindPopup%28popup_089008d1fb424c4ab2dceb2555e448df%29%3B%0A%0A%20%20%20%20%20%20%20%20%20%20%20%20%0A%20%20%20%20%20%20%20%20%0A%20%20%20%20%0A%20%20%20%20%20%20%20%20%20%20%20%20var%20circle_marker_ae3df93dd5444ba598958c88267de59f%20%3D%20L.circleMarker%28%0A%20%20%20%20%20%20%20%20%20%20%20%20%20%20%20%20%5B29.97642379%2C-90.06651878%5D%2C%0A%20%20%20%20%20%20%20%20%20%20%20%20%20%20%20%20%7B%0A%20%20%22bubblingMouseEvents%22%3A%20true%2C%0A%20%20%22color%22%3A%20%22%2386cb66%22%2C%0A%20%20%22dashArray%22%3A%20null%2C%0A%20%20%22dashOffset%22%3A%20null%2C%0A%20%20%22fill%22%3A%20true%2C%0A%20%20%22fillColor%22%3A%20%22%2386cb66%22%2C%0A%20%20%22fillOpacity%22%3A%200.7%2C%0A%20%20%22fillRule%22%3A%20%22evenodd%22%2C%0A%20%20%22lineCap%22%3A%20%22round%22%2C%0A%20%20%22lineJoin%22%3A%20%22round%22%2C%0A%20%20%22opacity%22%3A%201.0%2C%0A%20%20%22radius%22%3A%208%2C%0A%20%20%22stroke%22%3A%20true%2C%0A%20%20%22weight%22%3A%203%0A%7D%0A%20%20%20%20%20%20%20%20%20%20%20%20%20%20%20%20%29.addTo%28map_4cf9781c24e441e98d89939983b39e1d%29%3B%0A%20%20%20%20%20%20%20%20%20%20%20%20%0A%20%20%20%20%0A%20%20%20%20%20%20%20%20%20%20%20%20var%20popup_c64fffbd65d64474a9734b598e689429%20%3D%20L.popup%28%7BmaxWidth%3A%20%27300%27%7D%29%3B%0A%0A%20%20%20%20%20%20%20%20%20%20%20%20%0A%20%20%20%20%20%20%20%20%20%20%20%20%20%20%20%20var%20html_a2ed7de44705492591c33525904ad6a3%20%3D%20%24%28%27%3Cdiv%20id%3D%22html_a2ed7de44705492591c33525904ad6a3%22%20style%3D%22width%3A%20100.0%25%3B%20height%3A%20100.0%25%3B%22%3ESEVENTH%20WARD%20Score%2073%3C/div%3E%27%29%5B0%5D%3B%0A%20%20%20%20%20%20%20%20%20%20%20%20%20%20%20%20popup_c64fffbd65d64474a9734b598e689429.setContent%28html_a2ed7de44705492591c33525904ad6a3%29%3B%0A%20%20%20%20%20%20%20%20%20%20%20%20%0A%0A%20%20%20%20%20%20%20%20%20%20%20%20circle_marker_ae3df93dd5444ba598958c88267de59f.bindPopup%28popup_c64fffbd65d64474a9734b598e689429%29%3B%0A%0A%20%20%20%20%20%20%20%20%20%20%20%20%0A%20%20%20%20%20%20%20%20%0A%20%20%20%20%0A%20%20%20%20%20%20%20%20%20%20%20%20var%20circle_marker_d3fbe4bc42044147a98e707037748112%20%3D%20L.circleMarker%28%0A%20%20%20%20%20%20%20%20%20%20%20%20%20%20%20%20%5B29.96504771%2C-90.05587578%5D%2C%0A%20%20%20%20%20%20%20%20%20%20%20%20%20%20%20%20%7B%0A%20%20%22bubblingMouseEvents%22%3A%20true%2C%0A%20%20%22color%22%3A%20%22%23006837%22%2C%0A%20%20%22dashArray%22%3A%20null%2C%0A%20%20%22dashOffset%22%3A%20null%2C%0A%20%20%22fill%22%3A%20true%2C%0A%20%20%22fillColor%22%3A%20%22%23006837%22%2C%0A%20%20%22fillOpacity%22%3A%200.7%2C%0A%20%20%22fillRule%22%3A%20%22evenodd%22%2C%0A%20%20%22lineCap%22%3A%20%22round%22%2C%0A%20%20%22lineJoin%22%3A%20%22round%22%2C%0A%20%20%22opacity%22%3A%201.0%2C%0A%20%20%22radius%22%3A%208%2C%0A%20%20%22stroke%22%3A%20true%2C%0A%20%20%22weight%22%3A%203%0A%7D%0A%20%20%20%20%20%20%20%20%20%20%20%20%20%20%20%20%29.addTo%28map_4cf9781c24e441e98d89939983b39e1d%29%3B%0A%20%20%20%20%20%20%20%20%20%20%20%20%0A%20%20%20%20%0A%20%20%20%20%20%20%20%20%20%20%20%20var%20popup_2b10c02ea4f344c88a28231e90aeb3b2%20%3D%20L.popup%28%7BmaxWidth%3A%20%27300%27%7D%29%3B%0A%0A%20%20%20%20%20%20%20%20%20%20%20%20%0A%20%20%20%20%20%20%20%20%20%20%20%20%20%20%20%20var%20html_c9627dbd446143c49fbea0cffbba00aa%20%3D%20%24%28%27%3Cdiv%20id%3D%22html_c9627dbd446143c49fbea0cffbba00aa%22%20style%3D%22width%3A%20100.0%25%3B%20height%3A%20100.0%25%3B%22%3EMARIGNY%20Score%2083%3C/div%3E%27%29%5B0%5D%3B%0A%20%20%20%20%20%20%20%20%20%20%20%20%20%20%20%20popup_2b10c02ea4f344c88a28231e90aeb3b2.setContent%28html_c9627dbd446143c49fbea0cffbba00aa%29%3B%0A%20%20%20%20%20%20%20%20%20%20%20%20%0A%0A%20%20%20%20%20%20%20%20%20%20%20%20circle_marker_d3fbe4bc42044147a98e707037748112.bindPopup%28popup_2b10c02ea4f344c88a28231e90aeb3b2%29%3B%0A%0A%20%20%20%20%20%20%20%20%20%20%20%20%0A%20%20%20%20%20%20%20%20%0A%20%20%20%20%0A%20%20%20%20%20%20%20%20%20%20%20%20var%20circle_marker_f52fbd2f054b4bb28ae0a83db5517b3c%20%3D%20L.circleMarker%28%0A%20%20%20%20%20%20%20%20%20%20%20%20%20%20%20%20%5B29.98214852%2C-90.05209923%5D%2C%0A%20%20%20%20%20%20%20%20%20%20%20%20%20%20%20%20%7B%0A%20%20%22bubblingMouseEvents%22%3A%20true%2C%0A%20%20%22color%22%3A%20%22%23f88d52%22%2C%0A%20%20%22dashArray%22%3A%20null%2C%0A%20%20%22dashOffset%22%3A%20null%2C%0A%20%20%22fill%22%3A%20true%2C%0A%20%20%22fillColor%22%3A%20%22%23f88d52%22%2C%0A%20%20%22fillOpacity%22%3A%200.7%2C%0A%20%20%22fillRule%22%3A%20%22evenodd%22%2C%0A%20%20%22lineCap%22%3A%20%22round%22%2C%0A%20%20%22lineJoin%22%3A%20%22round%22%2C%0A%20%20%22opacity%22%3A%201.0%2C%0A%20%20%22radius%22%3A%208%2C%0A%20%20%22stroke%22%3A%20true%2C%0A%20%20%22weight%22%3A%203%0A%7D%0A%20%20%20%20%20%20%20%20%20%20%20%20%20%20%20%20%29.addTo%28map_4cf9781c24e441e98d89939983b39e1d%29%3B%0A%20%20%20%20%20%20%20%20%20%20%20%20%0A%20%20%20%20%0A%20%20%20%20%20%20%20%20%20%20%20%20var%20popup_193a72469cd543ec853649cf8d7dfb80%20%3D%20L.popup%28%7BmaxWidth%3A%20%27300%27%7D%29%3B%0A%0A%20%20%20%20%20%20%20%20%20%20%20%20%0A%20%20%20%20%20%20%20%20%20%20%20%20%20%20%20%20var%20html_21d244cdbdc745cf813519b940d92c9d%20%3D%20%24%28%27%3Cdiv%20id%3D%22html_21d244cdbdc745cf813519b940d92c9d%22%20style%3D%22width%3A%20100.0%25%3B%20height%3A%20100.0%25%3B%22%3EST.%20ROCH%20Score%2028%3C/div%3E%27%29%5B0%5D%3B%0A%20%20%20%20%20%20%20%20%20%20%20%20%20%20%20%20popup_193a72469cd543ec853649cf8d7dfb80.setContent%28html_21d244cdbdc745cf813519b940d92c9d%29%3B%0A%20%20%20%20%20%20%20%20%20%20%20%20%0A%0A%20%20%20%20%20%20%20%20%20%20%20%20circle_marker_f52fbd2f054b4bb28ae0a83db5517b3c.bindPopup%28popup_193a72469cd543ec853649cf8d7dfb80%29%3B%0A%0A%20%20%20%20%20%20%20%20%20%20%20%20%0A%20%20%20%20%20%20%20%20%0A%20%20%20%20%0A%20%20%20%20%20%20%20%20%20%20%20%20var%20circle_marker_bb0ea9253866488d8bb877072ae79cd8%20%3D%20L.circleMarker%28%0A%20%20%20%20%20%20%20%20%20%20%20%20%20%20%20%20%5B29.97151663%2C-90.11321068%5D%2C%0A%20%20%20%20%20%20%20%20%20%20%20%20%20%20%20%20%7B%0A%20%20%22bubblingMouseEvents%22%3A%20true%2C%0A%20%20%22color%22%3A%20%22%23f88d52%22%2C%0A%20%20%22dashArray%22%3A%20null%2C%0A%20%20%22dashOffset%22%3A%20null%2C%0A%20%20%22fill%22%3A%20true%2C%0A%20%20%22fillColor%22%3A%20%22%23f88d52%22%2C%0A%20%20%22fillOpacity%22%3A%200.7%2C%0A%20%20%22fillRule%22%3A%20%22evenodd%22%2C%0A%20%20%22lineCap%22%3A%20%22round%22%2C%0A%20%20%22lineJoin%22%3A%20%22round%22%2C%0A%20%20%22opacity%22%3A%201.0%2C%0A%20%20%22radius%22%3A%208%2C%0A%20%20%22stroke%22%3A%20true%2C%0A%20%20%22weight%22%3A%203%0A%7D%0A%20%20%20%20%20%20%20%20%20%20%20%20%20%20%20%20%29.addTo%28map_4cf9781c24e441e98d89939983b39e1d%29%3B%0A%20%20%20%20%20%20%20%20%20%20%20%20%0A%20%20%20%20%0A%20%20%20%20%20%20%20%20%20%20%20%20var%20popup_1397ef2d401a4f9fb897262faaba6896%20%3D%20L.popup%28%7BmaxWidth%3A%20%27300%27%7D%29%3B%0A%0A%20%20%20%20%20%20%20%20%20%20%20%20%0A%20%20%20%20%20%20%20%20%20%20%20%20%20%20%20%20var%20html_3474850d48f24c5b88d352b048faabf9%20%3D%20%24%28%27%3Cdiv%20id%3D%22html_3474850d48f24c5b88d352b048faabf9%22%20style%3D%22width%3A%20100.0%25%3B%20height%3A%20100.0%25%3B%22%3EDIXON%20Score%2033%3C/div%3E%27%29%5B0%5D%3B%0A%20%20%20%20%20%20%20%20%20%20%20%20%20%20%20%20popup_1397ef2d401a4f9fb897262faaba6896.setContent%28html_3474850d48f24c5b88d352b048faabf9%29%3B%0A%20%20%20%20%20%20%20%20%20%20%20%20%0A%0A%20%20%20%20%20%20%20%20%20%20%20%20circle_marker_bb0ea9253866488d8bb877072ae79cd8.bindPopup%28popup_1397ef2d401a4f9fb897262faaba6896%29%3B%0A%0A%20%20%20%20%20%20%20%20%20%20%20%20%0A%20%20%20%20%20%20%20%20%0A%20%20%20%20%0A%20%20%20%20%20%20%20%20%20%20%20%20var%20circle_marker_4b30a26ec3ad4f48972e13059bbd135a%20%3D%20L.circleMarker%28%0A%20%20%20%20%20%20%20%20%20%20%20%20%20%20%20%20%5B29.98549398%2C-90.1199913%5D%2C%0A%20%20%20%20%20%20%20%20%20%20%20%20%20%20%20%20%7B%0A%20%20%22bubblingMouseEvents%22%3A%20true%2C%0A%20%20%22color%22%3A%20%22%23a50026%22%2C%0A%20%20%22dashArray%22%3A%20null%2C%0A%20%20%22dashOffset%22%3A%20null%2C%0A%20%20%22fill%22%3A%20true%2C%0A%20%20%22fillColor%22%3A%20%22%23a50026%22%2C%0A%20%20%22fillOpacity%22%3A%200.7%2C%0A%20%20%22fillRule%22%3A%20%22evenodd%22%2C%0A%20%20%22lineCap%22%3A%20%22round%22%2C%0A%20%20%22lineJoin%22%3A%20%22round%22%2C%0A%20%20%22opacity%22%3A%201.0%2C%0A%20%20%22radius%22%3A%208%2C%0A%20%20%22stroke%22%3A%20true%2C%0A%20%20%22weight%22%3A%203%0A%7D%0A%20%20%20%20%20%20%20%20%20%20%20%20%20%20%20%20%29.addTo%28map_4cf9781c24e441e98d89939983b39e1d%29%3B%0A%20%20%20%20%20%20%20%20%20%20%20%20%0A%20%20%20%20%0A%20%20%20%20%20%20%20%20%20%20%20%20var%20popup_648f230a81f34bc982a875aa0795f383%20%3D%20L.popup%28%7BmaxWidth%3A%20%27300%27%7D%29%3B%0A%0A%20%20%20%20%20%20%20%20%20%20%20%20%0A%20%20%20%20%20%20%20%20%20%20%20%20%20%20%20%20var%20html_565819fc9749446bb6c9c6135bdf81aa%20%3D%20%24%28%27%3Cdiv%20id%3D%22html_565819fc9749446bb6c9c6135bdf81aa%22%20style%3D%22width%3A%20100.0%25%3B%20height%3A%20100.0%25%3B%22%3ELAKEWOOD%20Score%2019%3C/div%3E%27%29%5B0%5D%3B%0A%20%20%20%20%20%20%20%20%20%20%20%20%20%20%20%20popup_648f230a81f34bc982a875aa0795f383.setContent%28html_565819fc9749446bb6c9c6135bdf81aa%29%3B%0A%20%20%20%20%20%20%20%20%20%20%20%20%0A%0A%20%20%20%20%20%20%20%20%20%20%20%20circle_marker_4b30a26ec3ad4f48972e13059bbd135a.bindPopup%28popup_648f230a81f34bc982a875aa0795f383%29%3B%0A%0A%20%20%20%20%20%20%20%20%20%20%20%20%0A%20%20%20%20%20%20%20%20%0A%20%20%20%20%0A%20%20%20%20%20%20%20%20%20%20%20%20var%20circle_marker_109eebe32a99441fb1191470299abdc0%20%3D%20L.circleMarker%28%0A%20%20%20%20%20%20%20%20%20%20%20%20%20%20%20%20%5B29.98846764%2C-90.11037827%5D%2C%0A%20%20%20%20%20%20%20%20%20%20%20%20%20%20%20%20%7B%0A%20%20%22bubblingMouseEvents%22%3A%20true%2C%0A%20%20%22color%22%3A%20%22%23ffffbf%22%2C%0A%20%20%22dashArray%22%3A%20null%2C%0A%20%20%22dashOffset%22%3A%20null%2C%0A%20%20%22fill%22%3A%20true%2C%0A%20%20%22fillColor%22%3A%20%22%23ffffbf%22%2C%0A%20%20%22fillOpacity%22%3A%200.7%2C%0A%20%20%22fillRule%22%3A%20%22evenodd%22%2C%0A%20%20%22lineCap%22%3A%20%22round%22%2C%0A%20%20%22lineJoin%22%3A%20%22round%22%2C%0A%20%20%22opacity%22%3A%201.0%2C%0A%20%20%22radius%22%3A%208%2C%0A%20%20%22stroke%22%3A%20true%2C%0A%20%20%22weight%22%3A%203%0A%7D%0A%20%20%20%20%20%20%20%20%20%20%20%20%20%20%20%20%29.addTo%28map_4cf9781c24e441e98d89939983b39e1d%29%3B%0A%20%20%20%20%20%20%20%20%20%20%20%20%0A%20%20%20%20%0A%20%20%20%20%20%20%20%20%20%20%20%20var%20popup_a776656d47514f86b4e23f131df554d4%20%3D%20L.popup%28%7BmaxWidth%3A%20%27300%27%7D%29%3B%0A%0A%20%20%20%20%20%20%20%20%20%20%20%20%0A%20%20%20%20%20%20%20%20%20%20%20%20%20%20%20%20var%20html_776f88f50ed648cda39ea92daa225a8c%20%3D%20%24%28%27%3Cdiv%20id%3D%22html_776f88f50ed648cda39ea92daa225a8c%22%20style%3D%22width%3A%20100.0%25%3B%20height%3A%20100.0%25%3B%22%3ENAVARRE%20Score%2047%3C/div%3E%27%29%5B0%5D%3B%0A%20%20%20%20%20%20%20%20%20%20%20%20%20%20%20%20popup_a776656d47514f86b4e23f131df554d4.setContent%28html_776f88f50ed648cda39ea92daa225a8c%29%3B%0A%20%20%20%20%20%20%20%20%20%20%20%20%0A%0A%20%20%20%20%20%20%20%20%20%20%20%20circle_marker_109eebe32a99441fb1191470299abdc0.bindPopup%28popup_a776656d47514f86b4e23f131df554d4%29%3B%0A%0A%20%20%20%20%20%20%20%20%20%20%20%20%0A%20%20%20%20%20%20%20%20%0A%20%20%20%20%0A%20%20%20%20%20%20%20%20%20%20%20%20var%20circle_marker_0f0a42ce179444218aaac14273958c9e%20%3D%20L.circleMarker%28%0A%20%20%20%20%20%20%20%20%20%20%20%20%20%20%20%20%5B29.99917205%2C-90.09372711%5D%2C%0A%20%20%20%20%20%20%20%20%20%20%20%20%20%20%20%20%7B%0A%20%20%22bubblingMouseEvents%22%3A%20true%2C%0A%20%20%22color%22%3A%20%22%23a50026%22%2C%0A%20%20%22dashArray%22%3A%20null%2C%0A%20%20%22dashOffset%22%3A%20null%2C%0A%20%20%22fill%22%3A%20true%2C%0A%20%20%22fillColor%22%3A%20%22%23a50026%22%2C%0A%20%20%22fillOpacity%22%3A%200.7%2C%0A%20%20%22fillRule%22%3A%20%22evenodd%22%2C%0A%20%20%22lineCap%22%3A%20%22round%22%2C%0A%20%20%22lineJoin%22%3A%20%22round%22%2C%0A%20%20%22opacity%22%3A%201.0%2C%0A%20%20%22radius%22%3A%208%2C%0A%20%20%22stroke%22%3A%20true%2C%0A%20%20%22weight%22%3A%203%0A%7D%0A%20%20%20%20%20%20%20%20%20%20%20%20%20%20%20%20%29.addTo%28map_4cf9781c24e441e98d89939983b39e1d%29%3B%0A%20%20%20%20%20%20%20%20%20%20%20%20%0A%20%20%20%20%0A%20%20%20%20%20%20%20%20%20%20%20%20var%20popup_b2f6dcceed294dbfa0537beed6775703%20%3D%20L.popup%28%7BmaxWidth%3A%20%27300%27%7D%29%3B%0A%0A%20%20%20%20%20%20%20%20%20%20%20%20%0A%20%20%20%20%20%20%20%20%20%20%20%20%20%20%20%20var%20html_ee8693b58614465eb336c4b04235f6f6%20%3D%20%24%28%27%3Cdiv%20id%3D%22html_ee8693b58614465eb336c4b04235f6f6%22%20style%3D%22width%3A%20100.0%25%3B%20height%3A%20100.0%25%3B%22%3ECITY%20PARK%20Score%2014%3C/div%3E%27%29%5B0%5D%3B%0A%20%20%20%20%20%20%20%20%20%20%20%20%20%20%20%20popup_b2f6dcceed294dbfa0537beed6775703.setContent%28html_ee8693b58614465eb336c4b04235f6f6%29%3B%0A%20%20%20%20%20%20%20%20%20%20%20%20%0A%0A%20%20%20%20%20%20%20%20%20%20%20%20circle_marker_0f0a42ce179444218aaac14273958c9e.bindPopup%28popup_b2f6dcceed294dbfa0537beed6775703%29%3B%0A%0A%20%20%20%20%20%20%20%20%20%20%20%20%0A%20%20%20%20%20%20%20%20%0A%20%20%20%20%0A%20%20%20%20%20%20%20%20%20%20%20%20var%20circle_marker_0361764016d84586bb3b1ace4c642649%20%3D%20L.circleMarker%28%0A%20%20%20%20%20%20%20%20%20%20%20%20%20%20%20%20%5B30.00660499%2C-90.10831833%5D%2C%0A%20%20%20%20%20%20%20%20%20%20%20%20%20%20%20%20%7B%0A%20%20%22bubblingMouseEvents%22%3A%20true%2C%0A%20%20%22color%22%3A%20%22%23ffffbf%22%2C%0A%20%20%22dashArray%22%3A%20null%2C%0A%20%20%22dashOffset%22%3A%20null%2C%0A%20%20%22fill%22%3A%20true%2C%0A%20%20%22fillColor%22%3A%20%22%23ffffbf%22%2C%0A%20%20%22fillOpacity%22%3A%200.7%2C%0A%20%20%22fillRule%22%3A%20%22evenodd%22%2C%0A%20%20%22lineCap%22%3A%20%22round%22%2C%0A%20%20%22lineJoin%22%3A%20%22round%22%2C%0A%20%20%22opacity%22%3A%201.0%2C%0A%20%20%22radius%22%3A%208%2C%0A%20%20%22stroke%22%3A%20true%2C%0A%20%20%22weight%22%3A%203%0A%7D%0A%20%20%20%20%20%20%20%20%20%20%20%20%20%20%20%20%29.addTo%28map_4cf9781c24e441e98d89939983b39e1d%29%3B%0A%20%20%20%20%20%20%20%20%20%20%20%20%0A%20%20%20%20%0A%20%20%20%20%20%20%20%20%20%20%20%20var%20popup_da84c2ca7dec405abbf0f731ce86ba86%20%3D%20L.popup%28%7BmaxWidth%3A%20%27300%27%7D%29%3B%0A%0A%20%20%20%20%20%20%20%20%20%20%20%20%0A%20%20%20%20%20%20%20%20%20%20%20%20%20%20%20%20var%20html_397f54a37f4c4e82911b0d44c21f92ef%20%3D%20%24%28%27%3Cdiv%20id%3D%22html_397f54a37f4c4e82911b0d44c21f92ef%22%20style%3D%22width%3A%20100.0%25%3B%20height%3A%20100.0%25%3B%22%3ELAKEVIEW%20Score%2059%3C/div%3E%27%29%5B0%5D%3B%0A%20%20%20%20%20%20%20%20%20%20%20%20%20%20%20%20popup_da84c2ca7dec405abbf0f731ce86ba86.setContent%28html_397f54a37f4c4e82911b0d44c21f92ef%29%3B%0A%20%20%20%20%20%20%20%20%20%20%20%20%0A%0A%20%20%20%20%20%20%20%20%20%20%20%20circle_marker_0361764016d84586bb3b1ace4c642649.bindPopup%28popup_da84c2ca7dec405abbf0f731ce86ba86%29%3B%0A%0A%20%20%20%20%20%20%20%20%20%20%20%20%0A%20%20%20%20%20%20%20%20%0A%20%20%20%20%0A%20%20%20%20%20%20%20%20%20%20%20%20var%20circle_marker_3b4be65db8564c51b1766dedfc825951%20%3D%20L.circleMarker%28%0A%20%20%20%20%20%20%20%20%20%20%20%20%20%20%20%20%5B30.01366576%2C-90.11861801%5D%2C%0A%20%20%20%20%20%20%20%20%20%20%20%20%20%20%20%20%7B%0A%20%20%22bubblingMouseEvents%22%3A%20true%2C%0A%20%20%22color%22%3A%20%22%23ffffbf%22%2C%0A%20%20%22dashArray%22%3A%20null%2C%0A%20%20%22dashOffset%22%3A%20null%2C%0A%20%20%22fill%22%3A%20true%2C%0A%20%20%22fillColor%22%3A%20%22%23ffffbf%22%2C%0A%20%20%22fillOpacity%22%3A%200.7%2C%0A%20%20%22fillRule%22%3A%20%22evenodd%22%2C%0A%20%20%22lineCap%22%3A%20%22round%22%2C%0A%20%20%22lineJoin%22%3A%20%22round%22%2C%0A%20%20%22opacity%22%3A%201.0%2C%0A%20%20%22radius%22%3A%208%2C%0A%20%20%22stroke%22%3A%20true%2C%0A%20%20%22weight%22%3A%203%0A%7D%0A%20%20%20%20%20%20%20%20%20%20%20%20%20%20%20%20%29.addTo%28map_4cf9781c24e441e98d89939983b39e1d%29%3B%0A%20%20%20%20%20%20%20%20%20%20%20%20%0A%20%20%20%20%0A%20%20%20%20%20%20%20%20%20%20%20%20var%20popup_f010ea564ded435eaf889c4ad4c62c9a%20%3D%20L.popup%28%7BmaxWidth%3A%20%27300%27%7D%29%3B%0A%0A%20%20%20%20%20%20%20%20%20%20%20%20%0A%20%20%20%20%20%20%20%20%20%20%20%20%20%20%20%20var%20html_5c5c8cf9b61d4fe59f5c0200fdbc6190%20%3D%20%24%28%27%3Cdiv%20id%3D%22html_5c5c8cf9b61d4fe59f5c0200fdbc6190%22%20style%3D%22width%3A%20100.0%25%3B%20height%3A%20100.0%25%3B%22%3EWEST%20END%20Score%2059%3C/div%3E%27%29%5B0%5D%3B%0A%20%20%20%20%20%20%20%20%20%20%20%20%20%20%20%20popup_f010ea564ded435eaf889c4ad4c62c9a.setContent%28html_5c5c8cf9b61d4fe59f5c0200fdbc6190%29%3B%0A%20%20%20%20%20%20%20%20%20%20%20%20%0A%0A%20%20%20%20%20%20%20%20%20%20%20%20circle_marker_3b4be65db8564c51b1766dedfc825951.bindPopup%28popup_f010ea564ded435eaf889c4ad4c62c9a%29%3B%0A%0A%20%20%20%20%20%20%20%20%20%20%20%20%0A%20%20%20%20%20%20%20%20%0A%20%20%20%20%0A%20%20%20%20%20%20%20%20%20%20%20%20var%20circle_marker_794fcfaea8d542c2a57391349f200bb2%20%3D%20L.circleMarker%28%0A%20%20%20%20%20%20%20%20%20%20%20%20%20%20%20%20%5B30.02325275%2C-90.09784698%5D%2C%0A%20%20%20%20%20%20%20%20%20%20%20%20%20%20%20%20%7B%0A%20%20%22bubblingMouseEvents%22%3A%20true%2C%0A%20%20%22color%22%3A%20%22%23a50026%22%2C%0A%20%20%22dashArray%22%3A%20null%2C%0A%20%20%22dashOffset%22%3A%20null%2C%0A%20%20%22fill%22%3A%20true%2C%0A%20%20%22fillColor%22%3A%20%22%23a50026%22%2C%0A%20%20%22fillOpacity%22%3A%200.7%2C%0A%20%20%22fillRule%22%3A%20%22evenodd%22%2C%0A%20%20%22lineCap%22%3A%20%22round%22%2C%0A%20%20%22lineJoin%22%3A%20%22round%22%2C%0A%20%20%22opacity%22%3A%201.0%2C%0A%20%20%22radius%22%3A%208%2C%0A%20%20%22stroke%22%3A%20true%2C%0A%20%20%22weight%22%3A%203%0A%7D%0A%20%20%20%20%20%20%20%20%20%20%20%20%20%20%20%20%29.addTo%28map_4cf9781c24e441e98d89939983b39e1d%29%3B%0A%20%20%20%20%20%20%20%20%20%20%20%20%0A%20%20%20%20%0A%20%20%20%20%20%20%20%20%20%20%20%20var%20popup_9d5f5674ba0647e9a58c84b5e52bcba9%20%3D%20L.popup%28%7BmaxWidth%3A%20%27300%27%7D%29%3B%0A%0A%20%20%20%20%20%20%20%20%20%20%20%20%0A%20%20%20%20%20%20%20%20%20%20%20%20%20%20%20%20var%20html_7f1974bcf67f4148915c92d3a363a83a%20%3D%20%24%28%27%3Cdiv%20id%3D%22html_7f1974bcf67f4148915c92d3a363a83a%22%20style%3D%22width%3A%20100.0%25%3B%20height%3A%20100.0%25%3B%22%3ELAKESHORE%20-%20LAKE%20VISTA%20Score%207%3C/div%3E%27%29%5B0%5D%3B%0A%20%20%20%20%20%20%20%20%20%20%20%20%20%20%20%20popup_9d5f5674ba0647e9a58c84b5e52bcba9.setContent%28html_7f1974bcf67f4148915c92d3a363a83a%29%3B%0A%20%20%20%20%20%20%20%20%20%20%20%20%0A%0A%20%20%20%20%20%20%20%20%20%20%20%20circle_marker_794fcfaea8d542c2a57391349f200bb2.bindPopup%28popup_9d5f5674ba0647e9a58c84b5e52bcba9%29%3B%0A%0A%20%20%20%20%20%20%20%20%20%20%20%20%0A%20%20%20%20%20%20%20%20%0A%20%20%20%20%0A%20%20%20%20%20%20%20%20%20%20%20%20var%20circle_marker_4b2fd05d2cf54b43805c63321bf75059%20%3D%20L.circleMarker%28%0A%20%20%20%20%20%20%20%20%20%20%20%20%20%20%20%20%5B30.01054422%2C-90.07707596%5D%2C%0A%20%20%20%20%20%20%20%20%20%20%20%20%20%20%20%20%7B%0A%20%20%22bubblingMouseEvents%22%3A%20true%2C%0A%20%20%22color%22%3A%20%22%23a50026%22%2C%0A%20%20%22dashArray%22%3A%20null%2C%0A%20%20%22dashOffset%22%3A%20null%2C%0A%20%20%22fill%22%3A%20true%2C%0A%20%20%22fillColor%22%3A%20%22%23a50026%22%2C%0A%20%20%22fillOpacity%22%3A%200.7%2C%0A%20%20%22fillRule%22%3A%20%22evenodd%22%2C%0A%20%20%22lineCap%22%3A%20%22round%22%2C%0A%20%20%22lineJoin%22%3A%20%22round%22%2C%0A%20%20%22opacity%22%3A%201.0%2C%0A%20%20%22radius%22%3A%208%2C%0A%20%20%22stroke%22%3A%20true%2C%0A%20%20%22weight%22%3A%203%0A%7D%0A%20%20%20%20%20%20%20%20%20%20%20%20%20%20%20%20%29.addTo%28map_4cf9781c24e441e98d89939983b39e1d%29%3B%0A%20%20%20%20%20%20%20%20%20%20%20%20%0A%20%20%20%20%0A%20%20%20%20%20%20%20%20%20%20%20%20var%20popup_fc2be104e3d04ec8ad0946be689dc8e6%20%3D%20L.popup%28%7BmaxWidth%3A%20%27300%27%7D%29%3B%0A%0A%20%20%20%20%20%20%20%20%20%20%20%20%0A%20%20%20%20%20%20%20%20%20%20%20%20%20%20%20%20var%20html_ba20eeff0ea3445a9479ede2962b4818%20%3D%20%24%28%27%3Cdiv%20id%3D%22html_ba20eeff0ea3445a9479ede2962b4818%22%20style%3D%22width%3A%20100.0%25%3B%20height%3A%20100.0%25%3B%22%3EFILMORE%20Score%209%3C/div%3E%27%29%5B0%5D%3B%0A%20%20%20%20%20%20%20%20%20%20%20%20%20%20%20%20popup_fc2be104e3d04ec8ad0946be689dc8e6.setContent%28html_ba20eeff0ea3445a9479ede2962b4818%29%3B%0A%20%20%20%20%20%20%20%20%20%20%20%20%0A%0A%20%20%20%20%20%20%20%20%20%20%20%20circle_marker_4b2fd05d2cf54b43805c63321bf75059.bindPopup%28popup_fc2be104e3d04ec8ad0946be689dc8e6%29%3B%0A%0A%20%20%20%20%20%20%20%20%20%20%20%20%0A%20%20%20%20%20%20%20%20%0A%20%20%20%20%0A%20%20%20%20%20%20%20%20%20%20%20%20var%20circle_marker_ef9aaedfea564c2297986f878a9c442a%20%3D%20L.circleMarker%28%0A%20%20%20%20%20%20%20%20%20%20%20%20%20%20%20%20%5B29.99523236%2C-90.08016586%5D%2C%0A%20%20%20%20%20%20%20%20%20%20%20%20%20%20%20%20%7B%0A%20%20%22bubblingMouseEvents%22%3A%20true%2C%0A%20%20%22color%22%3A%20%22%23a50026%22%2C%0A%20%20%22dashArray%22%3A%20null%2C%0A%20%20%22dashOffset%22%3A%20null%2C%0A%20%20%22fill%22%3A%20true%2C%0A%20%20%22fillColor%22%3A%20%22%23a50026%22%2C%0A%20%20%22fillOpacity%22%3A%200.7%2C%0A%20%20%22fillRule%22%3A%20%22evenodd%22%2C%0A%20%20%22lineCap%22%3A%20%22round%22%2C%0A%20%20%22lineJoin%22%3A%20%22round%22%2C%0A%20%20%22opacity%22%3A%201.0%2C%0A%20%20%22radius%22%3A%208%2C%0A%20%20%22stroke%22%3A%20true%2C%0A%20%20%22weight%22%3A%203%0A%7D%0A%20%20%20%20%20%20%20%20%20%20%20%20%20%20%20%20%29.addTo%28map_4cf9781c24e441e98d89939983b39e1d%29%3B%0A%20%20%20%20%20%20%20%20%20%20%20%20%0A%20%20%20%20%0A%20%20%20%20%20%20%20%20%20%20%20%20var%20popup_3e88bf16d02d4168af5319eda1d7dded%20%3D%20L.popup%28%7BmaxWidth%3A%20%27300%27%7D%29%3B%0A%0A%20%20%20%20%20%20%20%20%20%20%20%20%0A%20%20%20%20%20%20%20%20%20%20%20%20%20%20%20%20var%20html_154b642454f5448eb1ed6e4b3ebae9c2%20%3D%20%24%28%27%3Cdiv%20id%3D%22html_154b642454f5448eb1ed6e4b3ebae9c2%22%20style%3D%22width%3A%20100.0%25%3B%20height%3A%20100.0%25%3B%22%3EST.%20BERNARD%20AREA%20Score%204%3C/div%3E%27%29%5B0%5D%3B%0A%20%20%20%20%20%20%20%20%20%20%20%20%20%20%20%20popup_3e88bf16d02d4168af5319eda1d7dded.setContent%28html_154b642454f5448eb1ed6e4b3ebae9c2%29%3B%0A%20%20%20%20%20%20%20%20%20%20%20%20%0A%0A%20%20%20%20%20%20%20%20%20%20%20%20circle_marker_ef9aaedfea564c2297986f878a9c442a.bindPopup%28popup_3e88bf16d02d4168af5319eda1d7dded%29%3B%0A%0A%20%20%20%20%20%20%20%20%20%20%20%20%0A%20%20%20%20%20%20%20%20%0A%20%20%20%20%0A%20%20%20%20%20%20%20%20%20%20%20%20var%20circle_marker_3e12f51d947748868c3ad0da88438ea7%20%3D%20L.circleMarker%28%0A%20%20%20%20%20%20%20%20%20%20%20%20%20%20%20%20%5B29.99865172%2C-90.06591797%5D%2C%0A%20%20%20%20%20%20%20%20%20%20%20%20%20%20%20%20%7B%0A%20%20%22bubblingMouseEvents%22%3A%20true%2C%0A%20%20%22color%22%3A%20%22%23a50026%22%2C%0A%20%20%22dashArray%22%3A%20null%2C%0A%20%20%22dashOffset%22%3A%20null%2C%0A%20%20%22fill%22%3A%20true%2C%0A%20%20%22fillColor%22%3A%20%22%23a50026%22%2C%0A%20%20%22fillOpacity%22%3A%200.7%2C%0A%20%20%22fillRule%22%3A%20%22evenodd%22%2C%0A%20%20%22lineCap%22%3A%20%22round%22%2C%0A%20%20%22lineJoin%22%3A%20%22round%22%2C%0A%20%20%22opacity%22%3A%201.0%2C%0A%20%20%22radius%22%3A%208%2C%0A%20%20%22stroke%22%3A%20true%2C%0A%20%20%22weight%22%3A%203%0A%7D%0A%20%20%20%20%20%20%20%20%20%20%20%20%20%20%20%20%29.addTo%28map_4cf9781c24e441e98d89939983b39e1d%29%3B%0A%20%20%20%20%20%20%20%20%20%20%20%20%0A%20%20%20%20%0A%20%20%20%20%20%20%20%20%20%20%20%20var%20popup_775cbfad018845b0a0159a73041c88ca%20%3D%20L.popup%28%7BmaxWidth%3A%20%27300%27%7D%29%3B%0A%0A%20%20%20%20%20%20%20%20%20%20%20%20%0A%20%20%20%20%20%20%20%20%20%20%20%20%20%20%20%20var%20html_17163b1063644b2db153645d25d4bceb%20%3D%20%24%28%27%3Cdiv%20id%3D%22html_17163b1063644b2db153645d25d4bceb%22%20style%3D%22width%3A%20100.0%25%3B%20height%3A%20100.0%25%3B%22%3EDILLARD%20Score%209%3C/div%3E%27%29%5B0%5D%3B%0A%20%20%20%20%20%20%20%20%20%20%20%20%20%20%20%20popup_775cbfad018845b0a0159a73041c88ca.setContent%28html_17163b1063644b2db153645d25d4bceb%29%3B%0A%20%20%20%20%20%20%20%20%20%20%20%20%0A%0A%20%20%20%20%20%20%20%20%20%20%20%20circle_marker_3e12f51d947748868c3ad0da88438ea7.bindPopup%28popup_775cbfad018845b0a0159a73041c88ca%29%3B%0A%0A%20%20%20%20%20%20%20%20%20%20%20%20%0A%20%20%20%20%20%20%20%20%0A%20%20%20%20%0A%20%20%20%20%20%20%20%20%20%20%20%20var%20circle_marker_80e1dd2992c247538399093e4e02b02e%20%3D%20L.circleMarker%28%0A%20%20%20%20%20%20%20%20%20%20%20%20%20%20%20%20%5B30.01515218%2C-90.06574631%5D%2C%0A%20%20%20%20%20%20%20%20%20%20%20%20%20%20%20%20%7B%0A%20%20%22bubblingMouseEvents%22%3A%20true%2C%0A%20%20%22color%22%3A%20%22%23f88d52%22%2C%0A%20%20%22dashArray%22%3A%20null%2C%0A%20%20%22dashOffset%22%3A%20null%2C%0A%20%20%22fill%22%3A%20true%2C%0A%20%20%22fillColor%22%3A%20%22%23f88d52%22%2C%0A%20%20%22fillOpacity%22%3A%200.7%2C%0A%20%20%22fillRule%22%3A%20%22evenodd%22%2C%0A%20%20%22lineCap%22%3A%20%22round%22%2C%0A%20%20%22lineJoin%22%3A%20%22round%22%2C%0A%20%20%22opacity%22%3A%201.0%2C%0A%20%20%22radius%22%3A%208%2C%0A%20%20%22stroke%22%3A%20true%2C%0A%20%20%22weight%22%3A%203%0A%7D%0A%20%20%20%20%20%20%20%20%20%20%20%20%20%20%20%20%29.addTo%28map_4cf9781c24e441e98d89939983b39e1d%29%3B%0A%20%20%20%20%20%20%20%20%20%20%20%20%0A%20%20%20%20%0A%20%20%20%20%20%20%20%20%20%20%20%20var%20popup_84ec4966a100434c8b0624b883b1cb75%20%3D%20L.popup%28%7BmaxWidth%3A%20%27300%27%7D%29%3B%0A%0A%20%20%20%20%20%20%20%20%20%20%20%20%0A%20%20%20%20%20%20%20%20%20%20%20%20%20%20%20%20var%20html_4d84f00775664c8da5fa504dc1f7dad0%20%3D%20%24%28%27%3Cdiv%20id%3D%22html_4d84f00775664c8da5fa504dc1f7dad0%22%20style%3D%22width%3A%20100.0%25%3B%20height%3A%20100.0%25%3B%22%3EST.%20ANTHONY%20Score%2023%3C/div%3E%27%29%5B0%5D%3B%0A%20%20%20%20%20%20%20%20%20%20%20%20%20%20%20%20popup_84ec4966a100434c8b0624b883b1cb75.setContent%28html_4d84f00775664c8da5fa504dc1f7dad0%29%3B%0A%20%20%20%20%20%20%20%20%20%20%20%20%0A%0A%20%20%20%20%20%20%20%20%20%20%20%20circle_marker_80e1dd2992c247538399093e4e02b02e.bindPopup%28popup_84ec4966a100434c8b0624b883b1cb75%29%3B%0A%0A%20%20%20%20%20%20%20%20%20%20%20%20%0A%20%20%20%20%20%20%20%20%0A%20%20%20%20%0A%20%20%20%20%20%20%20%20%20%20%20%20var%20circle_marker_f55246890997446080ce79a1472f2b0d%20%3D%20L.circleMarker%28%0A%20%20%20%20%20%20%20%20%20%20%20%20%20%20%20%20%5B30.02867753%2C-90.06420135%5D%2C%0A%20%20%20%20%20%20%20%20%20%20%20%20%20%20%20%20%7B%0A%20%20%22bubblingMouseEvents%22%3A%20true%2C%0A%20%20%22color%22%3A%20%22%23f88d52%22%2C%0A%20%20%22dashArray%22%3A%20null%2C%0A%20%20%22dashOffset%22%3A%20null%2C%0A%20%20%22fill%22%3A%20true%2C%0A%20%20%22fillColor%22%3A%20%22%23f88d52%22%2C%0A%20%20%22fillOpacity%22%3A%200.7%2C%0A%20%20%22fillRule%22%3A%20%22evenodd%22%2C%0A%20%20%22lineCap%22%3A%20%22round%22%2C%0A%20%20%22lineJoin%22%3A%20%22round%22%2C%0A%20%20%22opacity%22%3A%201.0%2C%0A%20%20%22radius%22%3A%208%2C%0A%20%20%22stroke%22%3A%20true%2C%0A%20%20%22weight%22%3A%203%0A%7D%0A%20%20%20%20%20%20%20%20%20%20%20%20%20%20%20%20%29.addTo%28map_4cf9781c24e441e98d89939983b39e1d%29%3B%0A%20%20%20%20%20%20%20%20%20%20%20%20%0A%20%20%20%20%0A%20%20%20%20%20%20%20%20%20%20%20%20var%20popup_2d8e8f5b17234fc5aed30c78d7f0eacb%20%3D%20L.popup%28%7BmaxWidth%3A%20%27300%27%7D%29%3B%0A%0A%20%20%20%20%20%20%20%20%20%20%20%20%0A%20%20%20%20%20%20%20%20%20%20%20%20%20%20%20%20var%20html_dcecaae9b52e4100af8ff450dac5b0fe%20%3D%20%24%28%27%3Cdiv%20id%3D%22html_dcecaae9b52e4100af8ff450dac5b0fe%22%20style%3D%22width%3A%20100.0%25%3B%20height%3A%20100.0%25%3B%22%3ELAKE%20TERRACE%20%26amp%3B%20OAKS%20Score%2026%3C/div%3E%27%29%5B0%5D%3B%0A%20%20%20%20%20%20%20%20%20%20%20%20%20%20%20%20popup_2d8e8f5b17234fc5aed30c78d7f0eacb.setContent%28html_dcecaae9b52e4100af8ff450dac5b0fe%29%3B%0A%20%20%20%20%20%20%20%20%20%20%20%20%0A%0A%20%20%20%20%20%20%20%20%20%20%20%20circle_marker_f55246890997446080ce79a1472f2b0d.bindPopup%28popup_2d8e8f5b17234fc5aed30c78d7f0eacb%29%3B%0A%0A%20%20%20%20%20%20%20%20%20%20%20%20%0A%20%20%20%20%20%20%20%20%0A%20%20%20%20%0A%20%20%20%20%20%20%20%20%20%20%20%20var%20circle_marker_efd823a495bb453aa5201e1c4bfa4df9%20%3D%20L.circleMarker%28%0A%20%20%20%20%20%20%20%20%20%20%20%20%20%20%20%20%5B30.01916539%2C-90.054245%5D%2C%0A%20%20%20%20%20%20%20%20%20%20%20%20%20%20%20%20%7B%0A%20%20%22bubblingMouseEvents%22%3A%20true%2C%0A%20%20%22color%22%3A%20%22%23ffffbf%22%2C%0A%20%20%22dashArray%22%3A%20null%2C%0A%20%20%22dashOffset%22%3A%20null%2C%0A%20%20%22fill%22%3A%20true%2C%0A%20%20%22fillColor%22%3A%20%22%23ffffbf%22%2C%0A%20%20%22fillOpacity%22%3A%200.7%2C%0A%20%20%22fillRule%22%3A%20%22evenodd%22%2C%0A%20%20%22lineCap%22%3A%20%22round%22%2C%0A%20%20%22lineJoin%22%3A%20%22round%22%2C%0A%20%20%22opacity%22%3A%201.0%2C%0A%20%20%22radius%22%3A%208%2C%0A%20%20%22stroke%22%3A%20true%2C%0A%20%20%22weight%22%3A%203%0A%7D%0A%20%20%20%20%20%20%20%20%20%20%20%20%20%20%20%20%29.addTo%28map_4cf9781c24e441e98d89939983b39e1d%29%3B%0A%20%20%20%20%20%20%20%20%20%20%20%20%0A%20%20%20%20%0A%20%20%20%20%20%20%20%20%20%20%20%20var%20popup_a7ceade31bf54e0897e2fc89f9006db9%20%3D%20L.popup%28%7BmaxWidth%3A%20%27300%27%7D%29%3B%0A%0A%20%20%20%20%20%20%20%20%20%20%20%20%0A%20%20%20%20%20%20%20%20%20%20%20%20%20%20%20%20var%20html_38f7ad2cbc1f403b97fd2813693f8227%20%3D%20%24%28%27%3Cdiv%20id%3D%22html_38f7ad2cbc1f403b97fd2813693f8227%22%20style%3D%22width%3A%20100.0%25%3B%20height%3A%20100.0%25%3B%22%3EMILNEBURG%20Score%2047%3C/div%3E%27%29%5B0%5D%3B%0A%20%20%20%20%20%20%20%20%20%20%20%20%20%20%20%20popup_a7ceade31bf54e0897e2fc89f9006db9.setContent%28html_38f7ad2cbc1f403b97fd2813693f8227%29%3B%0A%20%20%20%20%20%20%20%20%20%20%20%20%0A%0A%20%20%20%20%20%20%20%20%20%20%20%20circle_marker_efd823a495bb453aa5201e1c4bfa4df9.bindPopup%28popup_a7ceade31bf54e0897e2fc89f9006db9%29%3B%0A%0A%20%20%20%20%20%20%20%20%20%20%20%20%0A%20%20%20%20%20%20%20%20%0A%20%20%20%20%0A%20%20%20%20%20%20%20%20%20%20%20%20var%20circle_marker_58522f907f2c432ebfe9502888090cdd%20%3D%20L.circleMarker%28%0A%20%20%20%20%20%20%20%20%20%20%20%20%20%20%20%20%5B30.021989399999995%2C-90.03931046%5D%2C%0A%20%20%20%20%20%20%20%20%20%20%20%20%20%20%20%20%7B%0A%20%20%22bubblingMouseEvents%22%3A%20true%2C%0A%20%20%22color%22%3A%20%22%23a50026%22%2C%0A%20%20%22dashArray%22%3A%20null%2C%0A%20%20%22dashOffset%22%3A%20null%2C%0A%20%20%22fill%22%3A%20true%2C%0A%20%20%22fillColor%22%3A%20%22%23a50026%22%2C%0A%20%20%22fillOpacity%22%3A%200.7%2C%0A%20%20%22fillRule%22%3A%20%22evenodd%22%2C%0A%20%20%22lineCap%22%3A%20%22round%22%2C%0A%20%20%22lineJoin%22%3A%20%22round%22%2C%0A%20%20%22opacity%22%3A%201.0%2C%0A%20%20%22radius%22%3A%208%2C%0A%20%20%22stroke%22%3A%20true%2C%0A%20%20%22weight%22%3A%203%0A%7D%0A%20%20%20%20%20%20%20%20%20%20%20%20%20%20%20%20%29.addTo%28map_4cf9781c24e441e98d89939983b39e1d%29%3B%0A%20%20%20%20%20%20%20%20%20%20%20%20%0A%20%20%20%20%0A%20%20%20%20%20%20%20%20%20%20%20%20var%20popup_12b1b0a937c14b7798c5c3298d3a0537%20%3D%20L.popup%28%7BmaxWidth%3A%20%27300%27%7D%29%3B%0A%0A%20%20%20%20%20%20%20%20%20%20%20%20%0A%20%20%20%20%20%20%20%20%20%20%20%20%20%20%20%20var%20html_de4c042f6d024b3c896a73060673f1e8%20%3D%20%24%28%27%3Cdiv%20id%3D%22html_de4c042f6d024b3c896a73060673f1e8%22%20style%3D%22width%3A%20100.0%25%3B%20height%3A%20100.0%25%3B%22%3EPONTCHARTRAIN%20PARK%20Score%209%3C/div%3E%27%29%5B0%5D%3B%0A%20%20%20%20%20%20%20%20%20%20%20%20%20%20%20%20popup_12b1b0a937c14b7798c5c3298d3a0537.setContent%28html_de4c042f6d024b3c896a73060673f1e8%29%3B%0A%20%20%20%20%20%20%20%20%20%20%20%20%0A%0A%20%20%20%20%20%20%20%20%20%20%20%20circle_marker_58522f907f2c432ebfe9502888090cdd.bindPopup%28popup_12b1b0a937c14b7798c5c3298d3a0537%29%3B%0A%0A%20%20%20%20%20%20%20%20%20%20%20%20%0A%20%20%20%20%20%20%20%20%0A%20%20%20%20%0A%20%20%20%20%20%20%20%20%20%20%20%20var%20circle_marker_ced433ecc83e44418179214f4f8149a7%20%3D%20L.circleMarker%28%0A%20%20%20%20%20%20%20%20%20%20%20%20%20%20%20%20%5B30.00994963%2C-90.03707886%5D%2C%0A%20%20%20%20%20%20%20%20%20%20%20%20%20%20%20%20%7B%0A%20%20%22bubblingMouseEvents%22%3A%20true%2C%0A%20%20%22color%22%3A%20%22%23f88d52%22%2C%0A%20%20%22dashArray%22%3A%20null%2C%0A%20%20%22dashOffset%22%3A%20null%2C%0A%20%20%22fill%22%3A%20true%2C%0A%20%20%22fillColor%22%3A%20%22%23f88d52%22%2C%0A%20%20%22fillOpacity%22%3A%200.7%2C%0A%20%20%22fillRule%22%3A%20%22evenodd%22%2C%0A%20%20%22lineCap%22%3A%20%22round%22%2C%0A%20%20%22lineJoin%22%3A%20%22round%22%2C%0A%20%20%22opacity%22%3A%201.0%2C%0A%20%20%22radius%22%3A%208%2C%0A%20%20%22stroke%22%3A%20true%2C%0A%20%20%22weight%22%3A%203%0A%7D%0A%20%20%20%20%20%20%20%20%20%20%20%20%20%20%20%20%29.addTo%28map_4cf9781c24e441e98d89939983b39e1d%29%3B%0A%20%20%20%20%20%20%20%20%20%20%20%20%0A%20%20%20%20%0A%20%20%20%20%20%20%20%20%20%20%20%20var%20popup_c0a15ed9126d4ba0a7e8f41d864efc49%20%3D%20L.popup%28%7BmaxWidth%3A%20%27300%27%7D%29%3B%0A%0A%20%20%20%20%20%20%20%20%20%20%20%20%0A%20%20%20%20%20%20%20%20%20%20%20%20%20%20%20%20var%20html_69144dadb2a24893859e1632f47e0dc0%20%3D%20%24%28%27%3Cdiv%20id%3D%22html_69144dadb2a24893859e1632f47e0dc0%22%20style%3D%22width%3A%20100.0%25%3B%20height%3A%20100.0%25%3B%22%3EGENTILLY%20WOODS%20Score%2030%3C/div%3E%27%29%5B0%5D%3B%0A%20%20%20%20%20%20%20%20%20%20%20%20%20%20%20%20popup_c0a15ed9126d4ba0a7e8f41d864efc49.setContent%28html_69144dadb2a24893859e1632f47e0dc0%29%3B%0A%20%20%20%20%20%20%20%20%20%20%20%20%0A%0A%20%20%20%20%20%20%20%20%20%20%20%20circle_marker_ced433ecc83e44418179214f4f8149a7.bindPopup%28popup_c0a15ed9126d4ba0a7e8f41d864efc49%29%3B%0A%0A%20%20%20%20%20%20%20%20%20%20%20%20%0A%20%20%20%20%20%20%20%20%0A%20%20%20%20%0A%20%20%20%20%20%20%20%20%20%20%20%20var%20circle_marker_6d2fc96d8e024661bb8dec264bf711ca%20%3D%20L.circleMarker%28%0A%20%20%20%20%20%20%20%20%20%20%20%20%20%20%20%20%5B30.00370621%2C-90.05235672%5D%2C%0A%20%20%20%20%20%20%20%20%20%20%20%20%20%20%20%20%7B%0A%20%20%22bubblingMouseEvents%22%3A%20true%2C%0A%20%20%22color%22%3A%20%22%23f88d52%22%2C%0A%20%20%22dashArray%22%3A%20null%2C%0A%20%20%22dashOffset%22%3A%20null%2C%0A%20%20%22fill%22%3A%20true%2C%0A%20%20%22fillColor%22%3A%20%22%23f88d52%22%2C%0A%20%20%22fillOpacity%22%3A%200.7%2C%0A%20%20%22fillRule%22%3A%20%22evenodd%22%2C%0A%20%20%22lineCap%22%3A%20%22round%22%2C%0A%20%20%22lineJoin%22%3A%20%22round%22%2C%0A%20%20%22opacity%22%3A%201.0%2C%0A%20%20%22radius%22%3A%208%2C%0A%20%20%22stroke%22%3A%20true%2C%0A%20%20%22weight%22%3A%203%0A%7D%0A%20%20%20%20%20%20%20%20%20%20%20%20%20%20%20%20%29.addTo%28map_4cf9781c24e441e98d89939983b39e1d%29%3B%0A%20%20%20%20%20%20%20%20%20%20%20%20%0A%20%20%20%20%0A%20%20%20%20%20%20%20%20%20%20%20%20var%20popup_5f785bea8c9b411d8e6e13837ca8a7d1%20%3D%20L.popup%28%7BmaxWidth%3A%20%27300%27%7D%29%3B%0A%0A%20%20%20%20%20%20%20%20%20%20%20%20%0A%20%20%20%20%20%20%20%20%20%20%20%20%20%20%20%20var%20html_1237ca4f25954b42a902ba59c24ba26f%20%3D%20%24%28%27%3Cdiv%20id%3D%22html_1237ca4f25954b42a902ba59c24ba26f%22%20style%3D%22width%3A%20100.0%25%3B%20height%3A%20100.0%25%3B%22%3EGENTILLY%20TERRACE%20Score%2021%3C/div%3E%27%29%5B0%5D%3B%0A%20%20%20%20%20%20%20%20%20%20%20%20%20%20%20%20popup_5f785bea8c9b411d8e6e13837ca8a7d1.setContent%28html_1237ca4f25954b42a902ba59c24ba26f%29%3B%0A%20%20%20%20%20%20%20%20%20%20%20%20%0A%0A%20%20%20%20%20%20%20%20%20%20%20%20circle_marker_6d2fc96d8e024661bb8dec264bf711ca.bindPopup%28popup_5f785bea8c9b411d8e6e13837ca8a7d1%29%3B%0A%0A%20%20%20%20%20%20%20%20%20%20%20%20%0A%20%20%20%20%20%20%20%20%0A%20%20%20%20%0A%20%20%20%20%20%20%20%20%20%20%20%20var%20circle_marker_d1bca17fe69d461aaf2d6aa3dc044948%20%3D%20L.circleMarker%28%0A%20%20%20%20%20%20%20%20%20%20%20%20%20%20%20%20%5B29.99389432%2C-90.03330231%5D%2C%0A%20%20%20%20%20%20%20%20%20%20%20%20%20%20%20%20%7B%0A%20%20%22bubblingMouseEvents%22%3A%20true%2C%0A%20%20%22color%22%3A%20%22%23a50026%22%2C%0A%20%20%22dashArray%22%3A%20null%2C%0A%20%20%22dashOffset%22%3A%20null%2C%0A%20%20%22fill%22%3A%20true%2C%0A%20%20%22fillColor%22%3A%20%22%23a50026%22%2C%0A%20%20%22fillOpacity%22%3A%200.7%2C%0A%20%20%22fillRule%22%3A%20%22evenodd%22%2C%0A%20%20%22lineCap%22%3A%20%22round%22%2C%0A%20%20%22lineJoin%22%3A%20%22round%22%2C%0A%20%20%22opacity%22%3A%201.0%2C%0A%20%20%22radius%22%3A%208%2C%0A%20%20%22stroke%22%3A%20true%2C%0A%20%20%22weight%22%3A%203%0A%7D%0A%20%20%20%20%20%20%20%20%20%20%20%20%20%20%20%20%29.addTo%28map_4cf9781c24e441e98d89939983b39e1d%29%3B%0A%20%20%20%20%20%20%20%20%20%20%20%20%0A%20%20%20%20%0A%20%20%20%20%20%20%20%20%20%20%20%20var%20popup_dfb763b4430e46aa9dbb873f41a6f405%20%3D%20L.popup%28%7BmaxWidth%3A%20%27300%27%7D%29%3B%0A%0A%20%20%20%20%20%20%20%20%20%20%20%20%0A%20%20%20%20%20%20%20%20%20%20%20%20%20%20%20%20var%20html_985a0d4bed134aa387688febe977543d%20%3D%20%24%28%27%3Cdiv%20id%3D%22html_985a0d4bed134aa387688febe977543d%22%20style%3D%22width%3A%20100.0%25%3B%20height%3A%20100.0%25%3B%22%3EDESIRE%20AREA%20Score%204%3C/div%3E%27%29%5B0%5D%3B%0A%20%20%20%20%20%20%20%20%20%20%20%20%20%20%20%20popup_dfb763b4430e46aa9dbb873f41a6f405.setContent%28html_985a0d4bed134aa387688febe977543d%29%3B%0A%20%20%20%20%20%20%20%20%20%20%20%20%0A%0A%20%20%20%20%20%20%20%20%20%20%20%20circle_marker_d1bca17fe69d461aaf2d6aa3dc044948.bindPopup%28popup_dfb763b4430e46aa9dbb873f41a6f405%29%3B%0A%0A%20%20%20%20%20%20%20%20%20%20%20%20%0A%20%20%20%20%20%20%20%20%0A%20%20%20%20%0A%20%20%20%20%20%20%20%20%20%20%20%20var%20circle_marker_3dabd2a8bfef4fed94401243812cc9f7%20%3D%20L.circleMarker%28%0A%20%20%20%20%20%20%20%20%20%20%20%20%20%20%20%20%5B29.98021553%2C-90.03742218%5D%2C%0A%20%20%20%20%20%20%20%20%20%20%20%20%20%20%20%20%7B%0A%20%20%22bubblingMouseEvents%22%3A%20true%2C%0A%20%20%22color%22%3A%20%22%23a50026%22%2C%0A%20%20%22dashArray%22%3A%20null%2C%0A%20%20%22dashOffset%22%3A%20null%2C%0A%20%20%22fill%22%3A%20true%2C%0A%20%20%22fillColor%22%3A%20%22%23a50026%22%2C%0A%20%20%22fillOpacity%22%3A%200.7%2C%0A%20%20%22fillRule%22%3A%20%22evenodd%22%2C%0A%20%20%22lineCap%22%3A%20%22round%22%2C%0A%20%20%22lineJoin%22%3A%20%22round%22%2C%0A%20%20%22opacity%22%3A%201.0%2C%0A%20%20%22radius%22%3A%208%2C%0A%20%20%22stroke%22%3A%20true%2C%0A%20%20%22weight%22%3A%203%0A%7D%0A%20%20%20%20%20%20%20%20%20%20%20%20%20%20%20%20%29.addTo%28map_4cf9781c24e441e98d89939983b39e1d%29%3B%0A%20%20%20%20%20%20%20%20%20%20%20%20%0A%20%20%20%20%0A%20%20%20%20%20%20%20%20%20%20%20%20var%20popup_25b4751fd3ec494eab9c5310d61e2836%20%3D%20L.popup%28%7BmaxWidth%3A%20%27300%27%7D%29%3B%0A%0A%20%20%20%20%20%20%20%20%20%20%20%20%0A%20%20%20%20%20%20%20%20%20%20%20%20%20%20%20%20var%20html_a0480c11b9674bc38f9310d797cf78ba%20%3D%20%24%28%27%3Cdiv%20id%3D%22html_a0480c11b9674bc38f9310d797cf78ba%22%20style%3D%22width%3A%20100.0%25%3B%20height%3A%20100.0%25%3B%22%3EFLORIDA%20AREA%20Score%209%3C/div%3E%27%29%5B0%5D%3B%0A%20%20%20%20%20%20%20%20%20%20%20%20%20%20%20%20popup_25b4751fd3ec494eab9c5310d61e2836.setContent%28html_a0480c11b9674bc38f9310d797cf78ba%29%3B%0A%20%20%20%20%20%20%20%20%20%20%20%20%0A%0A%20%20%20%20%20%20%20%20%20%20%20%20circle_marker_3dabd2a8bfef4fed94401243812cc9f7.bindPopup%28popup_25b4751fd3ec494eab9c5310d61e2836%29%3B%0A%0A%20%20%20%20%20%20%20%20%20%20%20%20%0A%20%20%20%20%20%20%20%20%0A%20%20%20%20%0A%20%20%20%20%20%20%20%20%20%20%20%20var%20circle_marker_9dd40b422a9c478bba2eae4a82792354%20%3D%20L.circleMarker%28%0A%20%20%20%20%20%20%20%20%20%20%20%20%20%20%20%20%5B29.98170245%2C-90.03252983%5D%2C%0A%20%20%20%20%20%20%20%20%20%20%20%20%20%20%20%20%7B%0A%20%20%22bubblingMouseEvents%22%3A%20true%2C%0A%20%20%22color%22%3A%20%22%23a50026%22%2C%0A%20%20%22dashArray%22%3A%20null%2C%0A%20%20%22dashOffset%22%3A%20null%2C%0A%20%20%22fill%22%3A%20true%2C%0A%20%20%22fillColor%22%3A%20%22%23a50026%22%2C%0A%20%20%22fillOpacity%22%3A%200.7%2C%0A%20%20%22fillRule%22%3A%20%22evenodd%22%2C%0A%20%20%22lineCap%22%3A%20%22round%22%2C%0A%20%20%22lineJoin%22%3A%20%22round%22%2C%0A%20%20%22opacity%22%3A%201.0%2C%0A%20%20%22radius%22%3A%208%2C%0A%20%20%22stroke%22%3A%20true%2C%0A%20%20%22weight%22%3A%203%0A%7D%0A%20%20%20%20%20%20%20%20%20%20%20%20%20%20%20%20%29.addTo%28map_4cf9781c24e441e98d89939983b39e1d%29%3B%0A%20%20%20%20%20%20%20%20%20%20%20%20%0A%20%20%20%20%0A%20%20%20%20%20%20%20%20%20%20%20%20var%20popup_c0dfbaa03b894fa1989cf81b747a7009%20%3D%20L.popup%28%7BmaxWidth%3A%20%27300%27%7D%29%3B%0A%0A%20%20%20%20%20%20%20%20%20%20%20%20%0A%20%20%20%20%20%20%20%20%20%20%20%20%20%20%20%20var%20html_983549ff7a8145ae8dfe1abf1c0a9d7a%20%3D%20%24%28%27%3Cdiv%20id%3D%22html_983549ff7a8145ae8dfe1abf1c0a9d7a%22%20style%3D%22width%3A%20100.0%25%3B%20height%3A%20100.0%25%3B%22%3EFLORIDA%20DEV%20Score%207%3C/div%3E%27%29%5B0%5D%3B%0A%20%20%20%20%20%20%20%20%20%20%20%20%20%20%20%20popup_c0dfbaa03b894fa1989cf81b747a7009.setContent%28html_983549ff7a8145ae8dfe1abf1c0a9d7a%29%3B%0A%20%20%20%20%20%20%20%20%20%20%20%20%0A%0A%20%20%20%20%20%20%20%20%20%20%20%20circle_marker_9dd40b422a9c478bba2eae4a82792354.bindPopup%28popup_c0dfbaa03b894fa1989cf81b747a7009%29%3B%0A%0A%20%20%20%20%20%20%20%20%20%20%20%20%0A%20%20%20%20%20%20%20%20%0A%20%20%20%20%0A%20%20%20%20%20%20%20%20%20%20%20%20var%20circle_marker_e846c1403db54ae098f1d398b7433a24%20%3D%20L.circleMarker%28%0A%20%20%20%20%20%20%20%20%20%20%20%20%20%20%20%20%5B29.96891424%2C-90.01304626%5D%2C%0A%20%20%20%20%20%20%20%20%20%20%20%20%20%20%20%20%7B%0A%20%20%22bubblingMouseEvents%22%3A%20true%2C%0A%20%20%22color%22%3A%20%22%23a50026%22%2C%0A%20%20%22dashArray%22%3A%20null%2C%0A%20%20%22dashOffset%22%3A%20null%2C%0A%20%20%22fill%22%3A%20true%2C%0A%20%20%22fillColor%22%3A%20%22%23a50026%22%2C%0A%20%20%22fillOpacity%22%3A%200.7%2C%0A%20%20%22fillRule%22%3A%20%22evenodd%22%2C%0A%20%20%22lineCap%22%3A%20%22round%22%2C%0A%20%20%22lineJoin%22%3A%20%22round%22%2C%0A%20%20%22opacity%22%3A%201.0%2C%0A%20%20%22radius%22%3A%208%2C%0A%20%20%22stroke%22%3A%20true%2C%0A%20%20%22weight%22%3A%203%0A%7D%0A%20%20%20%20%20%20%20%20%20%20%20%20%20%20%20%20%29.addTo%28map_4cf9781c24e441e98d89939983b39e1d%29%3B%0A%20%20%20%20%20%20%20%20%20%20%20%20%0A%20%20%20%20%0A%20%20%20%20%20%20%20%20%20%20%20%20var%20popup_96fff289c7d14c76abdf98ca8a2d41fe%20%3D%20L.popup%28%7BmaxWidth%3A%20%27300%27%7D%29%3B%0A%0A%20%20%20%20%20%20%20%20%20%20%20%20%0A%20%20%20%20%20%20%20%20%20%20%20%20%20%20%20%20var%20html_365e434c791a412cac9879c53042114c%20%3D%20%24%28%27%3Cdiv%20id%3D%22html_365e434c791a412cac9879c53042114c%22%20style%3D%22width%3A%20100.0%25%3B%20height%3A%20100.0%25%3B%22%3ELOWER%20NINTH%20WARD%20Score%204%3C/div%3E%27%29%5B0%5D%3B%0A%20%20%20%20%20%20%20%20%20%20%20%20%20%20%20%20popup_96fff289c7d14c76abdf98ca8a2d41fe.setContent%28html_365e434c791a412cac9879c53042114c%29%3B%0A%20%20%20%20%20%20%20%20%20%20%20%20%0A%0A%20%20%20%20%20%20%20%20%20%20%20%20circle_marker_e846c1403db54ae098f1d398b7433a24.bindPopup%28popup_96fff289c7d14c76abdf98ca8a2d41fe%29%3B%0A%0A%20%20%20%20%20%20%20%20%20%20%20%20%0A%20%20%20%20%20%20%20%20%0A%20%20%20%20%0A%20%20%20%20%20%20%20%20%20%20%20%20var%20circle_marker_baceca8b09b24d24b785140676fd0584%20%3D%20L.circleMarker%28%0A%20%20%20%20%20%20%20%20%20%20%20%20%20%20%20%20%5B29.96534514%2C-90.03021240000001%5D%2C%0A%20%20%20%20%20%20%20%20%20%20%20%20%20%20%20%20%7B%0A%20%20%22bubblingMouseEvents%22%3A%20true%2C%0A%20%20%22color%22%3A%20%22%23f88d52%22%2C%0A%20%20%22dashArray%22%3A%20null%2C%0A%20%20%22dashOffset%22%3A%20null%2C%0A%20%20%22fill%22%3A%20true%2C%0A%20%20%22fillColor%22%3A%20%22%23f88d52%22%2C%0A%20%20%22fillOpacity%22%3A%200.7%2C%0A%20%20%22fillRule%22%3A%20%22evenodd%22%2C%0A%20%20%22lineCap%22%3A%20%22round%22%2C%0A%20%20%22lineJoin%22%3A%20%22round%22%2C%0A%20%20%22opacity%22%3A%201.0%2C%0A%20%20%22radius%22%3A%208%2C%0A%20%20%22stroke%22%3A%20true%2C%0A%20%20%22weight%22%3A%203%0A%7D%0A%20%20%20%20%20%20%20%20%20%20%20%20%20%20%20%20%29.addTo%28map_4cf9781c24e441e98d89939983b39e1d%29%3B%0A%20%20%20%20%20%20%20%20%20%20%20%20%0A%20%20%20%20%0A%20%20%20%20%20%20%20%20%20%20%20%20var%20popup_9a2cd8a79e664349ad2b7af641018f58%20%3D%20L.popup%28%7BmaxWidth%3A%20%27300%27%7D%29%3B%0A%0A%20%20%20%20%20%20%20%20%20%20%20%20%0A%20%20%20%20%20%20%20%20%20%20%20%20%20%20%20%20var%20html_b5439a87af464cc2a035d5b02b48d65c%20%3D%20%24%28%27%3Cdiv%20id%3D%22html_b5439a87af464cc2a035d5b02b48d65c%22%20style%3D%22width%3A%20100.0%25%3B%20height%3A%20100.0%25%3B%22%3EBYWATER%20Score%2038%3C/div%3E%27%29%5B0%5D%3B%0A%20%20%20%20%20%20%20%20%20%20%20%20%20%20%20%20popup_9a2cd8a79e664349ad2b7af641018f58.setContent%28html_b5439a87af464cc2a035d5b02b48d65c%29%3B%0A%20%20%20%20%20%20%20%20%20%20%20%20%0A%0A%20%20%20%20%20%20%20%20%20%20%20%20circle_marker_baceca8b09b24d24b785140676fd0584.bindPopup%28popup_9a2cd8a79e664349ad2b7af641018f58%29%3B%0A%0A%20%20%20%20%20%20%20%20%20%20%20%20%0A%20%20%20%20%20%20%20%20%0A%20%20%20%20%0A%20%20%20%20%20%20%20%20%20%20%20%20var%20circle_marker_e4ca7e6dfc8948788a48d2366d4e71f2%20%3D%20L.circleMarker%28%0A%20%20%20%20%20%20%20%20%20%20%20%20%20%20%20%20%5B29.95508328%2C-90.01785278%5D%2C%0A%20%20%20%20%20%20%20%20%20%20%20%20%20%20%20%20%7B%0A%20%20%22bubblingMouseEvents%22%3A%20true%2C%0A%20%20%22color%22%3A%20%22%23a50026%22%2C%0A%20%20%22dashArray%22%3A%20null%2C%0A%20%20%22dashOffset%22%3A%20null%2C%0A%20%20%22fill%22%3A%20true%2C%0A%20%20%22fillColor%22%3A%20%22%23a50026%22%2C%0A%20%20%22fillOpacity%22%3A%200.7%2C%0A%20%20%22fillRule%22%3A%20%22evenodd%22%2C%0A%20%20%22lineCap%22%3A%20%22round%22%2C%0A%20%20%22lineJoin%22%3A%20%22round%22%2C%0A%20%20%22opacity%22%3A%201.0%2C%0A%20%20%22radius%22%3A%208%2C%0A%20%20%22stroke%22%3A%20true%2C%0A%20%20%22weight%22%3A%203%0A%7D%0A%20%20%20%20%20%20%20%20%20%20%20%20%20%20%20%20%29.addTo%28map_4cf9781c24e441e98d89939983b39e1d%29%3B%0A%20%20%20%20%20%20%20%20%20%20%20%20%0A%20%20%20%20%0A%20%20%20%20%20%20%20%20%20%20%20%20var%20popup_f1f7175b4336451abb1f125e6b9af549%20%3D%20L.popup%28%7BmaxWidth%3A%20%27300%27%7D%29%3B%0A%0A%20%20%20%20%20%20%20%20%20%20%20%20%0A%20%20%20%20%20%20%20%20%20%20%20%20%20%20%20%20var%20html_d3b78083d5424845bd4ceac7928f4135%20%3D%20%24%28%27%3Cdiv%20id%3D%22html_d3b78083d5424845bd4ceac7928f4135%22%20style%3D%22width%3A%20100.0%25%3B%20height%3A%20100.0%25%3B%22%3EHOLY%20CROSS%20Score%207%3C/div%3E%27%29%5B0%5D%3B%0A%20%20%20%20%20%20%20%20%20%20%20%20%20%20%20%20popup_f1f7175b4336451abb1f125e6b9af549.setContent%28html_d3b78083d5424845bd4ceac7928f4135%29%3B%0A%20%20%20%20%20%20%20%20%20%20%20%20%0A%0A%20%20%20%20%20%20%20%20%20%20%20%20circle_marker_e4ca7e6dfc8948788a48d2366d4e71f2.bindPopup%28popup_f1f7175b4336451abb1f125e6b9af549%29%3B%0A%0A%20%20%20%20%20%20%20%20%20%20%20%20%0A%20%20%20%20%20%20%20%20%0A%20%20%20%20%0A%20%20%20%20%20%20%20%20%20%20%20%20var%20circle_marker_a525aad1b02549c2bac6a61204c4ce9e%20%3D%20L.circleMarker%28%0A%20%20%20%20%20%20%20%20%20%20%20%20%20%20%20%20%5B30.01916539%2C-90.02214432%5D%2C%0A%20%20%20%20%20%20%20%20%20%20%20%20%20%20%20%20%7B%0A%20%20%22bubblingMouseEvents%22%3A%20true%2C%0A%20%20%22color%22%3A%20%22%23a50026%22%2C%0A%20%20%22dashArray%22%3A%20null%2C%0A%20%20%22dashOffset%22%3A%20null%2C%0A%20%20%22fill%22%3A%20true%2C%0A%20%20%22fillColor%22%3A%20%22%23a50026%22%2C%0A%20%20%22fillOpacity%22%3A%200.7%2C%0A%20%20%22fillRule%22%3A%20%22evenodd%22%2C%0A%20%20%22lineCap%22%3A%20%22round%22%2C%0A%20%20%22lineJoin%22%3A%20%22round%22%2C%0A%20%20%22opacity%22%3A%201.0%2C%0A%20%20%22radius%22%3A%208%2C%0A%20%20%22stroke%22%3A%20true%2C%0A%20%20%22weight%22%3A%203%0A%7D%0A%20%20%20%20%20%20%20%20%20%20%20%20%20%20%20%20%29.addTo%28map_4cf9781c24e441e98d89939983b39e1d%29%3B%0A%20%20%20%20%20%20%20%20%20%20%20%20%0A%20%20%20%20%0A%20%20%20%20%20%20%20%20%20%20%20%20var%20popup_ac59a052e4f3456eaaad7fa1d732ace1%20%3D%20L.popup%28%7BmaxWidth%3A%20%27300%27%7D%29%3B%0A%0A%20%20%20%20%20%20%20%20%20%20%20%20%0A%20%20%20%20%20%20%20%20%20%20%20%20%20%20%20%20var%20html_5a507c36e540440dbdfaa285554cf013%20%3D%20%24%28%27%3Cdiv%20id%3D%22html_5a507c36e540440dbdfaa285554cf013%22%20style%3D%22width%3A%20100.0%25%3B%20height%3A%20100.0%25%3B%22%3EPINES%20VILLAGE%20Score%2011%3C/div%3E%27%29%5B0%5D%3B%0A%20%20%20%20%20%20%20%20%20%20%20%20%20%20%20%20popup_ac59a052e4f3456eaaad7fa1d732ace1.setContent%28html_5a507c36e540440dbdfaa285554cf013%29%3B%0A%20%20%20%20%20%20%20%20%20%20%20%20%0A%0A%20%20%20%20%20%20%20%20%20%20%20%20circle_marker_a525aad1b02549c2bac6a61204c4ce9e.bindPopup%28popup_ac59a052e4f3456eaaad7fa1d732ace1%29%3B%0A%0A%20%20%20%20%20%20%20%20%20%20%20%20%0A%20%20%20%20%20%20%20%20%0A%20%20%20%20%0A%20%20%20%20%20%20%20%20%20%20%20%20var%20circle_marker_9a3f85570ce04eadaae157890d9f5656%20%3D%20L.circleMarker%28%0A%20%20%20%20%20%20%20%20%20%20%20%20%20%20%20%20%5B30.01604402%2C-90.00188828%5D%2C%0A%20%20%20%20%20%20%20%20%20%20%20%20%20%20%20%20%7B%0A%20%20%22bubblingMouseEvents%22%3A%20true%2C%0A%20%20%22color%22%3A%20%22%23a50026%22%2C%0A%20%20%22dashArray%22%3A%20null%2C%0A%20%20%22dashOffset%22%3A%20null%2C%0A%20%20%22fill%22%3A%20true%2C%0A%20%20%22fillColor%22%3A%20%22%23a50026%22%2C%0A%20%20%22fillOpacity%22%3A%200.7%2C%0A%20%20%22fillRule%22%3A%20%22evenodd%22%2C%0A%20%20%22lineCap%22%3A%20%22round%22%2C%0A%20%20%22lineJoin%22%3A%20%22round%22%2C%0A%20%20%22opacity%22%3A%201.0%2C%0A%20%20%22radius%22%3A%208%2C%0A%20%20%22stroke%22%3A%20true%2C%0A%20%20%22weight%22%3A%203%0A%7D%0A%20%20%20%20%20%20%20%20%20%20%20%20%20%20%20%20%29.addTo%28map_4cf9781c24e441e98d89939983b39e1d%29%3B%0A%20%20%20%20%20%20%20%20%20%20%20%20%0A%20%20%20%20%0A%20%20%20%20%20%20%20%20%20%20%20%20var%20popup_a333fb81b14c482caf130627cd8848f5%20%3D%20L.popup%28%7BmaxWidth%3A%20%27300%27%7D%29%3B%0A%0A%20%20%20%20%20%20%20%20%20%20%20%20%0A%20%20%20%20%20%20%20%20%20%20%20%20%20%20%20%20var%20html_fce6acd8dce04c0e8fe2ea4814c87a71%20%3D%20%24%28%27%3Cdiv%20id%3D%22html_fce6acd8dce04c0e8fe2ea4814c87a71%22%20style%3D%22width%3A%20100.0%25%3B%20height%3A%20100.0%25%3B%22%3EPLUM%20ORCHARD%20Score%207%3C/div%3E%27%29%5B0%5D%3B%0A%20%20%20%20%20%20%20%20%20%20%20%20%20%20%20%20popup_a333fb81b14c482caf130627cd8848f5.setContent%28html_fce6acd8dce04c0e8fe2ea4814c87a71%29%3B%0A%20%20%20%20%20%20%20%20%20%20%20%20%0A%0A%20%20%20%20%20%20%20%20%20%20%20%20circle_marker_9a3f85570ce04eadaae157890d9f5656.bindPopup%28popup_a333fb81b14c482caf130627cd8848f5%29%3B%0A%0A%20%20%20%20%20%20%20%20%20%20%20%20%0A%20%20%20%20%20%20%20%20%0A%20%20%20%20%0A%20%20%20%20%20%20%20%20%20%20%20%20var%20circle_marker_4ef4837ec91246b88577fb5d292b8750%20%3D%20L.circleMarker%28%0A%20%20%20%20%20%20%20%20%20%20%20%20%20%20%20%20%5B30.02005719%2C-89.97922897%5D%2C%0A%20%20%20%20%20%20%20%20%20%20%20%20%20%20%20%20%7B%0A%20%20%22bubblingMouseEvents%22%3A%20true%2C%0A%20%20%22color%22%3A%20%22%23a50026%22%2C%0A%20%20%22dashArray%22%3A%20null%2C%0A%20%20%22dashOffset%22%3A%20null%2C%0A%20%20%22fill%22%3A%20true%2C%0A%20%20%22fillColor%22%3A%20%22%23a50026%22%2C%0A%20%20%22fillOpacity%22%3A%200.7%2C%0A%20%20%22fillRule%22%3A%20%22evenodd%22%2C%0A%20%20%22lineCap%22%3A%20%22round%22%2C%0A%20%20%22lineJoin%22%3A%20%22round%22%2C%0A%20%20%22opacity%22%3A%201.0%2C%0A%20%20%22radius%22%3A%208%2C%0A%20%20%22stroke%22%3A%20true%2C%0A%20%20%22weight%22%3A%203%0A%7D%0A%20%20%20%20%20%20%20%20%20%20%20%20%20%20%20%20%29.addTo%28map_4cf9781c24e441e98d89939983b39e1d%29%3B%0A%20%20%20%20%20%20%20%20%20%20%20%20%0A%20%20%20%20%0A%20%20%20%20%20%20%20%20%20%20%20%20var%20popup_e6b2246126b44d59a1385f540b327bea%20%3D%20L.popup%28%7BmaxWidth%3A%20%27300%27%7D%29%3B%0A%0A%20%20%20%20%20%20%20%20%20%20%20%20%0A%20%20%20%20%20%20%20%20%20%20%20%20%20%20%20%20var%20html_002494c1144b433582a85bc0247a6882%20%3D%20%24%28%27%3Cdiv%20id%3D%22html_002494c1144b433582a85bc0247a6882%22%20style%3D%22width%3A%20100.0%25%3B%20height%3A%20100.0%25%3B%22%3EREAD%20BLVD%20WEST%20Score%204%3C/div%3E%27%29%5B0%5D%3B%0A%20%20%20%20%20%20%20%20%20%20%20%20%20%20%20%20popup_e6b2246126b44d59a1385f540b327bea.setContent%28html_002494c1144b433582a85bc0247a6882%29%3B%0A%20%20%20%20%20%20%20%20%20%20%20%20%0A%0A%20%20%20%20%20%20%20%20%20%20%20%20circle_marker_4ef4837ec91246b88577fb5d292b8750.bindPopup%28popup_e6b2246126b44d59a1385f540b327bea%29%3B%0A%0A%20%20%20%20%20%20%20%20%20%20%20%20%0A%20%20%20%20%20%20%20%20%0A%20%20%20%20%0A%20%20%20%20%20%20%20%20%20%20%20%20var%20circle_marker_981a6e60549d4ee6beafb2dc4a0fd48b%20%3D%20L.circleMarker%28%0A%20%20%20%20%20%20%20%20%20%20%20%20%20%20%20%20%5B30.03551382%2C-89.95519638%5D%2C%0A%20%20%20%20%20%20%20%20%20%20%20%20%20%20%20%20%7B%0A%20%20%22bubblingMouseEvents%22%3A%20true%2C%0A%20%20%22color%22%3A%20%22%23f88d52%22%2C%0A%20%20%22dashArray%22%3A%20null%2C%0A%20%20%22dashOffset%22%3A%20null%2C%0A%20%20%22fill%22%3A%20true%2C%0A%20%20%22fillColor%22%3A%20%22%23f88d52%22%2C%0A%20%20%22fillOpacity%22%3A%200.7%2C%0A%20%20%22fillRule%22%3A%20%22evenodd%22%2C%0A%20%20%22lineCap%22%3A%20%22round%22%2C%0A%20%20%22lineJoin%22%3A%20%22round%22%2C%0A%20%20%22opacity%22%3A%201.0%2C%0A%20%20%22radius%22%3A%208%2C%0A%20%20%22stroke%22%3A%20true%2C%0A%20%20%22weight%22%3A%203%0A%7D%0A%20%20%20%20%20%20%20%20%20%20%20%20%20%20%20%20%29.addTo%28map_4cf9781c24e441e98d89939983b39e1d%29%3B%0A%20%20%20%20%20%20%20%20%20%20%20%20%0A%20%20%20%20%0A%20%20%20%20%20%20%20%20%20%20%20%20var%20popup_520815b9954943df85de8e5bc797cca8%20%3D%20L.popup%28%7BmaxWidth%3A%20%27300%27%7D%29%3B%0A%0A%20%20%20%20%20%20%20%20%20%20%20%20%0A%20%20%20%20%20%20%20%20%20%20%20%20%20%20%20%20var%20html_bc846161d40e4383806f5cbb18891312%20%3D%20%24%28%27%3Cdiv%20id%3D%22html_bc846161d40e4383806f5cbb18891312%22%20style%3D%22width%3A%20100.0%25%3B%20height%3A%20100.0%25%3B%22%3EREAD%20BLVD%20EAST%20Score%2021%3C/div%3E%27%29%5B0%5D%3B%0A%20%20%20%20%20%20%20%20%20%20%20%20%20%20%20%20popup_520815b9954943df85de8e5bc797cca8.setContent%28html_bc846161d40e4383806f5cbb18891312%29%3B%0A%20%20%20%20%20%20%20%20%20%20%20%20%0A%0A%20%20%20%20%20%20%20%20%20%20%20%20circle_marker_981a6e60549d4ee6beafb2dc4a0fd48b.bindPopup%28popup_520815b9954943df85de8e5bc797cca8%29%3B%0A%0A%20%20%20%20%20%20%20%20%20%20%20%20%0A%20%20%20%20%20%20%20%20%0A%20%20%20%20%0A%20%20%20%20%20%20%20%20%20%20%20%20var%20circle_marker_abfd14a0921c48678fc5197a37035e7d%20%3D%20L.circleMarker%28%0A%20%20%20%20%20%20%20%20%20%20%20%20%20%20%20%20%5B30.027042699999996%2C-89.99210358%5D%2C%0A%20%20%20%20%20%20%20%20%20%20%20%20%20%20%20%20%7B%0A%20%20%22bubblingMouseEvents%22%3A%20true%2C%0A%20%20%22color%22%3A%20%22%23a50026%22%2C%0A%20%20%22dashArray%22%3A%20null%2C%0A%20%20%22dashOffset%22%3A%20null%2C%0A%20%20%22fill%22%3A%20true%2C%0A%20%20%22fillColor%22%3A%20%22%23a50026%22%2C%0A%20%20%22fillOpacity%22%3A%200.7%2C%0A%20%20%22fillRule%22%3A%20%22evenodd%22%2C%0A%20%20%22lineCap%22%3A%20%22round%22%2C%0A%20%20%22lineJoin%22%3A%20%22round%22%2C%0A%20%20%22opacity%22%3A%201.0%2C%0A%20%20%22radius%22%3A%208%2C%0A%20%20%22stroke%22%3A%20true%2C%0A%20%20%22weight%22%3A%203%0A%7D%0A%20%20%20%20%20%20%20%20%20%20%20%20%20%20%20%20%29.addTo%28map_4cf9781c24e441e98d89939983b39e1d%29%3B%0A%20%20%20%20%20%20%20%20%20%20%20%20%0A%20%20%20%20%0A%20%20%20%20%20%20%20%20%20%20%20%20var%20popup_b8b39b17cd58495293593431f4b6425f%20%3D%20L.popup%28%7BmaxWidth%3A%20%27300%27%7D%29%3B%0A%0A%20%20%20%20%20%20%20%20%20%20%20%20%0A%20%20%20%20%20%20%20%20%20%20%20%20%20%20%20%20var%20html_81f9e7ef47054ab8b2aaf04dfaa7546e%20%3D%20%24%28%27%3Cdiv%20id%3D%22html_81f9e7ef47054ab8b2aaf04dfaa7546e%22%20style%3D%22width%3A%20100.0%25%3B%20height%3A%20100.0%25%3B%22%3EWEST%20LAKE%20FOREST%20Score%2014%3C/div%3E%27%29%5B0%5D%3B%0A%20%20%20%20%20%20%20%20%20%20%20%20%20%20%20%20popup_b8b39b17cd58495293593431f4b6425f.setContent%28html_81f9e7ef47054ab8b2aaf04dfaa7546e%29%3B%0A%20%20%20%20%20%20%20%20%20%20%20%20%0A%0A%20%20%20%20%20%20%20%20%20%20%20%20circle_marker_abfd14a0921c48678fc5197a37035e7d.bindPopup%28popup_b8b39b17cd58495293593431f4b6425f%29%3B%0A%0A%20%20%20%20%20%20%20%20%20%20%20%20%0A%20%20%20%20%20%20%20%20%0A%20%20%20%20%0A%20%20%20%20%20%20%20%20%20%20%20%20var%20circle_marker_c75cedd8501543a6ae460fe5a4f7c19f%20%3D%20L.circleMarker%28%0A%20%20%20%20%20%20%20%20%20%20%20%20%20%20%20%20%5B30.04190384%2C-89.98386383%5D%2C%0A%20%20%20%20%20%20%20%20%20%20%20%20%20%20%20%20%7B%0A%20%20%22bubblingMouseEvents%22%3A%20true%2C%0A%20%20%22color%22%3A%20%22%23a50026%22%2C%0A%20%20%22dashArray%22%3A%20null%2C%0A%20%20%22dashOffset%22%3A%20null%2C%0A%20%20%22fill%22%3A%20true%2C%0A%20%20%22fillColor%22%3A%20%22%23a50026%22%2C%0A%20%20%22fillOpacity%22%3A%200.7%2C%0A%20%20%22fillRule%22%3A%20%22evenodd%22%2C%0A%20%20%22lineCap%22%3A%20%22round%22%2C%0A%20%20%22lineJoin%22%3A%20%22round%22%2C%0A%20%20%22opacity%22%3A%201.0%2C%0A%20%20%22radius%22%3A%208%2C%0A%20%20%22stroke%22%3A%20true%2C%0A%20%20%22weight%22%3A%203%0A%7D%0A%20%20%20%20%20%20%20%20%20%20%20%20%20%20%20%20%29.addTo%28map_4cf9781c24e441e98d89939983b39e1d%29%3B%0A%20%20%20%20%20%20%20%20%20%20%20%20%0A%20%20%20%20%0A%20%20%20%20%20%20%20%20%20%20%20%20var%20popup_cc72a1f514bd4957824d16e4cd0167a3%20%3D%20L.popup%28%7BmaxWidth%3A%20%27300%27%7D%29%3B%0A%0A%20%20%20%20%20%20%20%20%20%20%20%20%0A%20%20%20%20%20%20%20%20%20%20%20%20%20%20%20%20var%20html_8606c2271432418caf94f8d4b34961ad%20%3D%20%24%28%27%3Cdiv%20id%3D%22html_8606c2271432418caf94f8d4b34961ad%22%20style%3D%22width%3A%20100.0%25%3B%20height%3A%20100.0%25%3B%22%3ELITTLE%20WOODS%20Score%2016%3C/div%3E%27%29%5B0%5D%3B%0A%20%20%20%20%20%20%20%20%20%20%20%20%20%20%20%20popup_cc72a1f514bd4957824d16e4cd0167a3.setContent%28html_8606c2271432418caf94f8d4b34961ad%29%3B%0A%20%20%20%20%20%20%20%20%20%20%20%20%0A%0A%20%20%20%20%20%20%20%20%20%20%20%20circle_marker_c75cedd8501543a6ae460fe5a4f7c19f.bindPopup%28popup_cc72a1f514bd4957824d16e4cd0167a3%29%3B%0A%0A%20%20%20%20%20%20%20%20%20%20%20%20%0A%20%20%20%20%20%20%20%20%0A%20%20%20%20%0A%20%20%20%20%20%20%20%20%20%20%20%20var%20circle_marker_b42841ab0bd44c8a8e3e3f42a4d8ed79%20%3D%20L.circleMarker%28%0A%20%20%20%20%20%20%20%20%20%20%20%20%20%20%20%20%5B29.98621882%2C-90.0794363%5D%2C%0A%20%20%20%20%20%20%20%20%20%20%20%20%20%20%20%20%7B%0A%20%20%22bubblingMouseEvents%22%3A%20true%2C%0A%20%20%22color%22%3A%20%22%2386cb66%22%2C%0A%20%20%22dashArray%22%3A%20null%2C%0A%20%20%22dashOffset%22%3A%20null%2C%0A%20%20%22fill%22%3A%20true%2C%0A%20%20%22fillColor%22%3A%20%22%2386cb66%22%2C%0A%20%20%22fillOpacity%22%3A%200.7%2C%0A%20%20%22fillRule%22%3A%20%22evenodd%22%2C%0A%20%20%22lineCap%22%3A%20%22round%22%2C%0A%20%20%22lineJoin%22%3A%20%22round%22%2C%0A%20%20%22opacity%22%3A%201.0%2C%0A%20%20%22radius%22%3A%208%2C%0A%20%20%22stroke%22%3A%20true%2C%0A%20%20%22weight%22%3A%203%0A%7D%0A%20%20%20%20%20%20%20%20%20%20%20%20%20%20%20%20%29.addTo%28map_4cf9781c24e441e98d89939983b39e1d%29%3B%0A%20%20%20%20%20%20%20%20%20%20%20%20%0A%20%20%20%20%0A%20%20%20%20%20%20%20%20%20%20%20%20var%20popup_9611263435144cfd9977561304047153%20%3D%20L.popup%28%7BmaxWidth%3A%20%27300%27%7D%29%3B%0A%0A%20%20%20%20%20%20%20%20%20%20%20%20%0A%20%20%20%20%20%20%20%20%20%20%20%20%20%20%20%20var%20html_e6bbcdf784444d9a8346ec8c9a4e41bb%20%3D%20%24%28%27%3Cdiv%20id%3D%22html_e6bbcdf784444d9a8346ec8c9a4e41bb%22%20style%3D%22width%3A%20100.0%25%3B%20height%3A%20100.0%25%3B%22%3EFAIRGROUNDS%20Score%2076%3C/div%3E%27%29%5B0%5D%3B%0A%20%20%20%20%20%20%20%20%20%20%20%20%20%20%20%20popup_9611263435144cfd9977561304047153.setContent%28html_e6bbcdf784444d9a8346ec8c9a4e41bb%29%3B%0A%20%20%20%20%20%20%20%20%20%20%20%20%0A%0A%20%20%20%20%20%20%20%20%20%20%20%20circle_marker_b42841ab0bd44c8a8e3e3f42a4d8ed79.bindPopup%28popup_9611263435144cfd9977561304047153%29%3B%0A%0A%20%20%20%20%20%20%20%20%20%20%20%20%0A%20%20%20%20%20%20%20%20%0A%20%20%20%20%0A%20%20%20%20%20%20%20%20%20%20%20%20var%20circle_marker_65668b5bd05f497ea93766f5b1980e68%20%3D%20L.circleMarker%28%0A%20%20%20%20%20%20%20%20%20%20%20%20%20%20%20%20%5B29.95949861%2C-90.07368565%5D%2C%0A%20%20%20%20%20%20%20%20%20%20%20%20%20%20%20%20%7B%0A%20%20%22bubblingMouseEvents%22%3A%20true%2C%0A%20%20%22color%22%3A%20%22%2386cb66%22%2C%0A%20%20%22dashArray%22%3A%20null%2C%0A%20%20%22dashOffset%22%3A%20null%2C%0A%20%20%22fill%22%3A%20true%2C%0A%20%20%22fillColor%22%3A%20%22%2386cb66%22%2C%0A%20%20%22fillOpacity%22%3A%200.7%2C%0A%20%20%22fillRule%22%3A%20%22evenodd%22%2C%0A%20%20%22lineCap%22%3A%20%22round%22%2C%0A%20%20%22lineJoin%22%3A%20%22round%22%2C%0A%20%20%22opacity%22%3A%201.0%2C%0A%20%20%22radius%22%3A%208%2C%0A%20%20%22stroke%22%3A%20true%2C%0A%20%20%22weight%22%3A%203%0A%7D%0A%20%20%20%20%20%20%20%20%20%20%20%20%20%20%20%20%29.addTo%28map_4cf9781c24e441e98d89939983b39e1d%29%3B%0A%20%20%20%20%20%20%20%20%20%20%20%20%0A%20%20%20%20%0A%20%20%20%20%20%20%20%20%20%20%20%20var%20popup_b511c9589c614f8b8f151e6233a55c36%20%3D%20L.popup%28%7BmaxWidth%3A%20%27300%27%7D%29%3B%0A%0A%20%20%20%20%20%20%20%20%20%20%20%20%0A%20%20%20%20%20%20%20%20%20%20%20%20%20%20%20%20var%20html_083ff15fd8b246a8bd3dad6c99210632%20%3D%20%24%28%27%3Cdiv%20id%3D%22html_083ff15fd8b246a8bd3dad6c99210632%22%20style%3D%22width%3A%20100.0%25%3B%20height%3A%20100.0%25%3B%22%3EIBERVILLE%20Score%2076%3C/div%3E%27%29%5B0%5D%3B%0A%20%20%20%20%20%20%20%20%20%20%20%20%20%20%20%20popup_b511c9589c614f8b8f151e6233a55c36.setContent%28html_083ff15fd8b246a8bd3dad6c99210632%29%3B%0A%20%20%20%20%20%20%20%20%20%20%20%20%0A%0A%20%20%20%20%20%20%20%20%20%20%20%20circle_marker_65668b5bd05f497ea93766f5b1980e68.bindPopup%28popup_b511c9589c614f8b8f151e6233a55c36%29%3B%0A%0A%20%20%20%20%20%20%20%20%20%20%20%20%0A%20%20%20%20%20%20%20%20%0A%3C/script%3E onload=\"this.contentDocument.open();this.contentDocument.write(    decodeURIComponent(this.getAttribute('data-html')));this.contentDocument.close();\" allowfullscreen webkitallowfullscreen mozallowfullscreen></iframe></div></div>"
      ],
      "text/plain": [
       "<folium.folium.Map at 0x1a7e859a0b8>"
      ]
     },
     "execution_count": 155,
     "metadata": {},
     "output_type": "execute_result"
    }
   ],
   "source": [
    "# Make folio map with neighborhoods color-coded by score\n",
    "\n",
    "# create map\n",
    "lat_init = visual_df['Latitude'][0]\n",
    "lng_init = visual_df['Longitude'][0]\n",
    "map_clusters = folium.Map(location=[lat_init, lng_init], zoom_start=12)\n",
    "\n",
    "# add markers to the map\n",
    "markers_colors = []\n",
    "for lat, lon, neighb, score in zip(visual_df['Latitude'], \n",
    "                                  visual_df['Longitude'], \n",
    "                                  visual_df['Neighborhood'], \n",
    "                                  visual_df['Scaled Score']):\n",
    "    try : \n",
    "        score_int = int(score)\n",
    "        score_flt = score / 100.0\n",
    "        # print(score_int, score_flt)\n",
    "    except :\n",
    "        break\n",
    "\n",
    "    label = folium.Popup(str(neighb) + ' Score ' + str(score_int), parse_html=True)\n",
    "    folium.CircleMarker(\n",
    "        [lat, lon],\n",
    "        radius=8,\n",
    "        popup=label,\n",
    "        color=colors.rgb2hex(colormap(score_flt)),\n",
    "        fill=True,\n",
    "        fill_color=colors.rgb2hex(colormap(score_flt)),\n",
    "        fill_opacity=0.7 ).add_to(map_clusters)\n",
    "    \n",
    "    \n",
    "map_clusters"
   ]
  },
  {
   "cell_type": "markdown",
   "metadata": {},
   "source": [
    "Static png image for display: \n",
    "![Ratings of Neighborhoods](ratings01.png)\n"
   ]
  },
  {
   "cell_type": "markdown",
   "metadata": {},
   "source": [
    "## Discussion\n",
    "\n",
    "The location of a home can be a major selling point if the surrounding neighborhood contains amenities desired by the buyers. This project has taken the preferences of two users and used them to compute a personalized neighborhood score for each neighborhood in New Orleans, LA. Based on my knowledge of the city, the scores are accurate; the neighborhoods with a high concentration of restuarants and bars are scored highly, and those with fewer restuarants and bars have a low score. \n",
    "\n",
    "This neighborhood score is similar to a \"[walkability score](https://www.walkscore.com/)\" because the neighborhood radius is only 1 km (0.6 mi; a 12 minute walk for most adults). However, the neighborhood score presented here is personalized to the preference of the user(s), whereas the standard walkability score is not personalized. One potential addition to this project is a \"drivability score\" in which venues at a further distance would be taken into account. \n",
    "\n",
    "In addition to the neighborhood amenities, other factors such as neighborhood safety and school quality are often important to buyers. This information is not available from Foursquare and so will require integration of new data sources and API's into the current program. There is an opportunity to integrate this type of information with current filtering options on real estate websites so that buyers can better narrow down their options.  \n",
    "\n",
    "\n",
    "##### Room for Methodological Improvement\n",
    "\n",
    "- A better category scheme is needed. The categories were taken from Foursquare's website. Sometimes, they seem too detailed, for example, 'Sausage Shop' may not need its own category and could be combined with other 'Grocery' venues. On the other hand,  sometimes the categories are not detailed enough. For example, the 'Church' church category does not contain any information on denomination; if there are 100 Baptist churches but the buyer is Catholic, the neighborhood score will have a false high value. \n",
    "\n",
    "- In order to generalized the program, a consistent source for neighborhood location/boundary data is needed. Sometimes this data can be found in geojson files on a city, but sometimes not. Sometimes this data is on Wikipedia, but sometimes not. Also, the url's for the data sources are currently entered manually. An automated way to find neighborhood data is needed. \n",
    "\n",
    "- Improvements to the scoring function:\n",
    "    - An option for ranked-choice of venue types could be added, then the scored function weighted appropriately.\n",
    "    - The scoring function can give artificially high scores because it is defined to give the best neighborhood a score of 100. Neighborhoods that are overall bad (with a low number of preferred venues) can still look good if the entire city is lacking in the preferred venues. \n",
    " \n",
    "##### Room for Programming Improvement\n",
    "- The number of users should be a variable, not set at two.\n",
    "- The users' preference lists can be combined into a single list immediately, rather than computing separate user scores. \n"
   ]
  },
  {
   "cell_type": "markdown",
   "metadata": {},
   "source": [
    "## Conclusion\n",
    "\n",
    "This project was able to successfully determine neighborhoods with the desired venue types for two users. This project could be combined with current filtering options on real estate websites to help potential buyers more rapidly narrow down their housing option, resulting in saved time for the realtor and increased customer satisfaction for the buyer. "
   ]
  }
 ],
 "metadata": {
  "kernelspec": {
   "display_name": "Python 3",
   "language": "python",
   "name": "python3"
  },
  "language_info": {
   "codemirror_mode": {
    "name": "ipython",
    "version": 3
   },
   "file_extension": ".py",
   "mimetype": "text/x-python",
   "name": "python",
   "nbconvert_exporter": "python",
   "pygments_lexer": "ipython3",
   "version": "3.7.3"
  }
 },
 "nbformat": 4,
 "nbformat_minor": 2
}
